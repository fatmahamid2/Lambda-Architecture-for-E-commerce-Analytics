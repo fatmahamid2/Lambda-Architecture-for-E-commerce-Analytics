{
 "cells": [
  {
   "cell_type": "code",
   "execution_count": null,
   "id": "b2d9540d-5b63-4af9-9f90-6bb5c5ac046e",
   "metadata": {},
   "outputs": [],
   "source": [
    "# pip install googletrans==4.0.0-rc1 --timeout=120\n",
    "# !pip install requests langdetect\n",
    "!pip install argostranslate --timeout 100 # to translate the columns locally"
   ]
  },
  {
   "cell_type": "code",
   "execution_count": 1,
   "id": "7b55d022-5cf1-48cf-ae60-c8e6c27704f6",
   "metadata": {},
   "outputs": [],
   "source": [
    "import os\n",
    "import findspark\n",
    "\n",
    "# Set the Spark installation path\n",
    "os.environ[\"SPARK_HOME\"] = \"/home/elham/hadoop/spark-3.5.5\"  \n",
    "os.environ[\"PYSPARK_PYTHON\"] = \"python3\"  \n",
    "\n",
    "# Initialize findspark\n",
    "findspark.init()"
   ]
  },
  {
   "cell_type": "code",
   "execution_count": 2,
   "id": "6efb64f3-bc4a-4527-8025-9890052050b3",
   "metadata": {},
   "outputs": [],
   "source": [
    "# from googletrans import Translator\n",
    "from pyspark import StorageLevel\n",
    "from pyspark.sql import SparkSession\n",
    "from pyspark.sql.functions import *\n",
    "from pyspark.sql.types import *\n",
    "\n",
    "import pandas as pd\n",
    "import numpy as np\n",
    "\n",
    "import argostranslate.package\n",
    "import argostranslate.translate\n",
    "from argostranslate.translate import translate, package"
   ]
  },
  {
   "cell_type": "code",
   "execution_count": 15,
   "id": "58114ce7-c9b5-4acf-be15-62e52c6d7ea9",
   "metadata": {},
   "outputs": [
    {
     "data": {
      "text/html": [
       "<style>pre { white-space: pre !important; }</style>"
      ],
      "text/plain": [
       "<IPython.core.display.HTML object>"
      ]
     },
     "metadata": {},
     "output_type": "display_data"
    }
   ],
   "source": [
    "## To display notebook cell with horizontal scroll bar\n",
    "from IPython.display import display, HTML\n",
    "display(HTML(\"<style>pre { white-space: pre !important; }</style>\"))"
   ]
  },
  {
   "cell_type": "code",
   "execution_count": 3,
   "id": "94e8abda-024a-4e01-acee-41176c79e8c5",
   "metadata": {},
   "outputs": [],
   "source": [
    "# getting all the available translation packages\n",
    "packages = argostranslate.package.get_available_packages()\n",
    "\n",
    "# specifying the languages\n",
    "package = next(p for p in packages if p.from_code == \"pt\" and p.to_code == \"en\")\n",
    "\n",
    "download_path = package.download()\n",
    "argostranslate.package.install_from_path(download_path)"
   ]
  },
  {
   "cell_type": "code",
   "execution_count": 4,
   "id": "d168ff0f-0b87-422f-8dc8-9631e1764f49",
   "metadata": {},
   "outputs": [
    {
     "name": "stderr",
     "output_type": "stream",
     "text": [
      "25/04/13 12:42:48 WARN Utils: Your hostname, DESKTOP-CKKDTOM resolves to a loopback address: 127.0.1.1; using 172.30.19.133 instead (on interface eth0)\n",
      "25/04/13 12:42:48 WARN Utils: Set SPARK_LOCAL_IP if you need to bind to another address\n",
      "25/04/13 12:42:49 WARN NativeCodeLoader: Unable to load native-hadoop library for your platform... using builtin-java classes where applicable\n",
      "Setting default log level to \"WARN\".\n",
      "To adjust logging level use sc.setLogLevel(newLevel). For SparkR, use setLogLevel(newLevel).\n"
     ]
    }
   ],
   "source": [
    "# Replace with the path to your PostgreSQL JDBC jar file\n",
    "jdbc_driver_path = \"/home/elham/hadoop/spark-3.5.5/jars/postgresql-42.3.5.jar\"\n",
    "\n",
    "# starting spark session\n",
    "spark = SparkSession.builder \\\n",
    "    .appName(\"Order Reviews ETL\") \\\n",
    "    .config(\"spark.jars\", jdbc_driver_path) \\\n",
    "    .config(\"spark.executor.memory\", \"2g\") \\\n",
    "    .config(\"spark.driver.memory\", \"2g\") \\\n",
    "    .config(\"spark.sql.shuffle.partitions\", \"16\") \\\n",
    "    .config(\"spark.sql.execution.arrow.pyspark.enabled\", \"true\") \\\n",
    "    .getOrCreate()"
   ]
  },
  {
   "cell_type": "code",
   "execution_count": 5,
   "id": "8c02e1db-167f-45f7-a217-2c6f92412f40",
   "metadata": {},
   "outputs": [],
   "source": [
    "jdbc_url = \"jdbc:postgresql://172.30.16.1:5432/olist_ecommerce\"\n",
    "properties = {\n",
    "    \"user\": \"postgres\",\n",
    "    \"password\": \"31012009\",\n",
    "    \"driver\": \"org.postgresql.Driver\"\n",
    "}"
   ]
  },
  {
   "cell_type": "code",
   "execution_count": 6,
   "id": "bd597fda-6eb7-4fdf-a7cf-ef91ab4a1e2f",
   "metadata": {
    "scrolled": true
   },
   "outputs": [
    {
     "name": "stdout",
     "output_type": "stream",
     "text": [
      "root\n",
      " |-- review_id: string (nullable = true)\n",
      " |-- order_id: string (nullable = true)\n",
      " |-- review_score: integer (nullable = true)\n",
      " |-- review_comment_title: string (nullable = true)\n",
      " |-- review_comment_message: string (nullable = true)\n",
      " |-- review_creation_date: timestamp (nullable = true)\n",
      " |-- review_answer_timestamp: timestamp (nullable = true)\n",
      "\n"
     ]
    }
   ],
   "source": [
    "df = spark.read.jdbc(url=jdbc_url, table=\"order_reviews\", properties=properties)\n",
    "df.printSchema()"
   ]
  },
  {
   "cell_type": "code",
   "execution_count": 7,
   "id": "fdb434da-dd11-4be4-8522-20908a2a1ac8",
   "metadata": {},
   "outputs": [
    {
     "name": "stderr",
     "output_type": "stream",
     "text": [
      "                                                                                "
     ]
    },
    {
     "name": "stdout",
     "output_type": "stream",
     "text": [
      "+--------------------+--------------------+------------+--------------------+----------------------+--------------------+-----------------------+\n",
      "|           review_id|            order_id|review_score|review_comment_title|review_comment_message|review_creation_date|review_answer_timestamp|\n",
      "+--------------------+--------------------+------------+--------------------+----------------------+--------------------+-----------------------+\n",
      "|7bc2406110b926393...|73fc7af87114b3971...|           4|                NULL|                  NULL| 2018-01-18 00:00:00|    2018-01-18 21:46:00|\n",
      "|80e641a11e56f04c1...|a548910a1c6147796...|           5|                NULL|                  NULL| 2018-03-10 00:00:00|    2018-03-11 03:05:00|\n",
      "|228ce5500dc1d8e02...|f9e4b658b201a9f2e...|           5|                NULL|                  NULL| 2018-02-17 00:00:00|    2018-02-18 14:36:00|\n",
      "|e64fb393e7b32834b...|658677c97b385a9be...|           5|                NULL|  Recebi bem antes ...| 2017-04-21 00:00:00|    2017-04-21 22:02:00|\n",
      "|f7c4243c7fe1938f1...|8e6bfb81e283fa7e4...|           5|                NULL|  Parabéns lojas la...| 2018-03-01 00:00:00|    2018-03-02 10:26:00|\n",
      "|15197aa66ff4d0650...|b18dcdf73be663668...|           1|                NULL|                  NULL| 2018-04-13 00:00:00|    2018-04-16 00:39:00|\n",
      "|07f9bee5d1b850860...|e48aa0d2dcec3a2e8...|           5|                NULL|                  NULL| 2017-07-16 00:00:00|    2017-07-18 19:30:00|\n",
      "|7c6400515c67679fb...|c31a859e34e3adac2...|           5|                NULL|                  NULL| 2018-08-14 00:00:00|    2018-08-14 21:36:00|\n",
      "|a3f6f7f6f433de0ae...|9c214ac970e842735...|           5|                NULL|                  NULL| 2017-05-17 00:00:00|    2017-05-18 12:05:00|\n",
      "|8670d52e15e00043a...|b9bf720beb4ab3728...|           4|           recomendo|  aparelho eficient...| 2018-05-22 00:00:00|    2018-05-23 16:45:00|\n",
      "+--------------------+--------------------+------------+--------------------+----------------------+--------------------+-----------------------+\n",
      "only showing top 10 rows\n",
      "\n"
     ]
    }
   ],
   "source": [
    "df.show(10)"
   ]
  },
  {
   "cell_type": "code",
   "execution_count": 8,
   "id": "7daac6d6-7cc0-43bb-8bd7-2e709bf97ba9",
   "metadata": {},
   "outputs": [
    {
     "name": "stderr",
     "output_type": "stream",
     "text": [
      "                                                                                "
     ]
    },
    {
     "data": {
      "text/plain": [
       "98410"
      ]
     },
     "execution_count": 8,
     "metadata": {},
     "output_type": "execute_result"
    }
   ],
   "source": [
    "df.count()"
   ]
  },
  {
   "cell_type": "code",
   "execution_count": 9,
   "id": "5b01ab98-876b-4c3c-ac9b-b0258048bdcc",
   "metadata": {},
   "outputs": [
    {
     "data": {
      "text/plain": [
       "['review_id',\n",
       " 'order_id',\n",
       " 'review_score',\n",
       " 'review_comment_title',\n",
       " 'review_comment_message',\n",
       " 'review_creation_date',\n",
       " 'review_answer_timestamp']"
      ]
     },
     "execution_count": 9,
     "metadata": {},
     "output_type": "execute_result"
    }
   ],
   "source": [
    "df.columns"
   ]
  },
  {
   "cell_type": "code",
   "execution_count": 10,
   "id": "36b2e5e7-5872-4c2c-96fe-04628dc49d83",
   "metadata": {},
   "outputs": [],
   "source": [
    "# Renaming Columns\n",
    "df = df.withColumnRenamed(\"review_comment_title\", \"review_title\")\n",
    "df = df.withColumnRenamed(\"review_comment_message\", \"review_message\")"
   ]
  },
  {
   "cell_type": "code",
   "execution_count": 11,
   "id": "2570c6e3-f855-4b6b-9741-a18e6275c637",
   "metadata": {
    "scrolled": true
   },
   "outputs": [
    {
     "name": "stderr",
     "output_type": "stream",
     "text": [
      "25/04/13 12:44:08 WARN SparkStringUtils: Truncated the string representation of a plan since it was too large. This behavior can be adjusted by setting 'spark.sql.debug.maxToStringFields'.\n",
      "[Stage 4:>                                                          (0 + 1) / 1]"
     ]
    },
    {
     "name": "stdout",
     "output_type": "stream",
     "text": [
      "+-------+--------------------+--------------------+-----------------+--------------------+--------------------+\n",
      "|summary|           review_id|            order_id|     review_score|        review_title|      review_message|\n",
      "+-------+--------------------+--------------------+-----------------+--------------------+--------------------+\n",
      "|  count|               98410|               98410|            98410|               11519|               40668|\n",
      "|   mean|                NULL|                NULL|4.088801951021238|3.175483995866666...|   8.172413793103448|\n",
      "| stddev|                NULL|                NULL|1.345757637797199| 5.63435692112386E11|  3.1175650470615843|\n",
      "|    min|0001239bc1de2e33c...|00010242fe8c5a6d1...|                1|                    |                \\r\\n|\n",
      "|    max|fffefe7a48d22f7b3...|fffe41c64501cc87c...|                5|                 🔟 |😡😡😡😡😡👎👎👎?...|\n",
      "+-------+--------------------+--------------------+-----------------+--------------------+--------------------+\n",
      "\n"
     ]
    },
    {
     "name": "stderr",
     "output_type": "stream",
     "text": [
      "                                                                                "
     ]
    }
   ],
   "source": [
    "df.describe().show()"
   ]
  },
  {
   "cell_type": "code",
   "execution_count": 12,
   "id": "3a8fde98-e931-4d95-a04d-aa08f0a6a3f1",
   "metadata": {
    "scrolled": true
   },
   "outputs": [
    {
     "name": "stderr",
     "output_type": "stream",
     "text": [
      "[Stage 7:>                                                          (0 + 1) / 1]"
     ]
    },
    {
     "name": "stdout",
     "output_type": "stream",
     "text": [
      "+--------------+-------------+-----------------+-----------------+-------------------+-------------------------+----------------------------+\n",
      "|review_id_null|order_id_null|review_score_null|review_title_null|review_message_null|review_creation_date_null|review_answer_timestamp_null|\n",
      "+--------------+-------------+-----------------+-----------------+-------------------+-------------------------+----------------------------+\n",
      "|             0|            0|                0|            86891|              57742|                        0|                           0|\n",
      "+--------------+-------------+-----------------+-----------------+-------------------+-------------------------+----------------------------+\n",
      "\n"
     ]
    },
    {
     "name": "stderr",
     "output_type": "stream",
     "text": [
      "                                                                                "
     ]
    }
   ],
   "source": [
    "# checking the amount of null values in each column\n",
    "df.select([sum(col(c).isNull().cast(\"int\")).alias(c+\"_null\") for c in df.columns]).show()"
   ]
  },
  {
   "cell_type": "code",
   "execution_count": 17,
   "id": "aadac847-61ba-4439-b585-26a68ce33643",
   "metadata": {},
   "outputs": [],
   "source": [
    "# replacing null values with placeholders\n",
    "df = df.fillna({\n",
    "    \"review_title\": \"No Title\",\n",
    "    \"review_message\": \"No Comment\"\n",
    "})"
   ]
  },
  {
   "cell_type": "code",
   "execution_count": 18,
   "id": "256c8178-8b3e-459d-b8b5-40e536e9b2ce",
   "metadata": {
    "scrolled": true
   },
   "outputs": [
    {
     "name": "stdout",
     "output_type": "stream",
     "text": [
      "+--------------------+--------------------+------------+--------------------+--------------------+--------------------+-----------------------+\n",
      "|           review_id|            order_id|review_score|        review_title|      review_message|review_creation_date|review_answer_timestamp|\n",
      "+--------------------+--------------------+------------+--------------------+--------------------+--------------------+-----------------------+\n",
      "|7bc2406110b926393...|73fc7af87114b3971...|           4|            No Title|          No Comment| 2018-01-18 00:00:00|    2018-01-18 21:46:00|\n",
      "|80e641a11e56f04c1...|a548910a1c6147796...|           5|            No Title|          No Comment| 2018-03-10 00:00:00|    2018-03-11 03:05:00|\n",
      "|228ce5500dc1d8e02...|f9e4b658b201a9f2e...|           5|            No Title|          No Comment| 2018-02-17 00:00:00|    2018-02-18 14:36:00|\n",
      "|e64fb393e7b32834b...|658677c97b385a9be...|           5|            No Title|Recebi bem antes ...| 2017-04-21 00:00:00|    2017-04-21 22:02:00|\n",
      "|f7c4243c7fe1938f1...|8e6bfb81e283fa7e4...|           5|            No Title|Parabéns lojas la...| 2018-03-01 00:00:00|    2018-03-02 10:26:00|\n",
      "|15197aa66ff4d0650...|b18dcdf73be663668...|           1|            No Title|          No Comment| 2018-04-13 00:00:00|    2018-04-16 00:39:00|\n",
      "|07f9bee5d1b850860...|e48aa0d2dcec3a2e8...|           5|            No Title|          No Comment| 2017-07-16 00:00:00|    2017-07-18 19:30:00|\n",
      "|7c6400515c67679fb...|c31a859e34e3adac2...|           5|            No Title|          No Comment| 2018-08-14 00:00:00|    2018-08-14 21:36:00|\n",
      "|a3f6f7f6f433de0ae...|9c214ac970e842735...|           5|            No Title|          No Comment| 2017-05-17 00:00:00|    2017-05-18 12:05:00|\n",
      "|8670d52e15e00043a...|b9bf720beb4ab3728...|           4|           recomendo|aparelho eficient...| 2018-05-22 00:00:00|    2018-05-23 16:45:00|\n",
      "|c9cfd2d5ab5911836...|cdf9aa68e72324eeb...|           5|            No Title|          No Comment| 2017-12-23 00:00:00|    2017-12-26 14:36:00|\n",
      "|96052551d87e5f62e...|3d374c9e46530bb5e...|           5|            No Title|          No Comment| 2017-12-19 00:00:00|    2017-12-20 10:25:00|\n",
      "|4b49719c8a200003f...|9d6f15f95d01e79bd...|           4|            No Title|Mas um pouco ,tra...| 2018-02-16 00:00:00|    2018-02-20 10:52:00|\n",
      "|23f75a37effc35d9a...|2eaf8e099d871cd5c...|           4|            No Title|          No Comment| 2018-03-28 00:00:00|    2018-03-30 15:10:00|\n",
      "|9a0abbb668bafb95a...|d7bd0e4afdf94846e...|           3|            No Title|          No Comment| 2017-04-30 00:00:00|    2017-05-03 00:02:00|\n",
      "|3948b09f7c818e2d8...|e51478e7e277a8374...|           5|     Super recomendo|Vendedor confiáve...| 2018-05-23 00:00:00|    2018-05-24 03:00:00|\n",
      "|9314d6f9799f5bfba...|0dacf04c5ad59fd5a...|           2|            No Title|GOSTARIA DE SABER...| 2018-01-18 00:00:00|    2018-01-20 21:25:00|\n",
      "|8e15a274d95600fa1...|ff1581e08b3011021...|           5|            No Title|          No Comment| 2018-03-24 00:00:00|    2018-03-26 15:58:00|\n",
      "|fdbdb2629a7cde0f6...|70a752414a13d09cc...|           3|            No Title|          No Comment| 2017-09-29 00:00:00|    2017-10-02 01:12:00|\n",
      "|373cbeecea8286a2b...|583174fbe37d3d5f0...|           1|Não chegou meu pr...|             Péssimo| 2018-08-15 00:00:00|    2018-08-15 04:10:00|\n",
      "+--------------------+--------------------+------------+--------------------+--------------------+--------------------+-----------------------+\n",
      "only showing top 20 rows\n",
      "\n"
     ]
    },
    {
     "name": "stderr",
     "output_type": "stream",
     "text": [
      "                                                                                "
     ]
    }
   ],
   "source": [
    "df.show()"
   ]
  },
  {
   "cell_type": "code",
   "execution_count": 19,
   "id": "4b6cde52-970b-4cba-bea9-edaa0ce737b0",
   "metadata": {},
   "outputs": [],
   "source": [
    "# cleaning strings by making it all lowercase, removing extra spaces at the beginning and ending and replacing any extra spaces that might exist \n",
    "df = df.withColumn(\"review_title\", lower(trim(regexp_replace(\"review_title\", r'\\s+', ' '))))\n",
    "df = df.withColumn(\"review_message\", lower(trim(regexp_replace(\"review_message\", r'\\s+', ' '))))"
   ]
  },
  {
   "cell_type": "code",
   "execution_count": 16,
   "id": "80946c3b-2288-4d25-802b-8f5aa0dac6c0",
   "metadata": {},
   "outputs": [
    {
     "name": "stdout",
     "output_type": "stream",
     "text": [
      "+--------------------+--------------------+------------+--------------------+--------------------+--------------------+-----------------------+\n",
      "|           review_id|            order_id|review_score|        review_title|      review_message|review_creation_date|review_answer_timestamp|\n",
      "+--------------------+--------------------+------------+--------------------+--------------------+--------------------+-----------------------+\n",
      "|7bc2406110b926393...|73fc7af87114b3971...|           4|            no title|          no comment| 2018-01-18 00:00:00|    2018-01-18 21:46:00|\n",
      "|80e641a11e56f04c1...|a548910a1c6147796...|           5|            no title|          no comment| 2018-03-10 00:00:00|    2018-03-11 03:05:00|\n",
      "|228ce5500dc1d8e02...|f9e4b658b201a9f2e...|           5|            no title|          no comment| 2018-02-17 00:00:00|    2018-02-18 14:36:00|\n",
      "|e64fb393e7b32834b...|658677c97b385a9be...|           5|            no title|recebi bem antes ...| 2017-04-21 00:00:00|    2017-04-21 22:02:00|\n",
      "|f7c4243c7fe1938f1...|8e6bfb81e283fa7e4...|           5|            no title|parabéns lojas la...| 2018-03-01 00:00:00|    2018-03-02 10:26:00|\n",
      "|15197aa66ff4d0650...|b18dcdf73be663668...|           1|            no title|          no comment| 2018-04-13 00:00:00|    2018-04-16 00:39:00|\n",
      "|07f9bee5d1b850860...|e48aa0d2dcec3a2e8...|           5|            no title|          no comment| 2017-07-16 00:00:00|    2017-07-18 19:30:00|\n",
      "|7c6400515c67679fb...|c31a859e34e3adac2...|           5|            no title|          no comment| 2018-08-14 00:00:00|    2018-08-14 21:36:00|\n",
      "|a3f6f7f6f433de0ae...|9c214ac970e842735...|           5|            no title|          no comment| 2017-05-17 00:00:00|    2017-05-18 12:05:00|\n",
      "|8670d52e15e00043a...|b9bf720beb4ab3728...|           4|           recomendo|aparelho eficient...| 2018-05-22 00:00:00|    2018-05-23 16:45:00|\n",
      "|c9cfd2d5ab5911836...|cdf9aa68e72324eeb...|           5|            no title|          no comment| 2017-12-23 00:00:00|    2017-12-26 14:36:00|\n",
      "|96052551d87e5f62e...|3d374c9e46530bb5e...|           5|            no title|          no comment| 2017-12-19 00:00:00|    2017-12-20 10:25:00|\n",
      "|4b49719c8a200003f...|9d6f15f95d01e79bd...|           4|            no title|mas um pouco ,tra...| 2018-02-16 00:00:00|    2018-02-20 10:52:00|\n",
      "|23f75a37effc35d9a...|2eaf8e099d871cd5c...|           4|            no title|          no comment| 2018-03-28 00:00:00|    2018-03-30 15:10:00|\n",
      "|9a0abbb668bafb95a...|d7bd0e4afdf94846e...|           3|            no title|          no comment| 2017-04-30 00:00:00|    2017-05-03 00:02:00|\n",
      "|3948b09f7c818e2d8...|e51478e7e277a8374...|           5|     super recomendo|vendedor confiáve...| 2018-05-23 00:00:00|    2018-05-24 03:00:00|\n",
      "|9314d6f9799f5bfba...|0dacf04c5ad59fd5a...|           2|            no title|gostaria de saber...| 2018-01-18 00:00:00|    2018-01-20 21:25:00|\n",
      "|8e15a274d95600fa1...|ff1581e08b3011021...|           5|            no title|          no comment| 2018-03-24 00:00:00|    2018-03-26 15:58:00|\n",
      "|fdbdb2629a7cde0f6...|70a752414a13d09cc...|           3|            no title|          no comment| 2017-09-29 00:00:00|    2017-10-02 01:12:00|\n",
      "|373cbeecea8286a2b...|583174fbe37d3d5f0...|           1|não chegou meu pr...|             péssimo| 2018-08-15 00:00:00|    2018-08-15 04:10:00|\n",
      "+--------------------+--------------------+------------+--------------------+--------------------+--------------------+-----------------------+\n",
      "only showing top 20 rows\n",
      "\n"
     ]
    }
   ],
   "source": [
    "df.show()"
   ]
  },
  {
   "cell_type": "code",
   "execution_count": 20,
   "id": "0dd21e6a-7460-44c9-b3af-1cca2721cfb2",
   "metadata": {},
   "outputs": [
    {
     "name": "stdout",
     "output_type": "stream",
     "text": [
      "+--------------------------------+--------------------------------+------------+----------------------+------------------------------------------------------------------------------------------------------------------------------------------------------------------------------+--------------------+-----------------------+\n",
      "|review_id                       |order_id                        |review_score|review_title          |review_message                                                                                                                                                                |review_creation_date|review_answer_timestamp|\n",
      "+--------------------------------+--------------------------------+------------+----------------------+------------------------------------------------------------------------------------------------------------------------------------------------------------------------------+--------------------+-----------------------+\n",
      "|7bc2406110b926393aa56f80a40eba40|73fc7af87114b39712e6da79b0a377eb|4           |no title              |no comment                                                                                                                                                                    |2018-01-18 00:00:00 |2018-01-18 21:46:00    |\n",
      "|80e641a11e56f04c1ad469d5645fdfde|a548910a1c6147796b98fdf73dbeba33|5           |no title              |no comment                                                                                                                                                                    |2018-03-10 00:00:00 |2018-03-11 03:05:00    |\n",
      "|228ce5500dc1d8e020d8d1322874b6f0|f9e4b658b201a9f2ecdecbb34bed034b|5           |no title              |no comment                                                                                                                                                                    |2018-02-17 00:00:00 |2018-02-18 14:36:00    |\n",
      "|e64fb393e7b32834bb789ff8bb30750e|658677c97b385a9be170737859d3511b|5           |no title              |recebi bem antes do prazo estipulado.                                                                                                                                         |2017-04-21 00:00:00 |2017-04-21 22:02:00    |\n",
      "|f7c4243c7fe1938f181bec41a392bdeb|8e6bfb81e283fa7e4f11123a3fb894f1|5           |no title              |parabéns lojas lannister adorei comprar pela internet seguro e prático parabéns a todos feliz páscoa                                                                          |2018-03-01 00:00:00 |2018-03-02 10:26:00    |\n",
      "|15197aa66ff4d0650b5434f1b46cda19|b18dcdf73be66366873cd26c5724d1dc|1           |no title              |no comment                                                                                                                                                                    |2018-04-13 00:00:00 |2018-04-16 00:39:00    |\n",
      "|07f9bee5d1b850860defd761afa7ff16|e48aa0d2dcec3a2e87348811bcfdf22b|5           |no title              |no comment                                                                                                                                                                    |2017-07-16 00:00:00 |2017-07-18 19:30:00    |\n",
      "|7c6400515c67679fbee952a7525281ef|c31a859e34e3adac22f376954e19b39d|5           |no title              |no comment                                                                                                                                                                    |2018-08-14 00:00:00 |2018-08-14 21:36:00    |\n",
      "|a3f6f7f6f433de0aefbb97da197c554c|9c214ac970e84273583ab523dfafd09b|5           |no title              |no comment                                                                                                                                                                    |2017-05-17 00:00:00 |2017-05-18 12:05:00    |\n",
      "|8670d52e15e00043ae7de4c01cc2fe06|b9bf720beb4ab3728760088589c62129|4           |recomendo             |aparelho eficiente. no site a marca do aparelho esta impresso como 3desinfector e ao chegar esta com outro nome...atualizar com a marca correta uma vez que é o mesmo aparelho|2018-05-22 00:00:00 |2018-05-23 16:45:00    |\n",
      "|c9cfd2d5ab5911836ababae136c3a10c|cdf9aa68e72324eeb25c7de974696ee2|5           |no title              |no comment                                                                                                                                                                    |2017-12-23 00:00:00 |2017-12-26 14:36:00    |\n",
      "|96052551d87e5f62e6c9f6974ec392e9|3d374c9e46530bb5ed4a7648915306a6|5           |no title              |no comment                                                                                                                                                                    |2017-12-19 00:00:00 |2017-12-20 10:25:00    |\n",
      "|4b49719c8a200003f700d3d986ea1a19|9d6f15f95d01e79bd1349cc208361f09|4           |no title              |mas um pouco travando...pelo valor ta boa.                                                                                                                                    |2018-02-16 00:00:00 |2018-02-20 10:52:00    |\n",
      "|23f75a37effc35d9a915b4e1ad483793|2eaf8e099d871cd5c22b83b5ea8f6e0e|4           |no title              |no comment                                                                                                                                                                    |2018-03-28 00:00:00 |2018-03-30 15:10:00    |\n",
      "|9a0abbb668bafb95a6d2b05db43284c4|d7bd0e4afdf94846eb73642b4e3e75c3|3           |no title              |no comment                                                                                                                                                                    |2017-04-30 00:00:00 |2017-05-03 00:02:00    |\n",
      "|3948b09f7c818e2d86c9a546758b2335|e51478e7e277a83743b6f9991dbfa3fb|5           |super recomendo       |vendedor confiável produto ok e entrega antes do prazo.                                                                                                                       |2018-05-23 00:00:00 |2018-05-24 03:00:00    |\n",
      "|9314d6f9799f5bfba510cc7bcd468c01|0dacf04c5ad59fd5a0cc1faa07c34e39|2           |no title              |gostaria de saber o que houve sempre recebi e essa compra agora me decpcionou                                                                                                 |2018-01-18 00:00:00 |2018-01-20 21:25:00    |\n",
      "|8e15a274d95600fa14f8be64e37a0e67|ff1581e08b3011021e7c7de592ddc81e|5           |no title              |no comment                                                                                                                                                                    |2018-03-24 00:00:00 |2018-03-26 15:58:00    |\n",
      "|fdbdb2629a7cde0f66657acc92084e7f|70a752414a13d09cc1f2b437b914b28e|3           |no title              |no comment                                                                                                                                                                    |2017-09-29 00:00:00 |2017-10-02 01:12:00    |\n",
      "|373cbeecea8286a2b66c97b1b157ec46|583174fbe37d3d5f0d6661be3aad1786|1           |não chegou meu produto|péssimo                                                                                                                                                                       |2018-08-15 00:00:00 |2018-08-15 04:10:00    |\n",
      "+--------------------------------+--------------------------------+------------+----------------------+------------------------------------------------------------------------------------------------------------------------------------------------------------------------------+--------------------+-----------------------+\n",
      "only showing top 20 rows\n",
      "\n"
     ]
    }
   ],
   "source": [
    "# removing commas from string columns\n",
    "for column, dtype in df.dtypes:\n",
    "    if dtype == \"string\":\n",
    "        df = df.withColumn(column, regexp_replace(col(column), \",\", \"\"))\n",
    "\n",
    "# Optional: Show cleaned data\n",
    "df.show(truncate=False)"
   ]
  },
  {
   "cell_type": "code",
   "execution_count": 21,
   "id": "f4dbaa6b-2cce-461e-8063-ad99ee8bd8f6",
   "metadata": {},
   "outputs": [],
   "source": [
    "# adding the column review status derived from the review score column\n",
    "df = df.withColumn(\n",
    "    \"review_status\",\n",
    "     when(col(\"review_score\") >= 4, \"Positive\")\n",
    "      .when(col(\"review_score\") == 3, \"Neutral\")\n",
    "      .otherwise(\"Negative\")\n",
    ")"
   ]
  },
  {
   "cell_type": "code",
   "execution_count": 22,
   "id": "dd390db4-37ea-4416-bca4-d9dc7a0a67bf",
   "metadata": {},
   "outputs": [
    {
     "name": "stdout",
     "output_type": "stream",
     "text": [
      "+--------------------+-------------+\n",
      "|           review_id|review_status|\n",
      "+--------------------+-------------+\n",
      "|7bc2406110b926393...|     Positive|\n",
      "|80e641a11e56f04c1...|     Positive|\n",
      "|228ce5500dc1d8e02...|     Positive|\n",
      "|e64fb393e7b32834b...|     Positive|\n",
      "|f7c4243c7fe1938f1...|     Positive|\n",
      "|15197aa66ff4d0650...|     Negative|\n",
      "|07f9bee5d1b850860...|     Positive|\n",
      "|7c6400515c67679fb...|     Positive|\n",
      "|a3f6f7f6f433de0ae...|     Positive|\n",
      "|8670d52e15e00043a...|     Positive|\n",
      "|c9cfd2d5ab5911836...|     Positive|\n",
      "|96052551d87e5f62e...|     Positive|\n",
      "|4b49719c8a200003f...|     Positive|\n",
      "|23f75a37effc35d9a...|     Positive|\n",
      "|9a0abbb668bafb95a...|      Neutral|\n",
      "|3948b09f7c818e2d8...|     Positive|\n",
      "|9314d6f9799f5bfba...|     Negative|\n",
      "|8e15a274d95600fa1...|     Positive|\n",
      "|fdbdb2629a7cde0f6...|      Neutral|\n",
      "|373cbeecea8286a2b...|     Negative|\n",
      "+--------------------+-------------+\n",
      "only showing top 20 rows\n",
      "\n"
     ]
    }
   ],
   "source": [
    "df.select(\"review_id\", \"review_status\").show()"
   ]
  },
  {
   "cell_type": "code",
   "execution_count": 26,
   "id": "49408472-d896-4293-854f-ca08f0dce353",
   "metadata": {},
   "outputs": [],
   "source": [
    "df = df.withColumn(\n",
    "    \"SSC\",\n",
    "    lit(1)\n",
    ")"
   ]
  },
  {
   "cell_type": "code",
   "execution_count": 27,
   "id": "4f805aca-3e3c-467f-b2be-f4dec39f5f2c",
   "metadata": {},
   "outputs": [
    {
     "name": "stdout",
     "output_type": "stream",
     "text": [
      "+--------------------+--------------------+------------+--------------------+--------------------+--------------------+-----------------------+-------------+---+\n",
      "|           review_id|            order_id|review_score|        review_title|      review_message|review_creation_date|review_answer_timestamp|review_status|SSC|\n",
      "+--------------------+--------------------+------------+--------------------+--------------------+--------------------+-----------------------+-------------+---+\n",
      "|7bc2406110b926393...|73fc7af87114b3971...|           4|            no title|          no comment| 2018-01-18 00:00:00|    2018-01-18 21:46:00|     Positive|  1|\n",
      "|80e641a11e56f04c1...|a548910a1c6147796...|           5|            no title|          no comment| 2018-03-10 00:00:00|    2018-03-11 03:05:00|     Positive|  1|\n",
      "|228ce5500dc1d8e02...|f9e4b658b201a9f2e...|           5|            no title|          no comment| 2018-02-17 00:00:00|    2018-02-18 14:36:00|     Positive|  1|\n",
      "|e64fb393e7b32834b...|658677c97b385a9be...|           5|            no title|recebi bem antes ...| 2017-04-21 00:00:00|    2017-04-21 22:02:00|     Positive|  1|\n",
      "|f7c4243c7fe1938f1...|8e6bfb81e283fa7e4...|           5|            no title|parabéns lojas la...| 2018-03-01 00:00:00|    2018-03-02 10:26:00|     Positive|  1|\n",
      "|15197aa66ff4d0650...|b18dcdf73be663668...|           1|            no title|          no comment| 2018-04-13 00:00:00|    2018-04-16 00:39:00|     Negative|  1|\n",
      "|07f9bee5d1b850860...|e48aa0d2dcec3a2e8...|           5|            no title|          no comment| 2017-07-16 00:00:00|    2017-07-18 19:30:00|     Positive|  1|\n",
      "|7c6400515c67679fb...|c31a859e34e3adac2...|           5|            no title|          no comment| 2018-08-14 00:00:00|    2018-08-14 21:36:00|     Positive|  1|\n",
      "|a3f6f7f6f433de0ae...|9c214ac970e842735...|           5|            no title|          no comment| 2017-05-17 00:00:00|    2017-05-18 12:05:00|     Positive|  1|\n",
      "|8670d52e15e00043a...|b9bf720beb4ab3728...|           4|           recomendo|aparelho eficient...| 2018-05-22 00:00:00|    2018-05-23 16:45:00|     Positive|  1|\n",
      "|c9cfd2d5ab5911836...|cdf9aa68e72324eeb...|           5|            no title|          no comment| 2017-12-23 00:00:00|    2017-12-26 14:36:00|     Positive|  1|\n",
      "|96052551d87e5f62e...|3d374c9e46530bb5e...|           5|            no title|          no comment| 2017-12-19 00:00:00|    2017-12-20 10:25:00|     Positive|  1|\n",
      "|4b49719c8a200003f...|9d6f15f95d01e79bd...|           4|            no title|mas um pouco trav...| 2018-02-16 00:00:00|    2018-02-20 10:52:00|     Positive|  1|\n",
      "|23f75a37effc35d9a...|2eaf8e099d871cd5c...|           4|            no title|          no comment| 2018-03-28 00:00:00|    2018-03-30 15:10:00|     Positive|  1|\n",
      "|9a0abbb668bafb95a...|d7bd0e4afdf94846e...|           3|            no title|          no comment| 2017-04-30 00:00:00|    2017-05-03 00:02:00|      Neutral|  1|\n",
      "|3948b09f7c818e2d8...|e51478e7e277a8374...|           5|     super recomendo|vendedor confiáve...| 2018-05-23 00:00:00|    2018-05-24 03:00:00|     Positive|  1|\n",
      "|9314d6f9799f5bfba...|0dacf04c5ad59fd5a...|           2|            no title|gostaria de saber...| 2018-01-18 00:00:00|    2018-01-20 21:25:00|     Negative|  1|\n",
      "|8e15a274d95600fa1...|ff1581e08b3011021...|           5|            no title|          no comment| 2018-03-24 00:00:00|    2018-03-26 15:58:00|     Positive|  1|\n",
      "|fdbdb2629a7cde0f6...|70a752414a13d09cc...|           3|            no title|          no comment| 2017-09-29 00:00:00|    2017-10-02 01:12:00|      Neutral|  1|\n",
      "|373cbeecea8286a2b...|583174fbe37d3d5f0...|           1|não chegou meu pr...|             péssimo| 2018-08-15 00:00:00|    2018-08-15 04:10:00|     Negative|  1|\n",
      "+--------------------+--------------------+------------+--------------------+--------------------+--------------------+-----------------------+-------------+---+\n",
      "only showing top 20 rows\n",
      "\n"
     ]
    },
    {
     "name": "stderr",
     "output_type": "stream",
     "text": [
      "                                                                                "
     ]
    }
   ],
   "source": [
    "df.show()"
   ]
  },
  {
   "cell_type": "code",
   "execution_count": 28,
   "id": "4e4a27b1-5f2c-408e-bfdd-de00551e5aa0",
   "metadata": {},
   "outputs": [
    {
     "name": "stdout",
     "output_type": "stream",
     "text": [
      "\n",
      "Unique values in column 'review_id':\n"
     ]
    },
    {
     "name": "stderr",
     "output_type": "stream",
     "text": [
      "                                                                                "
     ]
    },
    {
     "name": "stdout",
     "output_type": "stream",
     "text": [
      "+--------------------------------+\n",
      "|review_id                       |\n",
      "+--------------------------------+\n",
      "|228ce5500dc1d8e020d8d1322874b6f0|\n",
      "|19a52a2297e5289ab4187d238d335982|\n",
      "|c92cdd7dd544a01aa35137f901669cdf|\n",
      "|b42460e68676135205af8b8c13baf6ae|\n",
      "|c45811d9f90e22a81155b3a1e4a5c2e8|\n",
      "|edfbad2944ea758725486c3bbcd04f49|\n",
      "|46d8249ea59101c7288936c3e6f155d7|\n",
      "|0dc56be1dabd04c994a0fce5478bb16d|\n",
      "|072aa82842434b050889c89a33c699a7|\n",
      "|57e994485c2ebd293e4fa9cd62e5bb96|\n",
      "|ca21ff9bdc64ce15d2be8e09bbc5a115|\n",
      "|06f47dacd0575e592bf6a17e922ce6cd|\n",
      "|a89a2b0c2014bc49a0f87f1eedb7b269|\n",
      "|a36150969fe6bd09ed011dd78aeb0189|\n",
      "|3528296df9092b7a7b88bd036e3f8a8e|\n",
      "|c239d18d7e310e477d5e7b76b362db1d|\n",
      "|31a346e6f2cf783b145080e2f4dc6e32|\n",
      "|f7eb8792e67d53e01a224bfa9b6802b2|\n",
      "|76a2c91e6bf615fe58abe97b55a19ee1|\n",
      "|11caa17c5966423a2f73ded6a13ad638|\n",
      "+--------------------------------+\n",
      "only showing top 20 rows\n",
      "\n",
      "\n",
      "Unique values in column 'order_id':\n"
     ]
    },
    {
     "name": "stderr",
     "output_type": "stream",
     "text": [
      "                                                                                "
     ]
    },
    {
     "name": "stdout",
     "output_type": "stream",
     "text": [
      "+--------------------------------+\n",
      "|order_id                        |\n",
      "+--------------------------------+\n",
      "|658677c97b385a9be170737859d3511b|\n",
      "|c31a859e34e3adac22f376954e19b39d|\n",
      "|84cec4f65c7a4f2f54c294a30224a594|\n",
      "|366df9c0b0d5d46f8afc476dc4ca7671|\n",
      "|a9a75c64cb5e9f7bc92e68ec13f05c45|\n",
      "|a1341cb83bbf1b47392f4a3685d56bad|\n",
      "|46d2d651f006b9b9440d1aa37d89c894|\n",
      "|a6ab143f24e590dc7c72a62bc4eab3af|\n",
      "|b8d7fee0274d75202bee63e9e71fec3f|\n",
      "|201691efe89d4d71f36e5ea279a8759a|\n",
      "|fc8c2e8bc069aea361c41c313464993c|\n",
      "|15c8f741c0b7deafafea8af0f7bb6852|\n",
      "|0bcbcc3e0a09b3f6a9495de35f452616|\n",
      "|e239d280236cdd3c40cb2c033f681d1c|\n",
      "|02bd92abe094825e0683bacaacb64285|\n",
      "|d451da9b109e1786f303924d04ed72a1|\n",
      "|51c7edabb9739b6998ee68efb7e10d31|\n",
      "|a5a83c95ed669b7ba0ddce1d761c191f|\n",
      "|1b82cfd1e6a6d682ee254b2ff4cf387f|\n",
      "|c99763ba8bcad2845131b6e9d2f203fc|\n",
      "+--------------------------------+\n",
      "only showing top 20 rows\n",
      "\n",
      "\n",
      "Unique values in column 'review_score':\n",
      "+------------+\n",
      "|review_score|\n",
      "+------------+\n",
      "|5           |\n",
      "|1           |\n",
      "|3           |\n",
      "|2           |\n",
      "|4           |\n",
      "+------------+\n",
      "\n",
      "\n",
      "Unique values in column 'review_title':\n"
     ]
    },
    {
     "name": "stderr",
     "output_type": "stream",
     "text": [
      "                                                                                "
     ]
    },
    {
     "name": "stdout",
     "output_type": "stream",
     "text": [
      "+------------------------+\n",
      "|review_title            |\n",
      "+------------------------+\n",
      "|ótimo produto!          |\n",
      "|recomendo sempre!!      |\n",
      "|super satisfeita.       |\n",
      "|produto incorreto       |\n",
      "|recomendo!              |\n",
      "|produto otimo!!         |\n",
      "|produto e prazo         |\n",
      "|maquina de tosa         |\n",
      "|embalagem inadequada    |\n",
      "|cortina para sala       |\n",
      "|já solicitei a devolução|\n",
      "|muito satisfeito        |\n",
      "|produto veio sem peça   |\n",
      "|carregador com defeito  |\n",
      "|vc paga e não entregam  |\n",
      "|avaliçao                |\n",
      "|avarias no produto      |\n",
      "|parabéns a equipe!      |\n",
      "|recomendo!!!            |\n",
      "|ótimo custo benefício   |\n",
      "+------------------------+\n",
      "only showing top 20 rows\n",
      "\n",
      "\n",
      "Unique values in column 'review_message':\n"
     ]
    },
    {
     "name": "stderr",
     "output_type": "stream",
     "text": [
      "                                                                                "
     ]
    },
    {
     "name": "stdout",
     "output_type": "stream",
     "text": [
      "+-------------------------------------------------------------------------------------------------------------------------------------------------------------------------------------------+\n",
      "|review_message                                                                                                                                                                             |\n",
      "+-------------------------------------------------------------------------------------------------------------------------------------------------------------------------------------------+\n",
      "|chegou apenas uma peça mas na nota e na garantia constam as duas joias.                                                                                                                    |\n",
      "|atendeu minha expectativa.                                                                                                                                                                 |\n",
      "|o meu produto não chegou... segundo o rastreio está parado em ribeirão preto sp...                                                                                                         |\n",
      "|produto deu defeito na 1 vez de uso.                                                                                                                                                       |\n",
      "|muito satisfeito                                                                                                                                                                           |\n",
      "|cancelaram a minha compra um dia antes da entrega liguei para a lannister e os atendentes não sabiam o que estava acontecendo uma bagunça agora estou esperando para ver se vai ser cobrado|\n",
      "|entrega super rápida parabéns!                                                                                                                                                             |\n",
      "|recebi meu produto corretamente e dentro do prazoverificando na caixa esta tudo corretomas ainda não montei.produto lindocor perfeitaamamos. super recomendo.                              |\n",
      "|parabéns .produto entregue bem antes do prazo.atendeu às minhas necessidades.                                                                                                              |\n",
      "|o produto chegou bem antes do prazo estipulado amei o atendimento! super recomendo                                                                                                         |\n",
      "|produto entregue conforme anunciado.                                                                                                                                                       |\n",
      "|recebe apenas 01 peça do produto! estou precisando da 2 peças restante!                                                                                                                    |\n",
      "|a loja postou o produto de e mediato o correio demorou um pouco                                                                                                                            |\n",
      "|tudo ok!                                                                                                                                                                                   |\n",
      "|quando instalei o cartucho de tinta a minha impressora indicou que o mesmo estava vazio e apresentou a mensagem de erro \"!\" em cima do marcador de nível da tinta. já solicitei a troca.   |\n",
      "|fiquei feliz com. o tecido mas acho que faltou o lençol de cima para ficar completo  espero que logo lancem.                                                                               |\n",
      "|comprei o produto na cor preta e chegou na cor vermelha.                                                                                                                                   |\n",
      "|produto chegou dentro do prazo. veio conforme descrição e é excelente.                                                                                                                     |\n",
      "|ótima compra. ótimo produto. só senti falta de algum comunicado entre a compra e a chegada do produto só contato. mas valeu.                                                               |\n",
      "|produto chegou dentro do prazo. atende pelo custo benefício porém a bolsa não é forrada e a alça é de plástico. estou satisfeita.                                                          |\n",
      "+-------------------------------------------------------------------------------------------------------------------------------------------------------------------------------------------+\n",
      "only showing top 20 rows\n",
      "\n",
      "\n",
      "Unique values in column 'review_creation_date':\n"
     ]
    },
    {
     "name": "stderr",
     "output_type": "stream",
     "text": [
      "                                                                                "
     ]
    },
    {
     "name": "stdout",
     "output_type": "stream",
     "text": [
      "+--------------------+\n",
      "|review_creation_date|\n",
      "+--------------------+\n",
      "|2017-12-15 00:00:00 |\n",
      "|2018-05-10 00:00:00 |\n",
      "|2018-06-03 00:00:00 |\n",
      "|2018-03-08 00:00:00 |\n",
      "|2017-09-17 00:00:00 |\n",
      "|2018-02-01 00:00:00 |\n",
      "|2017-08-18 00:00:00 |\n",
      "|2017-12-29 00:00:00 |\n",
      "|2017-04-06 00:00:00 |\n",
      "|2018-05-05 00:00:00 |\n",
      "|2018-05-12 00:00:00 |\n",
      "|2018-07-04 00:00:00 |\n",
      "|2017-07-26 00:00:00 |\n",
      "|2017-05-16 00:00:00 |\n",
      "|2017-10-03 00:00:00 |\n",
      "|2017-04-20 00:00:00 |\n",
      "|2018-01-13 00:00:00 |\n",
      "|2018-05-04 00:00:00 |\n",
      "|2017-06-21 00:00:00 |\n",
      "|2017-11-28 00:00:00 |\n",
      "+--------------------+\n",
      "only showing top 20 rows\n",
      "\n",
      "\n",
      "Unique values in column 'review_answer_timestamp':\n",
      "+-----------------------+\n",
      "|review_answer_timestamp|\n",
      "+-----------------------+\n",
      "|2018-08-14 21:36:00    |\n",
      "|2018-08-11 00:22:00    |\n",
      "|2017-08-01 18:43:00    |\n",
      "|2018-06-19 17:44:00    |\n",
      "|2018-01-14 22:44:00    |\n",
      "|2018-02-23 11:06:00    |\n",
      "|2018-03-31 03:25:00    |\n",
      "|2018-01-30 18:19:00    |\n",
      "|2018-08-03 04:55:00    |\n",
      "|2018-03-17 02:34:00    |\n",
      "|2018-04-13 11:56:00    |\n",
      "|2017-09-02 00:11:00    |\n",
      "|2018-07-12 22:46:00    |\n",
      "|2018-02-25 11:02:00    |\n",
      "|2018-08-09 05:27:00    |\n",
      "|2018-08-01 18:52:00    |\n",
      "|2018-03-31 12:10:00    |\n",
      "|2018-06-04 00:38:00    |\n",
      "|2017-12-25 13:42:00    |\n",
      "|2017-05-08 17:29:00    |\n",
      "+-----------------------+\n",
      "only showing top 20 rows\n",
      "\n",
      "\n",
      "Unique values in column 'review_status':\n",
      "+-------------+\n",
      "|review_status|\n",
      "+-------------+\n",
      "|Positive     |\n",
      "|Neutral      |\n",
      "|Negative     |\n",
      "+-------------+\n",
      "\n",
      "\n",
      "Unique values in column 'SSC':\n",
      "+---+\n",
      "|SSC|\n",
      "+---+\n",
      "|1  |\n",
      "+---+\n",
      "\n"
     ]
    }
   ],
   "source": [
    "# Loop through all columns and print distinct values\n",
    "for column in df.columns:\n",
    "    print(f\"\\nUnique values in column '{column}':\")\n",
    "    df.select(column).distinct().show(truncate=False)\n"
   ]
  },
  {
   "cell_type": "code",
   "execution_count": 54,
   "id": "43476c1f-aea1-47bb-bff7-6374c918c0c1",
   "metadata": {},
   "outputs": [
    {
     "name": "stderr",
     "output_type": "stream",
     "text": [
      "[Stage 74:>                                                         (0 + 1) / 1]"
     ]
    },
    {
     "name": "stdout",
     "output_type": "stream",
     "text": [
      "+--------------------------------+--------------------------------+------------+----------------------+------------------------------------------------------------------------------------------------------------------------------------------------------------------------------+--------------------+-----------------------+-------------+---+\n",
      "|review_id                       |order_id                        |review_score|review_title          |review_message                                                                                                                                                                |review_creation_date|review_answer_timestamp|review_status|SSC|\n",
      "+--------------------------------+--------------------------------+------------+----------------------+------------------------------------------------------------------------------------------------------------------------------------------------------------------------------+--------------------+-----------------------+-------------+---+\n",
      "|7bc2406110b926393aa56f80a40eba40|73fc7af87114b39712e6da79b0a377eb|4           |no title              |no comment                                                                                                                                                                    |2018-01-18 00:00:00 |2018-01-18 21:46:00    |positive     |1  |\n",
      "|80e641a11e56f04c1ad469d5645fdfde|a548910a1c6147796b98fdf73dbeba33|5           |no title              |no comment                                                                                                                                                                    |2018-03-10 00:00:00 |2018-03-11 03:05:00    |positive     |1  |\n",
      "|228ce5500dc1d8e020d8d1322874b6f0|f9e4b658b201a9f2ecdecbb34bed034b|5           |no title              |no comment                                                                                                                                                                    |2018-02-17 00:00:00 |2018-02-18 14:36:00    |positive     |1  |\n",
      "|e64fb393e7b32834bb789ff8bb30750e|658677c97b385a9be170737859d3511b|5           |no title              |recebi bem antes do prazo estipulado.                                                                                                                                         |2017-04-21 00:00:00 |2017-04-21 22:02:00    |positive     |1  |\n",
      "|f7c4243c7fe1938f181bec41a392bdeb|8e6bfb81e283fa7e4f11123a3fb894f1|5           |no title              |parabéns lojas lannister adorei comprar pela internet seguro e prático parabéns a todos feliz páscoa                                                                          |2018-03-01 00:00:00 |2018-03-02 10:26:00    |positive     |1  |\n",
      "|15197aa66ff4d0650b5434f1b46cda19|b18dcdf73be66366873cd26c5724d1dc|1           |no title              |no comment                                                                                                                                                                    |2018-04-13 00:00:00 |2018-04-16 00:39:00    |negative     |1  |\n",
      "|07f9bee5d1b850860defd761afa7ff16|e48aa0d2dcec3a2e87348811bcfdf22b|5           |no title              |no comment                                                                                                                                                                    |2017-07-16 00:00:00 |2017-07-18 19:30:00    |positive     |1  |\n",
      "|7c6400515c67679fbee952a7525281ef|c31a859e34e3adac22f376954e19b39d|5           |no title              |no comment                                                                                                                                                                    |2018-08-14 00:00:00 |2018-08-14 21:36:00    |positive     |1  |\n",
      "|a3f6f7f6f433de0aefbb97da197c554c|9c214ac970e84273583ab523dfafd09b|5           |no title              |no comment                                                                                                                                                                    |2017-05-17 00:00:00 |2017-05-18 12:05:00    |positive     |1  |\n",
      "|8670d52e15e00043ae7de4c01cc2fe06|b9bf720beb4ab3728760088589c62129|4           |recomendo             |aparelho eficiente. no site a marca do aparelho esta impresso como 3desinfector e ao chegar esta com outro nome...atualizar com a marca correta uma vez que é o mesmo aparelho|2018-05-22 00:00:00 |2018-05-23 16:45:00    |positive     |1  |\n",
      "|c9cfd2d5ab5911836ababae136c3a10c|cdf9aa68e72324eeb25c7de974696ee2|5           |no title              |no comment                                                                                                                                                                    |2017-12-23 00:00:00 |2017-12-26 14:36:00    |positive     |1  |\n",
      "|96052551d87e5f62e6c9f6974ec392e9|3d374c9e46530bb5ed4a7648915306a6|5           |no title              |no comment                                                                                                                                                                    |2017-12-19 00:00:00 |2017-12-20 10:25:00    |positive     |1  |\n",
      "|4b49719c8a200003f700d3d986ea1a19|9d6f15f95d01e79bd1349cc208361f09|4           |no title              |mas um pouco travando...pelo valor ta boa.                                                                                                                                    |2018-02-16 00:00:00 |2018-02-20 10:52:00    |positive     |1  |\n",
      "|23f75a37effc35d9a915b4e1ad483793|2eaf8e099d871cd5c22b83b5ea8f6e0e|4           |no title              |no comment                                                                                                                                                                    |2018-03-28 00:00:00 |2018-03-30 15:10:00    |positive     |1  |\n",
      "|9a0abbb668bafb95a6d2b05db43284c4|d7bd0e4afdf94846eb73642b4e3e75c3|3           |no title              |no comment                                                                                                                                                                    |2017-04-30 00:00:00 |2017-05-03 00:02:00    |neutral      |1  |\n",
      "|3948b09f7c818e2d86c9a546758b2335|e51478e7e277a83743b6f9991dbfa3fb|5           |super recomendo       |vendedor confiável produto ok e entrega antes do prazo.                                                                                                                       |2018-05-23 00:00:00 |2018-05-24 03:00:00    |positive     |1  |\n",
      "|9314d6f9799f5bfba510cc7bcd468c01|0dacf04c5ad59fd5a0cc1faa07c34e39|2           |no title              |gostaria de saber o que houve sempre recebi e essa compra agora me decpcionou                                                                                                 |2018-01-18 00:00:00 |2018-01-20 21:25:00    |negative     |1  |\n",
      "|8e15a274d95600fa14f8be64e37a0e67|ff1581e08b3011021e7c7de592ddc81e|5           |no title              |no comment                                                                                                                                                                    |2018-03-24 00:00:00 |2018-03-26 15:58:00    |positive     |1  |\n",
      "|fdbdb2629a7cde0f66657acc92084e7f|70a752414a13d09cc1f2b437b914b28e|3           |no title              |no comment                                                                                                                                                                    |2017-09-29 00:00:00 |2017-10-02 01:12:00    |neutral      |1  |\n",
      "|373cbeecea8286a2b66c97b1b157ec46|583174fbe37d3d5f0d6661be3aad1786|1           |não chegou meu produto|péssimo                                                                                                                                                                       |2018-08-15 00:00:00 |2018-08-15 04:10:00    |negative     |1  |\n",
      "+--------------------------------+--------------------------------+------------+----------------------+------------------------------------------------------------------------------------------------------------------------------------------------------------------------------+--------------------+-----------------------+-------------+---+\n",
      "only showing top 20 rows\n",
      "\n"
     ]
    },
    {
     "name": "stderr",
     "output_type": "stream",
     "text": [
      "                                                                                "
     ]
    }
   ],
   "source": [
    "# final cleaning data before translation\n",
    "# List of string columns\n",
    "string_columns = [field.name for field in df.schema.fields if field.dataType.simpleString() == 'string']\n",
    "\n",
    "# Clean each string column\n",
    "for col_name in string_columns:\n",
    "    df = df.withColumn(\n",
    "        col_name,\n",
    "        regexp_replace(trim(lower(col(col_name))), r'[\"\\n\\r\\t,]', '')  # removes \", \\n, \\r, \\t, and ,\n",
    "    )\n",
    "\n",
    "df.show(truncate=False)\n"
   ]
  },
  {
   "cell_type": "code",
   "execution_count": 40,
   "id": "c7bee726-5b61-4183-bafa-9577051bddc2",
   "metadata": {},
   "outputs": [],
   "source": [
    "# adding the surrogate key\n",
    "dim_review = df.select(\n",
    "    monotonically_increasing_id().alias(\"review_sk\"),\n",
    "    \"review_id\",\n",
    "    \"order_id\",\n",
    "    \"review_score\",\n",
    "    \"review_title\",\n",
    "    \"review_message\",\n",
    "    \"review_status\",\n",
    "    \"review_creation_date\",\n",
    "    \"review_answer_timestamp\",\n",
    "    \"SSC\"\n",
    "    \n",
    ")"
   ]
  },
  {
   "cell_type": "code",
   "execution_count": 41,
   "id": "ab99e55b-6256-46ed-a32b-f83d85b7d449",
   "metadata": {
    "scrolled": true
   },
   "outputs": [
    {
     "name": "stdout",
     "output_type": "stream",
     "text": [
      "+---------+--------------------+--------------------+------------+--------------------+--------------------+-------------+--------------------+-----------------------+---+\n",
      "|review_sk|           review_id|            order_id|review_score|        review_title|      review_message|review_status|review_creation_date|review_answer_timestamp|SSC|\n",
      "+---------+--------------------+--------------------+------------+--------------------+--------------------+-------------+--------------------+-----------------------+---+\n",
      "|        0|7bc2406110b926393...|73fc7af87114b3971...|           4|            no title|          no comment|     Positive| 2018-01-18 00:00:00|    2018-01-18 21:46:00|  1|\n",
      "|        1|80e641a11e56f04c1...|a548910a1c6147796...|           5|            no title|          no comment|     Positive| 2018-03-10 00:00:00|    2018-03-11 03:05:00|  1|\n",
      "|        2|228ce5500dc1d8e02...|f9e4b658b201a9f2e...|           5|            no title|          no comment|     Positive| 2018-02-17 00:00:00|    2018-02-18 14:36:00|  1|\n",
      "|        3|e64fb393e7b32834b...|658677c97b385a9be...|           5|            no title|recebi bem antes ...|     Positive| 2017-04-21 00:00:00|    2017-04-21 22:02:00|  1|\n",
      "|        4|f7c4243c7fe1938f1...|8e6bfb81e283fa7e4...|           5|            no title|parabéns lojas la...|     Positive| 2018-03-01 00:00:00|    2018-03-02 10:26:00|  1|\n",
      "|        5|15197aa66ff4d0650...|b18dcdf73be663668...|           1|            no title|          no comment|     Negative| 2018-04-13 00:00:00|    2018-04-16 00:39:00|  1|\n",
      "|        6|07f9bee5d1b850860...|e48aa0d2dcec3a2e8...|           5|            no title|          no comment|     Positive| 2017-07-16 00:00:00|    2017-07-18 19:30:00|  1|\n",
      "|        7|7c6400515c67679fb...|c31a859e34e3adac2...|           5|            no title|          no comment|     Positive| 2018-08-14 00:00:00|    2018-08-14 21:36:00|  1|\n",
      "|        8|a3f6f7f6f433de0ae...|9c214ac970e842735...|           5|            no title|          no comment|     Positive| 2017-05-17 00:00:00|    2017-05-18 12:05:00|  1|\n",
      "|        9|8670d52e15e00043a...|b9bf720beb4ab3728...|           4|           recomendo|aparelho eficient...|     Positive| 2018-05-22 00:00:00|    2018-05-23 16:45:00|  1|\n",
      "|       10|c9cfd2d5ab5911836...|cdf9aa68e72324eeb...|           5|            no title|          no comment|     Positive| 2017-12-23 00:00:00|    2017-12-26 14:36:00|  1|\n",
      "|       11|96052551d87e5f62e...|3d374c9e46530bb5e...|           5|            no title|          no comment|     Positive| 2017-12-19 00:00:00|    2017-12-20 10:25:00|  1|\n",
      "|       12|4b49719c8a200003f...|9d6f15f95d01e79bd...|           4|            no title|mas um pouco trav...|     Positive| 2018-02-16 00:00:00|    2018-02-20 10:52:00|  1|\n",
      "|       13|23f75a37effc35d9a...|2eaf8e099d871cd5c...|           4|            no title|          no comment|     Positive| 2018-03-28 00:00:00|    2018-03-30 15:10:00|  1|\n",
      "|       14|9a0abbb668bafb95a...|d7bd0e4afdf94846e...|           3|            no title|          no comment|      Neutral| 2017-04-30 00:00:00|    2017-05-03 00:02:00|  1|\n",
      "|       15|3948b09f7c818e2d8...|e51478e7e277a8374...|           5|     super recomendo|vendedor confiáve...|     Positive| 2018-05-23 00:00:00|    2018-05-24 03:00:00|  1|\n",
      "|       16|9314d6f9799f5bfba...|0dacf04c5ad59fd5a...|           2|            no title|gostaria de saber...|     Negative| 2018-01-18 00:00:00|    2018-01-20 21:25:00|  1|\n",
      "|       17|8e15a274d95600fa1...|ff1581e08b3011021...|           5|            no title|          no comment|     Positive| 2018-03-24 00:00:00|    2018-03-26 15:58:00|  1|\n",
      "|       18|fdbdb2629a7cde0f6...|70a752414a13d09cc...|           3|            no title|          no comment|      Neutral| 2017-09-29 00:00:00|    2017-10-02 01:12:00|  1|\n",
      "|       19|373cbeecea8286a2b...|583174fbe37d3d5f0...|           1|não chegou meu pr...|             péssimo|     Negative| 2018-08-15 00:00:00|    2018-08-15 04:10:00|  1|\n",
      "+---------+--------------------+--------------------+------------+--------------------+--------------------+-------------+--------------------+-----------------------+---+\n",
      "only showing top 20 rows\n",
      "\n"
     ]
    }
   ],
   "source": [
    "dim_review.show()"
   ]
  },
  {
   "cell_type": "markdown",
   "id": "97a49ed6-da3d-42c1-98c7-556a224968aa",
   "metadata": {},
   "source": [
    "## Translating the review title and review comment columns to English in new columns:"
   ]
  },
  {
   "cell_type": "code",
   "execution_count": 43,
   "id": "d966e69b-3209-470a-a395-bd48695a46c8",
   "metadata": {},
   "outputs": [],
   "source": [
    "translator_broadcast = spark.sparkContext.broadcast(translate)"
   ]
  },
  {
   "cell_type": "code",
   "execution_count": 44,
   "id": "a2c276c5-fd31-4169-816f-77526a9b891d",
   "metadata": {},
   "outputs": [],
   "source": [
    "@pandas_udf('string')\n",
    "def translate_to_english(text_series: pd.Series) -> pd.Series:\n",
    "    translate = translator_broadcast.value\n",
    "    mask = ~text_series.isin([\"\", \"no title\", \"no comment\"]) & text_series.notna()\n",
    "    text_series[mask] = np.vectorize(translate)(text_series[mask].astype(str), \"pt\", \"en\")\n",
    "    return text_series"
   ]
  },
  {
   "cell_type": "code",
   "execution_count": 45,
   "id": "629d68ee-f7c3-4a7d-83b3-c74283b8613e",
   "metadata": {},
   "outputs": [
    {
     "name": "stderr",
     "output_type": "stream",
     "text": [
      "25/04/13 12:59:12 WARN CacheManager: Asked to cache already cached data.\n"
     ]
    }
   ],
   "source": [
    "# filtering the dataframe\n",
    "to_translate = df.filter(\n",
    "    (col(\"review_title\") != \"no title\") & \n",
    "    (col(\"review_message\") != \"no comment\")\n",
    ").repartition(16).cache() "
   ]
  },
  {
   "cell_type": "code",
   "execution_count": 46,
   "id": "9a50d69b-18f8-4216-99cd-96820acd78c4",
   "metadata": {},
   "outputs": [
    {
     "data": {
      "text/plain": [
       "9798"
      ]
     },
     "execution_count": 46,
     "metadata": {},
     "output_type": "execute_result"
    }
   ],
   "source": [
    "to_translate.count()"
   ]
  },
  {
   "cell_type": "code",
   "execution_count": 47,
   "id": "72e3926e-47d0-4461-a0f9-dd2c73163316",
   "metadata": {},
   "outputs": [],
   "source": [
    "translated = to_translate.withColumn(\n",
    "    \"review_title_en\", \n",
    "    translate_to_english(col(\"review_title\"))\n",
    ").withColumn(\n",
    "    \"review_message_en\", \n",
    "    translate_to_english(col(\"review_message\"))\n",
    ")"
   ]
  },
  {
   "cell_type": "code",
   "execution_count": 48,
   "id": "586240d0-0897-4682-a5be-b07ab967e85a",
   "metadata": {},
   "outputs": [
    {
     "data": {
      "text/plain": [
       "9798"
      ]
     },
     "execution_count": 48,
     "metadata": {},
     "output_type": "execute_result"
    }
   ],
   "source": [
    "translated.count()"
   ]
  },
  {
   "cell_type": "code",
   "execution_count": 49,
   "id": "cd70978f-6769-4bfd-9b76-44d55c543b2d",
   "metadata": {},
   "outputs": [],
   "source": [
    "dim_review = dim_review.join(\n",
    "    translated.select(\"review_id\", \"review_title_en\", \"review_message_en\"),\n",
    "    on=\"review_id\",\n",
    "    how=\"left\"\n",
    ").fillna({\n",
    "    \"review_title_en\": \"no title\",\n",
    "    \"review_message_en\": \"no comment\"\n",
    "})"
   ]
  },
  {
   "cell_type": "code",
   "execution_count": 33,
   "id": "cd02c1e5-fb22-440b-90e6-7c0f0523c4b3",
   "metadata": {},
   "outputs": [],
   "source": [
    "# rearranging columns\n",
    "review_dim = dim_review.select(\n",
    "    \"review_sk\",\n",
    "    \"review_id\",\n",
    "    \"review_title\",\n",
    "    \"review_title_en\",\n",
    "    \"review_message\",\n",
    "    \"review_message_en\",\n",
    "     \"review_score\",\n",
    "    \"review_status\",\n",
    "    \"review_creation_date\",\n",
    "    \"review_answer_timestamp\",\n",
    "    \"SSC\"\n",
    ")"
   ]
  },
  {
   "cell_type": "code",
   "execution_count": 34,
   "id": "2d8a03d8-536a-41fb-8418-1d5920092671",
   "metadata": {},
   "outputs": [
    {
     "name": "stdout",
     "output_type": "stream",
     "text": [
      "root\n",
      " |-- review_sk: long (nullable = false)\n",
      " |-- review_id: string (nullable = true)\n",
      " |-- review_title: string (nullable = false)\n",
      " |-- review_title_en: string (nullable = false)\n",
      " |-- review_message: string (nullable = false)\n",
      " |-- review_message_en: string (nullable = false)\n",
      " |-- review_score: integer (nullable = true)\n",
      " |-- review_status: string (nullable = false)\n",
      " |-- review_creation_date: timestamp (nullable = true)\n",
      " |-- review_answer_timestamp: timestamp (nullable = true)\n",
      " |-- SSC: integer (nullable = false)\n",
      "\n"
     ]
    }
   ],
   "source": [
    "review_dim.printSchema()"
   ]
  },
  {
   "cell_type": "code",
   "execution_count": 36,
   "id": "1b7083a5-201a-4966-83e8-56cc56890fca",
   "metadata": {},
   "outputs": [
    {
     "name": "stderr",
     "output_type": "stream",
     "text": [
      "                                                                                "
     ]
    }
   ],
   "source": [
    "# saving the review_dim data in csv file\n",
    "review_dim.write \\\n",
    "    .mode(\"overwrite\") \\\n",
    "    .option(\"header\", True) \\\n",
    "    .csv(\"output/review_dim.csv\")"
   ]
  },
  {
   "cell_type": "code",
   "execution_count": null,
   "id": "4a0d30e6-9cf8-48a4-8d46-551c2fa57df2",
   "metadata": {},
   "outputs": [],
   "source": []
  }
 ],
 "metadata": {
  "kernelspec": {
   "display_name": "Python 3 (ipykernel)",
   "language": "python",
   "name": "python3"
  },
  "language_info": {
   "codemirror_mode": {
    "name": "ipython",
    "version": 3
   },
   "file_extension": ".py",
   "mimetype": "text/x-python",
   "name": "python",
   "nbconvert_exporter": "python",
   "pygments_lexer": "ipython3",
   "version": "3.12.3"
  }
 },
 "nbformat": 4,
 "nbformat_minor": 5
}
