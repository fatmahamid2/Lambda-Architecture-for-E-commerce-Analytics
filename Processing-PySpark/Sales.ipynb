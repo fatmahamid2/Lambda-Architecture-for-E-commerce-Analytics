{
 "cells": [
  {
   "cell_type": "markdown",
   "metadata": {
    "id": "uSkh54-iNeYO"
   },
   "source": [
    "# Initialization"
   ]
  },
  {
   "cell_type": "code",
   "execution_count": 1,
   "metadata": {
    "colab": {
     "base_uri": "https://localhost:8080/"
    },
    "id": "G7erPYHcHQkv",
    "outputId": "746fdd6f-c2d0-486f-b607-3f3cc713b481"
   },
   "outputs": [],
   "source": [
    "from pyspark.sql import SparkSession"
   ]
  },
  {
   "cell_type": "code",
   "execution_count": 2,
   "metadata": {
    "colab": {
     "base_uri": "https://localhost:8080/"
    },
    "id": "d-Z-e8oBHZ1l",
    "outputId": "1811b648-1ca1-4d8f-c120-34cce6c5f020"
   },
   "outputs": [],
   "source": [
    "jdbc_driver_path= \"/mnt/c/Asmaa/POSTEGER_DRIVER/postgresql-42.7.5.jar\""
   ]
  },
  {
   "cell_type": "code",
   "execution_count": 3,
   "metadata": {},
   "outputs": [
    {
     "name": "stderr",
     "output_type": "stream",
     "text": [
      "25/04/10 19:24:19 WARN Utils: Your hostname, Abdelrhman0 resolves to a loopback address: 127.0.1.1; using 10.255.255.254 instead (on interface lo)\n",
      "25/04/10 19:24:19 WARN Utils: Set SPARK_LOCAL_IP if you need to bind to another address\n",
      "25/04/10 19:24:20 WARN NativeCodeLoader: Unable to load native-hadoop library for your platform... using builtin-java classes where applicable\n",
      "Setting default log level to \"WARN\".\n",
      "To adjust logging level use sc.setLogLevel(newLevel). For SparkR, use setLogLevel(newLevel).\n"
     ]
    }
   ],
   "source": [
    "spark = SparkSession.builder \\\n",
    ".appName(\"SalesAnalysis_ETL\") \\\n",
    ".config(\"spark.jars\", jdbc_driver_path).getOrCreate()"
   ]
  },
  {
   "cell_type": "code",
   "execution_count": 4,
   "metadata": {},
   "outputs": [],
   "source": [
    "spark.sparkContext.setLogLevel(\"OFF\")  \n"
   ]
  },
  {
   "cell_type": "code",
   "execution_count": 161,
   "metadata": {},
   "outputs": [],
   "source": [
    "spark.sparkContext.setLogLevel(\"ERROR\")\n"
   ]
  },
  {
   "cell_type": "code",
   "execution_count": null,
   "metadata": {},
   "outputs": [],
   "source": [
    "spark.sparkContext.setLogLevel(\"WARN\")\n"
   ]
  },
  {
   "cell_type": "code",
   "execution_count": 5,
   "metadata": {},
   "outputs": [],
   "source": [
    "def read_table(table_name):\n",
    "    return spark.read.format(\"jdbc\") \\\n",
    "        .option(\"url\", \"jdbc:postgresql://localhost:5432/olist\") \\\n",
    "        .option(\"dbtable\", table_name) \\\n",
    "        .option(\"user\", \"asmaa\") \\\n",
    "        .option(\"password\", \"123\") \\\n",
    "        .option(\"driver\", \"org.postgresql.Driver\") \\\n",
    "        .load()\n"
   ]
  },
  {
   "cell_type": "markdown",
   "metadata": {
    "id": "DYd7GjA9Odkd"
   },
   "source": [
    "# Extract"
   ]
  },
  {
   "cell_type": "code",
   "execution_count": 6,
   "metadata": {},
   "outputs": [
    {
     "name": "stdout",
     "output_type": "stream",
     "text": [
      "+--------------------+--------------------+------------------------+-------------+--------------+------+---+--------------+\n",
      "|         customer_id|  customer_unique_id|customer_zip_code_prefix|customer_city|customer_state|gender|age|marital_status|\n",
      "+--------------------+--------------------+------------------------+-------------+--------------+------+---+--------------+\n",
      "|2ad205cfba7e19108...|1458e8048a02a286a...|                    8562|          poa|            SP|  Male| 64|       Married|\n",
      "|06b8999e2fba1a1fb...|861eff4711a542e4b...|                   14409|       franca|            SP|Female| 35|       Married|\n",
      "|19d2fe3e9e67da50d...|3ff45f223bb4d6fc7...|                   24240|      niteroi|            RJ|Female| 64|       Married|\n",
      "|229755021cdd010bc...|28a9545ffe21521e8...|                   13306|          itu|            SP|  Male| 37|        Single|\n",
      "|f04018667ff9194bb...|87e5b2ef0c9dd7a45...|                    8473|    sao paulo|            SP|  Male| 39|        Single|\n",
      "|1158880cb12ee968e...|467bf79ce2396e589...|                    2563|    sao paulo|            SP|Female| 40|       Widowed|\n",
      "|56cb51bbf3ef8092a...|e9dc105c3da1d2c71...|                    6172|       osasco|            SP|Female| 66|       Widowed|\n",
      "|49193addee8cc5e2e...|816a9d13b0b4a4c4b...|                   87050|      maringa|            PR|Female| 49|        Single|\n",
      "|1729d90bd3e74e730...|36f7cbc956469da1d...|                   13210|      jundiai|            SP|  Male| 40|        Single|\n",
      "|24bffa8e3281713f3...|6883d579dacefc230...|                    8559|          poa|            SP|  Male| 66|       Married|\n",
      "|a4844df7aea664c48...|39583d496cc15d47b...|                   13050|     campinas|            SP|  Male| 52|        Single|\n",
      "|2515d9c80d9ef8748...|fce99ffc1d835ef6f...|                   38900|       bambui|            MG|Female| 20|        Single|\n",
      "|059899061ea126960...|16bd2490eab76fccf...|                   94420|       viamao|            RS|Female| 40|       Married|\n",
      "|96d841dabf65efd5b...|848eabba326848e81...|                   13207|      jundiai|            SP|Female| 18|        Single|\n",
      "|ddf9a541cc3f0d595...|27878a3c150b60cf9...|                   72015|     brasilia|            DF|  Male| 28|        Single|\n",
      "|370b23162b4b1ad33...|41f0f87e7ced16f39...|                   78335|      colniza|            MT|Female| 23|       Married|\n",
      "|6419daa620ebb5a4d...|b9137cac4c1f714b3...|                   29285|        piuma|            ES|  Male| 40|       Married|\n",
      "|4bbdd92fc1be04b9a...|d6bb892fd2920399b...|                   53020|       olinda|            PE|  Male| 46|        Single|\n",
      "|268df4ebbaeefe4a9...|65642d132e2747e10...|                   19600|    rancharia|            SP|Female| 53|       Married|\n",
      "|349937c1b22f4f6ae...|378c06babf08c70f3...|                   14784|     barretos|            SP|  Male| 18|        Single|\n",
      "+--------------------+--------------------+------------------------+-------------+--------------+------+---+--------------+\n",
      "only showing top 20 rows\n",
      "\n"
     ]
    }
   ],
   "source": [
    "#Add customer df\n",
    "\n",
    "df_customers = read_table(\"wsl.customers\")\n",
    "df_customers.show()"
   ]
  },
  {
   "cell_type": "code",
   "execution_count": 7,
   "metadata": {},
   "outputs": [
    {
     "name": "stdout",
     "output_type": "stream",
     "text": [
      "+--------------------+----------------------+-----------------+------------+\n",
      "|           seller_id|seller_zip_code_prefix|      seller_city|seller_state|\n",
      "+--------------------+----------------------+-----------------+------------+\n",
      "|c35affa65afd25015...|                  8050|        sao paulo|          SP|\n",
      "|ceb7b4fb9401cd378...|                 22790|   rio de janeiro|          RJ|\n",
      "|e9874ae10b2d60d43...|                 86604|         rolandia|          PR|\n",
      "|da4d149c0ddbac905...|                  9861|              sbc|          SP|\n",
      "|e0878efa0e0b7e531...|                 80230|         curitiba|          PR|\n",
      "|3442f8959a84dea7e...|                 13023|         campinas|          SP|\n",
      "|d1b65fc7debc3361e...|                 13844|       mogi guacu|          SP|\n",
      "|ce3ad9de960102d06...|                 20031|   rio de janeiro|          RJ|\n",
      "|c0f3eea2e14555b6f...|                  4195|        sao paulo|          SP|\n",
      "|51a04a8a6bdcb23de...|                 12914|braganca paulista|          SP|\n",
      "|c240c4061717ac180...|                 20920|   rio de janeiro|          RJ|\n",
      "|e49c26c3edfa46d22...|                 55325|           brejao|          PE|\n",
      "|1b938a7ec6ac5061a...|                 16304|        penapolis|          SP|\n",
      "|768a86e36ad6aae3d...|                  1529|        sao paulo|          SP|\n",
      "|ccc4bbb5f32a6ab2b...|                 80310|         curitiba|          PR|\n",
      "|8cb7c5ddf41f4d506...|                 75110|         anapolis|          GO|\n",
      "|a7a9b880c49781da6...|                 13530|        itirapina|          SP|\n",
      "|8bd0f31cf0a614c65...|                  1222|        sao paulo|          SP|\n",
      "|05a48cc8859962767...|                  5372|        sao paulo|          SP|\n",
      "|7b8e8ec35bad4b0ef...|                 88705|          tubarao|          SC|\n",
      "+--------------------+----------------------+-----------------+------------+\n",
      "only showing top 20 rows\n",
      "\n"
     ]
    }
   ],
   "source": [
    "#Add seller df\n",
    "df_sellers = read_table(\"wsl.sellers\")\n",
    "df_sellers.show()"
   ]
  },
  {
   "cell_type": "code",
   "execution_count": 8,
   "metadata": {},
   "outputs": [
    {
     "name": "stdout",
     "output_type": "stream",
     "text": [
      "+---------------------------+---------------+---------------+----------------+-----------------+\n",
      "|geolocation_zip_code_prefix|geolocation_lat|geolocation_lng|geolocation_city|geolocation_state|\n",
      "+---------------------------+---------------+---------------+----------------+-----------------+\n",
      "|                       1037|   -23.54562128|   -46.63929205|       sao paulo|               SP|\n",
      "|                       1046|   -23.54608113|    -46.6448203|       sao paulo|               SP|\n",
      "|                       1041|   -23.54439216|   -46.63949931|       sao paulo|               SP|\n",
      "|                       1035|   -23.54157796|   -46.64160722|       sao paulo|               SP|\n",
      "|                       1012|    -23.5477623|   -46.63536054|       são paulo|               SP|\n",
      "|                       1047|   -23.54627311|   -46.64122517|       sao paulo|               SP|\n",
      "|                       1013|   -23.54692321|    -46.6342637|       sao paulo|               SP|\n",
      "|                       1029|   -23.54376906|   -46.63427784|       sao paulo|               SP|\n",
      "|                       1011|   -23.54763955|   -46.63603162|       sao paulo|               SP|\n",
      "|                       1032|    -23.5384181|   -46.63477838|       sao paulo|               SP|\n",
      "|                       1014|   -23.54643534|   -46.63383023|       sao paulo|               SP|\n",
      "|                       1039|   -23.54188301|   -46.63991947|       sao paulo|               SP|\n",
      "|                       1024|   -23.54138952|   -46.62989909|       são paulo|               SP|\n",
      "|                       1009|    -23.5469354|   -46.63658793|       sao paulo|               SP|\n",
      "|                       1020|   -23.55223547|   -46.62844066|       são paulo|               SP|\n",
      "|                       1043|   -23.54665672|   -46.64078762|       são paulo|               SP|\n",
      "|                       1050|   -23.54977352|   -46.64559901|       sao paulo|               SP|\n",
      "|                       1045|   -23.54159376|   -46.64189379|       sao paulo|               SP|\n",
      "|                       1007|   -23.55039252|   -46.63730164|       sao paulo|               SP|\n",
      "|                       1005|   -23.54981909|   -46.63560589|       sao paulo|               SP|\n",
      "+---------------------------+---------------+---------------+----------------+-----------------+\n",
      "only showing top 20 rows\n",
      "\n"
     ]
    }
   ],
   "source": [
    "#Add geo df\n",
    "df_geo = read_table(\"wsl.geolocation\")\n",
    "df_geo.show()"
   ]
  },
  {
   "cell_type": "markdown",
   "metadata": {
    "id": "80Pt_KnZOSVb"
   },
   "source": [
    "# EDA"
   ]
  },
  {
   "cell_type": "markdown",
   "metadata": {
    "id": "RpLr2fviWLRG"
   },
   "source": [
    "- show schema"
   ]
  },
  {
   "cell_type": "code",
   "execution_count": 104,
   "metadata": {
    "colab": {
     "base_uri": "https://localhost:8080/"
    },
    "id": "E-IEmGAXejBI",
    "outputId": "db2a179c-26f4-40a4-e4e8-c17ad7efb566"
   },
   "outputs": [
    {
     "name": "stdout",
     "output_type": "stream",
     "text": [
      "root\n",
      " |-- geolocation_zip_code_prefix: integer (nullable = true)\n",
      " |-- geolocation_lat: double (nullable = true)\n",
      " |-- geolocation_lng: double (nullable = true)\n",
      " |-- geolocation_city: string (nullable = true)\n",
      " |-- geolocation_state: string (nullable = true)\n",
      "\n"
     ]
    }
   ],
   "source": [
    "df_geo.printSchema()"
   ]
  },
  {
   "cell_type": "code",
   "execution_count": 105,
   "metadata": {
    "colab": {
     "base_uri": "https://localhost:8080/"
    },
    "id": "BGQeVEdTVd0d",
    "outputId": "8a5e5616-fa79-424d-f0f0-af914adcb5b2"
   },
   "outputs": [
    {
     "data": {
      "text/plain": [
       "['geolocation_zip_code_prefix',\n",
       " 'geolocation_lat',\n",
       " 'geolocation_lng',\n",
       " 'geolocation_city',\n",
       " 'geolocation_state']"
      ]
     },
     "execution_count": 105,
     "metadata": {},
     "output_type": "execute_result"
    }
   ],
   "source": [
    "df_geo.columns"
   ]
  },
  {
   "cell_type": "code",
   "execution_count": 106,
   "metadata": {
    "colab": {
     "base_uri": "https://localhost:8080/"
    },
    "id": "bWiPl10bH5TH",
    "outputId": "c426f466-7b83-4f34-92cf-944a063ccc6c"
   },
   "outputs": [
    {
     "name": "stdout",
     "output_type": "stream",
     "text": [
      "root\n",
      " |-- customer_id: string (nullable = true)\n",
      " |-- customer_unique_id: string (nullable = true)\n",
      " |-- customer_zip_code_prefix: integer (nullable = true)\n",
      " |-- customer_city: string (nullable = true)\n",
      " |-- customer_state: string (nullable = true)\n",
      " |-- gender: string (nullable = true)\n",
      " |-- age: integer (nullable = true)\n",
      " |-- marital_status: string (nullable = true)\n",
      "\n"
     ]
    }
   ],
   "source": [
    "df_customers.printSchema()"
   ]
  },
  {
   "cell_type": "code",
   "execution_count": 107,
   "metadata": {
    "colab": {
     "base_uri": "https://localhost:8080/"
    },
    "id": "SLa4MVBRKIKg",
    "outputId": "70d3abb3-a3e9-42f9-89e5-272aff0d373f"
   },
   "outputs": [
    {
     "name": "stdout",
     "output_type": "stream",
     "text": [
      "root\n",
      " |-- seller_id: string (nullable = true)\n",
      " |-- seller_zip_code_prefix: integer (nullable = true)\n",
      " |-- seller_city: string (nullable = true)\n",
      " |-- seller_state: string (nullable = true)\n",
      "\n"
     ]
    }
   ],
   "source": [
    "df_sellers.printSchema()"
   ]
  },
  {
   "cell_type": "markdown",
   "metadata": {
    "id": "FZTu1voLWYXr"
   },
   "source": [
    "- Show Nulls"
   ]
  },
  {
   "cell_type": "code",
   "execution_count": 164,
   "metadata": {
    "colab": {
     "base_uri": "https://localhost:8080/"
    },
    "id": "ahVA8lTdWgk8",
    "outputId": "90fffc9f-5b44-4191-9ab1-db438ccc0cbb"
   },
   "outputs": [
    {
     "name": "stderr",
     "output_type": "stream",
     "text": [
      "[Stage 369:>                                                        (0 + 1) / 1]"
     ]
    },
    {
     "name": "stdout",
     "output_type": "stream",
     "text": [
      "+-----------+------------------+------------------------+-------------+--------------+------+---+--------------+\n",
      "|customer_id|customer_unique_id|customer_zip_code_prefix|customer_city|customer_state|gender|age|marital_status|\n",
      "+-----------+------------------+------------------------+-------------+--------------+------+---+--------------+\n",
      "|          0|                 0|                       0|            0|             0|     0|  0|             0|\n",
      "+-----------+------------------+------------------------+-------------+--------------+------+---+--------------+\n",
      "\n"
     ]
    },
    {
     "name": "stderr",
     "output_type": "stream",
     "text": [
      "                                                                                "
     ]
    }
   ],
   "source": [
    "from pyspark.sql.functions import col, isnan, when, count\n",
    "\n",
    "df_customers.select([count(when(col(c).isNull() | isnan(c), c)).alias(c) for c in df_customers.columns]).show()\n"
   ]
  },
  {
   "cell_type": "code",
   "execution_count": 109,
   "metadata": {
    "colab": {
     "base_uri": "https://localhost:8080/"
    },
    "id": "b3j5z8GrVv4Y",
    "outputId": "0faf0c2f-f9b2-4d66-b835-380dc65e4390"
   },
   "outputs": [
    {
     "name": "stdout",
     "output_type": "stream",
     "text": [
      "+---------------------------+---------------+---------------+----------------+-----------------+\n",
      "|geolocation_zip_code_prefix|geolocation_lat|geolocation_lng|geolocation_city|geolocation_state|\n",
      "+---------------------------+---------------+---------------+----------------+-----------------+\n",
      "|                          0|              0|              0|               0|                0|\n",
      "+---------------------------+---------------+---------------+----------------+-----------------+\n",
      "\n"
     ]
    }
   ],
   "source": [
    "from pyspark.sql.functions import col, isnan, when, count\n",
    "\n",
    "df_geo.select([count(when(col(c).isNull() | isnan(c), c)).alias(c) for c in df_geo.columns]).show()\n"
   ]
  },
  {
   "cell_type": "code",
   "execution_count": 110,
   "metadata": {
    "colab": {
     "base_uri": "https://localhost:8080/"
    },
    "id": "ys2dmg8XV7_4",
    "outputId": "cebeecb2-7577-4b00-e5f3-30f546894111"
   },
   "outputs": [
    {
     "name": "stdout",
     "output_type": "stream",
     "text": [
      "+---------+----------------------+-----------+------------+\n",
      "|seller_id|seller_zip_code_prefix|seller_city|seller_state|\n",
      "+---------+----------------------+-----------+------------+\n",
      "|        0|                     0|          0|           0|\n",
      "+---------+----------------------+-----------+------------+\n",
      "\n"
     ]
    }
   ],
   "source": [
    "df_sellers.select([count(when(col(c).isNull() | isnan(c), c)).alias(c) for c in df_sellers.columns]).show()\n"
   ]
  },
  {
   "cell_type": "markdown",
   "metadata": {
    "id": "zrA27h5GWy2t"
   },
   "source": [
    "- Summary Statistics"
   ]
  },
  {
   "cell_type": "code",
   "execution_count": 111,
   "metadata": {},
   "outputs": [],
   "source": [
    "# spark.conf.set(\"spark.sql.debug.maxToStringFields\", 1000)\n"
   ]
  },
  {
   "cell_type": "code",
   "execution_count": 112,
   "metadata": {
    "colab": {
     "base_uri": "https://localhost:8080/"
    },
    "id": "QThcJkpCW1kP",
    "outputId": "e0f34912-ec24-4f94-fe28-a030a1444765"
   },
   "outputs": [
    {
     "name": "stderr",
     "output_type": "stream",
     "text": [
      "[Stage 208:>                                                        (0 + 1) / 1]"
     ]
    },
    {
     "name": "stdout",
     "output_type": "stream",
     "text": [
      "+-------+--------------------+--------------------+------------------------+-------------------+--------------+------+------------------+--------------+\n",
      "|summary|         customer_id|  customer_unique_id|customer_zip_code_prefix|      customer_city|customer_state|gender|               age|marital_status|\n",
      "+-------+--------------------+--------------------+------------------------+-------------------+--------------+------+------------------+--------------+\n",
      "|  count|               99441|               99441|                   99441|              99441|         99441| 99441|             99441|         99441|\n",
      "|   mean|                null|                null|       35137.47458291851|               null|          null|  null| 43.97144035156525|          null|\n",
      "| stddev|                null|                null|       29797.93899620611|               null|          null|  null|15.289492896330373|          null|\n",
      "|    min|00012a2ce6f8dcda2...|0000366f3b9a7992b...|                    1003|abadia dos dourados|            AC|Female|                18|      Divorced|\n",
      "|    max|ffffe8b65bbe3087b...|ffffd2657e2aad290...|                   99990|             zortea|            TO|  Male|                70|       Widowed|\n",
      "+-------+--------------------+--------------------+------------------------+-------------------+--------------+------+------------------+--------------+\n",
      "\n"
     ]
    },
    {
     "name": "stderr",
     "output_type": "stream",
     "text": [
      "                                                                                "
     ]
    }
   ],
   "source": [
    "df_customers.describe().show()\n"
   ]
  },
  {
   "cell_type": "code",
   "execution_count": 113,
   "metadata": {
    "colab": {
     "base_uri": "https://localhost:8080/"
    },
    "id": "DB6FWYIAXACt",
    "outputId": "90eac913-079f-4fa8-aeec-713fe3d3a07b"
   },
   "outputs": [
    {
     "name": "stdout",
     "output_type": "stream",
     "text": [
      "+-------+--------------------+----------------------+---------------+------------+\n",
      "|summary|           seller_id|seller_zip_code_prefix|    seller_city|seller_state|\n",
      "+-------+--------------------+----------------------+---------------+------------+\n",
      "|  count|                3095|                  3095|           3095|        3095|\n",
      "|   mean|                null|    32291.059450726978|           null|        null|\n",
      "| stddev|                null|    32713.453829508988|           null|        null|\n",
      "|    min|0015a82c2db000af6...|                  1001|abadia de goias|          AC|\n",
      "|    max|ffff564a4f9085cd2...|                 99730|          xaxim|          SP|\n",
      "+-------+--------------------+----------------------+---------------+------------+\n",
      "\n"
     ]
    }
   ],
   "source": [
    "df_sellers.describe().show()\n"
   ]
  },
  {
   "cell_type": "code",
   "execution_count": 114,
   "metadata": {
    "colab": {
     "base_uri": "https://localhost:8080/"
    },
    "id": "hoW0v6JyXE7J",
    "outputId": "1f0315f6-12f4-4e3d-d25d-4697164790d3"
   },
   "outputs": [
    {
     "name": "stdout",
     "output_type": "stream",
     "text": [
      "+-------+---------------------------+------------------+------------------+----------------+-----------------+\n",
      "|summary|geolocation_zip_code_prefix|   geolocation_lat|   geolocation_lng|geolocation_city|geolocation_state|\n",
      "+-------+---------------------------+------------------+------------------+----------------+-----------------+\n",
      "|  count|                      19177|             19177|             19177|           19177|            19177|\n",
      "|   mean|          42852.03994368254|-18.90105810758131|-45.66892790017814|            null|             null|\n",
      "| stddev|          30884.10668417943| 7.494320082727903| 6.817455811523201|            null|             null|\n",
      "|    min|                       1001|      -36.60537441|       -72.9272963| abadia de goias|               AC|\n",
      "|    max|                      99990|       42.18400274|       121.1053938|          zortea|               TO|\n",
      "+-------+---------------------------+------------------+------------------+----------------+-----------------+\n",
      "\n"
     ]
    }
   ],
   "source": [
    "df_geo.describe().show()\n"
   ]
  },
  {
   "cell_type": "markdown",
   "metadata": {
    "id": "gaNXFr2yXYxr"
   },
   "source": [
    "- Count Distinct Values"
   ]
  },
  {
   "cell_type": "code",
   "execution_count": 115,
   "metadata": {
    "colab": {
     "base_uri": "https://localhost:8080/"
    },
    "id": "Y42xcR7CXb_s",
    "outputId": "4972c100-5429-4539-f06f-30c26441f728"
   },
   "outputs": [
    {
     "data": {
      "text/plain": [
       "4119"
      ]
     },
     "execution_count": 115,
     "metadata": {},
     "output_type": "execute_result"
    }
   ],
   "source": [
    "df_customers.select(\"customer_city\").distinct().count()\n"
   ]
  },
  {
   "cell_type": "code",
   "execution_count": 116,
   "metadata": {
    "colab": {
     "base_uri": "https://localhost:8080/"
    },
    "id": "xA08TPJMXxU1",
    "outputId": "737a7f50-08e7-4faf-e830-973e8d793084"
   },
   "outputs": [
    {
     "data": {
      "text/plain": [
       "27"
      ]
     },
     "execution_count": 116,
     "metadata": {},
     "output_type": "execute_result"
    }
   ],
   "source": [
    "df_customers.select(\"customer_state\").distinct().count()\n"
   ]
  },
  {
   "cell_type": "code",
   "execution_count": 117,
   "metadata": {
    "colab": {
     "base_uri": "https://localhost:8080/"
    },
    "id": "xhSr6hfCGY8b",
    "outputId": "869b22de-7827-43b6-f264-8e0d5292312b"
   },
   "outputs": [
    {
     "data": {
      "text/plain": [
       "14994"
      ]
     },
     "execution_count": 117,
     "metadata": {},
     "output_type": "execute_result"
    }
   ],
   "source": [
    "df_customers.select(\"customer_zip_code_prefix\").distinct().count()\n"
   ]
  },
  {
   "cell_type": "code",
   "execution_count": 118,
   "metadata": {
    "colab": {
     "base_uri": "https://localhost:8080/"
    },
    "id": "CGKvu98CilIW",
    "outputId": "37775d5f-d582-4061-8f05-dfd5f6f8bad2"
   },
   "outputs": [
    {
     "data": {
      "text/plain": [
       "19177"
      ]
     },
     "execution_count": 118,
     "metadata": {},
     "output_type": "execute_result"
    }
   ],
   "source": [
    "df_geo.select(\"geolocation_zip_code_prefix\").distinct().count()\n"
   ]
  },
  {
   "cell_type": "code",
   "execution_count": 119,
   "metadata": {
    "colab": {
     "base_uri": "https://localhost:8080/"
    },
    "id": "hNzsTGX-kFmN",
    "outputId": "c7d11274-3965-4982-ef05-cb8808a03cc9"
   },
   "outputs": [
    {
     "data": {
      "text/plain": [
       "5813"
      ]
     },
     "execution_count": 119,
     "metadata": {},
     "output_type": "execute_result"
    }
   ],
   "source": [
    "df_geo.select(\"geolocation_city\").distinct().count()\n"
   ]
  },
  {
   "cell_type": "code",
   "execution_count": 120,
   "metadata": {
    "colab": {
     "base_uri": "https://localhost:8080/"
    },
    "id": "xp6pDnq_jD4N",
    "outputId": "181272ab-acc0-4371-a9a7-1be38fd5863d"
   },
   "outputs": [
    {
     "data": {
      "text/plain": [
       "2246"
      ]
     },
     "execution_count": 120,
     "metadata": {},
     "output_type": "execute_result"
    }
   ],
   "source": [
    "df_sellers.select(\"seller_zip_code_prefix\").distinct().count()\n"
   ]
  },
  {
   "cell_type": "code",
   "execution_count": 121,
   "metadata": {
    "colab": {
     "base_uri": "https://localhost:8080/"
    },
    "id": "LPw5zvvaX_l7",
    "outputId": "2277744c-e6c6-4ee8-da98-792aedcbc17c"
   },
   "outputs": [
    {
     "data": {
      "text/plain": [
       "609"
      ]
     },
     "execution_count": 121,
     "metadata": {},
     "output_type": "execute_result"
    }
   ],
   "source": [
    "df_sellers.select(\"seller_city\").distinct().count()\n"
   ]
  },
  {
   "cell_type": "code",
   "execution_count": 122,
   "metadata": {
    "colab": {
     "base_uri": "https://localhost:8080/"
    },
    "id": "tkFOBFD8YMQE",
    "outputId": "850067b7-55e8-4f97-f34e-ad32739d95f1"
   },
   "outputs": [
    {
     "data": {
      "text/plain": [
       "23"
      ]
     },
     "execution_count": 122,
     "metadata": {},
     "output_type": "execute_result"
    }
   ],
   "source": [
    "df_sellers.select(\"seller_state\").distinct().count()\n"
   ]
  },
  {
   "cell_type": "markdown",
   "metadata": {
    "id": "4UuI3RLcYwTa"
   },
   "source": [
    "- Aggregation"
   ]
  },
  {
   "cell_type": "code",
   "execution_count": 123,
   "metadata": {
    "colab": {
     "base_uri": "https://localhost:8080/"
    },
    "id": "XOnKIcZ1YwwO",
    "outputId": "97f514d6-d834-489c-d446-26b77497500f"
   },
   "outputs": [
    {
     "name": "stdout",
     "output_type": "stream",
     "text": [
      "+------+------------------+\n",
      "|Gender|          avg(Age)|\n",
      "+------+------------------+\n",
      "|Female|43.948033670214194|\n",
      "|  Male|44.041755586873364|\n",
      "+------+------------------+\n",
      "\n"
     ]
    }
   ],
   "source": [
    "df_customers.groupBy(\"Gender\").agg({\"Age\": \"mean\"}).show()\n"
   ]
  },
  {
   "cell_type": "code",
   "execution_count": 124,
   "metadata": {
    "colab": {
     "base_uri": "https://localhost:8080/"
    },
    "id": "lnZu7PtjnI-S",
    "outputId": "6049e5de-cdae-461a-a52d-f0cc22269121"
   },
   "outputs": [
    {
     "name": "stdout",
     "output_type": "stream",
     "text": [
      "+--------------------+------------------+\n",
      "|  customer_unique_id|count(customer_id)|\n",
      "+--------------------+------------------+\n",
      "|861eff4711a542e4b...|                 1|\n",
      "|e607ede0e63436308...|                 1|\n",
      "|28da048f094c0c9cb...|                 1|\n",
      "|212c759d8c4f2d4d9...|                 1|\n",
      "|f96176e892232662d...|                 1|\n",
      "|000c8bdb58a29e711...|                 1|\n",
      "|9ccbb5f759db041b2...|                 1|\n",
      "|4b384b778ebc0449d...|                 2|\n",
      "|4df43d4c7d3a093a5...|                 1|\n",
      "|4be1583defacacfea...|                 1|\n",
      "|c85df1c6ef6f7bb60...|                 2|\n",
      "|1a3d1e8b28c0ee27c...|                 1|\n",
      "|2a6ef69674d6f2800...|                 1|\n",
      "|2d6d1699603a346a2...|                 1|\n",
      "|5b71ca52f13f79c2b...|                 2|\n",
      "|9a176d6883a469743...|                 1|\n",
      "|dfe634d4b8e067879...|                 1|\n",
      "|5f439c10be261b762...|                 1|\n",
      "|cbe71e4cb0b82b97b...|                 2|\n",
      "|782d02110160b9efd...|                 1|\n",
      "+--------------------+------------------+\n",
      "only showing top 20 rows\n",
      "\n"
     ]
    }
   ],
   "source": [
    "df_customers.groupBy(\"customer_unique_id\").agg({\"customer_id\": \"count\"}).show()\n"
   ]
  },
  {
   "cell_type": "code",
   "execution_count": 125,
   "metadata": {
    "colab": {
     "base_uri": "https://localhost:8080/"
    },
    "id": "hC6L4NXxYjaQ",
    "outputId": "b4ebeecb-8026-4035-8165-9ba98af4ba3a"
   },
   "outputs": [
    {
     "name": "stdout",
     "output_type": "stream",
     "text": [
      "+--------------------+-----+\n",
      "|       customer_city|count|\n",
      "+--------------------+-----+\n",
      "|            camacari|   61|\n",
      "|           arapiraca|   29|\n",
      "|           itaberaba|   10|\n",
      "|           igrejinha|   17|\n",
      "|  aguas de sao pedro|    3|\n",
      "|            vermelho|    1|\n",
      "|                pote|    3|\n",
      "|jijoca de jericoa...|    4|\n",
      "|            barracao|    3|\n",
      "|                iepe|    5|\n",
      "|divino das laranj...|    1|\n",
      "|divino de sao lou...|    1|\n",
      "|              bacaxa|    1|\n",
      "|   redencao da serra|    1|\n",
      "|            itanhaem|   80|\n",
      "|       astolfo dutra|   11|\n",
      "|             brusque|   60|\n",
      "|           boa vista|   45|\n",
      "|  cachoeira paulista|   25|\n",
      "|            guaranta|    5|\n",
      "+--------------------+-----+\n",
      "only showing top 20 rows\n",
      "\n"
     ]
    }
   ],
   "source": [
    "df_customers.groupBy(\"customer_city\").count().show()\n"
   ]
  },
  {
   "cell_type": "code",
   "execution_count": 126,
   "metadata": {
    "colab": {
     "base_uri": "https://localhost:8080/"
    },
    "id": "u0D_cMul42X6",
    "outputId": "8da5c2d2-6b06-4ed1-85ec-9f8341eebb44"
   },
   "outputs": [
    {
     "name": "stdout",
     "output_type": "stream",
     "text": [
      "+--------------------+-----+\n",
      "|       customer_city|count|\n",
      "+--------------------+-----+\n",
      "|           sao paulo|15540|\n",
      "|      rio de janeiro| 6882|\n",
      "|      belo horizonte| 2773|\n",
      "|            brasilia| 2131|\n",
      "|            curitiba| 1521|\n",
      "|            campinas| 1444|\n",
      "|        porto alegre| 1379|\n",
      "|            salvador| 1245|\n",
      "|           guarulhos| 1189|\n",
      "|sao bernardo do c...|  938|\n",
      "|             niteroi|  849|\n",
      "|         santo andre|  797|\n",
      "|              osasco|  746|\n",
      "|              santos|  713|\n",
      "|             goiania|  692|\n",
      "| sao jose dos campos|  691|\n",
      "|           fortaleza|  654|\n",
      "|            sorocaba|  633|\n",
      "|              recife|  613|\n",
      "|       florianopolis|  570|\n",
      "+--------------------+-----+\n",
      "only showing top 20 rows\n",
      "\n"
     ]
    }
   ],
   "source": [
    "df_customers.groupBy(\"customer_city\").count().orderBy(\"count\", ascending=False).show()\n"
   ]
  },
  {
   "cell_type": "code",
   "execution_count": 127,
   "metadata": {
    "colab": {
     "base_uri": "https://localhost:8080/"
    },
    "id": "5ITtY2FT5QfC",
    "outputId": "5fb6b7ca-6f20-414a-eeb4-01ddf994b7d3"
   },
   "outputs": [
    {
     "name": "stdout",
     "output_type": "stream",
     "text": [
      "+-------------+-----+\n",
      "|customer_city|count|\n",
      "+-------------+-----+\n",
      "|    sao paulo|15540|\n",
      "+-------------+-----+\n",
      "\n"
     ]
    }
   ],
   "source": [
    "df_customers.filter(df_customers.customer_city.isin(\"sao paulo\", \"São Paulo\")) \\\n",
    "    .groupBy(\"customer_city\").count() \\\n",
    "    .orderBy(\"count\", ascending=False).show()\n"
   ]
  },
  {
   "cell_type": "code",
   "execution_count": 128,
   "metadata": {
    "colab": {
     "base_uri": "https://localhost:8080/"
    },
    "id": "WMKU1iBxmBuJ",
    "outputId": "2f8f21cc-38f2-49a2-888f-00d09c135960"
   },
   "outputs": [
    {
     "name": "stdout",
     "output_type": "stream",
     "text": [
      "+----------------+-----+\n",
      "|geolocation_city|count|\n",
      "+----------------+-----+\n",
      "|       sao paulo| 3183|\n",
      "+----------------+-----+\n",
      "\n"
     ]
    }
   ],
   "source": [
    "df_geo.filter(df_geo.geolocation_city.isin(\"sao paulo\", \"são paulo\")) \\\n",
    "    .groupBy(\"geolocation_city\").count() \\\n",
    "    .orderBy(\"count\", ascending=False).show()\n",
    "\n",
    "#did not see it too -->> because case sensitive now ok!\n",
    "#'ã' --> need to transform all this letters"
   ]
  },
  {
   "cell_type": "code",
   "execution_count": 129,
   "metadata": {
    "colab": {
     "base_uri": "https://localhost:8080/"
    },
    "id": "sUNIXgO9-5jU",
    "outputId": "81addf59-0245-4373-c6fc-771e1645bcfe"
   },
   "outputs": [
    {
     "name": "stdout",
     "output_type": "stream",
     "text": [
      "+-------------+-----+\n",
      "|customer_city|count|\n",
      "+-------------+-----+\n",
      "|    sao paulo|15540|\n",
      "+-------------+-----+\n",
      "\n"
     ]
    }
   ],
   "source": [
    "df_customers.filter(df_customers.customer_city.isin(\"sao paulo\", \"são paulo\")) \\\n",
    "    .groupBy(\"customer_city\").count() \\\n",
    "    .orderBy(\"count\", ascending=False).show()\n"
   ]
  },
  {
   "cell_type": "code",
   "execution_count": 130,
   "metadata": {},
   "outputs": [
    {
     "name": "stdout",
     "output_type": "stream",
     "text": [
      "+-----------+-----+\n",
      "|seller_city|count|\n",
      "+-----------+-----+\n",
      "|  sao paulo|  695|\n",
      "+-----------+-----+\n",
      "\n"
     ]
    }
   ],
   "source": [
    "df_sellers.filter(df_sellers.seller_city.isin(\"sao paulo\", \"são paulo\")) \\\n",
    "    .groupBy(\"seller_city\").count() \\\n",
    "    .orderBy(\"count\", ascending=False).show()\n"
   ]
  },
  {
   "cell_type": "code",
   "execution_count": 131,
   "metadata": {
    "colab": {
     "base_uri": "https://localhost:8080/"
    },
    "id": "xg9td2qbY0Is",
    "outputId": "41f030ba-611c-4048-ecd6-efe7bcbebfb0"
   },
   "outputs": [
    {
     "name": "stdout",
     "output_type": "stream",
     "text": [
      "+------+-----+\n",
      "|Gender|count|\n",
      "+------+-----+\n",
      "|Female|74606|\n",
      "|  Male|24835|\n",
      "+------+-----+\n",
      "\n"
     ]
    }
   ],
   "source": [
    "df_customers.groupBy(\"Gender\").count().show()\n"
   ]
  },
  {
   "cell_type": "code",
   "execution_count": 132,
   "metadata": {
    "colab": {
     "base_uri": "https://localhost:8080/"
    },
    "id": "Hqp7SBBbmFIT",
    "outputId": "e6f1b48a-7f92-4e15-a636-8201b75fab3f"
   },
   "outputs": [
    {
     "name": "stdout",
     "output_type": "stream",
     "text": [
      "+--------------------+------------------+\n",
      "|  customer_unique_id|count(customer_id)|\n",
      "+--------------------+------------------+\n",
      "|861eff4711a542e4b...|                 1|\n",
      "|e607ede0e63436308...|                 1|\n",
      "|28da048f094c0c9cb...|                 1|\n",
      "|212c759d8c4f2d4d9...|                 1|\n",
      "|f96176e892232662d...|                 1|\n",
      "|000c8bdb58a29e711...|                 1|\n",
      "|9ccbb5f759db041b2...|                 1|\n",
      "|4b384b778ebc0449d...|                 2|\n",
      "|4df43d4c7d3a093a5...|                 1|\n",
      "|4be1583defacacfea...|                 1|\n",
      "|c85df1c6ef6f7bb60...|                 2|\n",
      "|1a3d1e8b28c0ee27c...|                 1|\n",
      "|2a6ef69674d6f2800...|                 1|\n",
      "|2d6d1699603a346a2...|                 1|\n",
      "|5b71ca52f13f79c2b...|                 2|\n",
      "|9a176d6883a469743...|                 1|\n",
      "|dfe634d4b8e067879...|                 1|\n",
      "|5f439c10be261b762...|                 1|\n",
      "|cbe71e4cb0b82b97b...|                 2|\n",
      "|782d02110160b9efd...|                 1|\n",
      "+--------------------+------------------+\n",
      "only showing top 20 rows\n",
      "\n"
     ]
    }
   ],
   "source": [
    "df_customers.groupBy(\"customer_unique_id\").agg({\"customer_id\": \"count\"}).show()\n"
   ]
  },
  {
   "cell_type": "code",
   "execution_count": 133,
   "metadata": {
    "colab": {
     "base_uri": "https://localhost:8080/"
    },
    "id": "-ywX8k1XhuZU",
    "outputId": "b6527034-b349-4332-e88e-b794a822376b"
   },
   "outputs": [
    {
     "name": "stdout",
     "output_type": "stream",
     "text": [
      "+------------------------+--------------+\n",
      "|customer_zip_code_prefix|customer_count|\n",
      "+------------------------+--------------+\n",
      "|                   29285|            17|\n",
      "|                   20735|            37|\n",
      "|                   18051|            22|\n",
      "|                   13840|            12|\n",
      "|                   12940|            21|\n",
      "|                    6397|             4|\n",
      "|                   26087|            15|\n",
      "|                   70355|             3|\n",
      "|                   74820|             5|\n",
      "|                   31035|            30|\n",
      "|                    7240|            16|\n",
      "|                    4935|             3|\n",
      "|                   18800|            19|\n",
      "|                   95080|             8|\n",
      "|                    2122|             7|\n",
      "|                    4101|             5|\n",
      "|                   62680|             5|\n",
      "|                    2366|             4|\n",
      "|                   89874|            10|\n",
      "|                   66010|             2|\n",
      "+------------------------+--------------+\n",
      "only showing top 20 rows\n",
      "\n"
     ]
    }
   ],
   "source": [
    "customer_by_zip_df = df_customers.groupBy(\"customer_zip_code_prefix\").agg(count(\"customer_id\").alias(\"customer_count\"))\n",
    "customer_by_zip_df.show()"
   ]
  },
  {
   "cell_type": "markdown",
   "metadata": {
    "id": "ziFuOoCDN8-6"
   },
   "source": [
    "# Transformation"
   ]
  },
  {
   "cell_type": "markdown",
   "metadata": {
    "id": "ZlWTar5ZfHGD"
   },
   "source": [
    "- Customer transformation"
   ]
  },
  {
   "cell_type": "code",
   "execution_count": 10,
   "metadata": {
    "colab": {
     "base_uri": "https://localhost:8080/"
    },
    "id": "Yo_KCMoMKJfP",
    "outputId": "da5368f8-8a79-4ca8-9c86-e6556e629254"
   },
   "outputs": [
    {
     "name": "stdout",
     "output_type": "stream",
     "text": [
      "+--------------------+--------------------+------------------------+--------------------+--------------+------+---+--------------+-----------+\n",
      "|         customer_id|  customer_unique_id|customer_zip_code_prefix|       customer_city|customer_state|gender|age|marital_status|customer_SK|\n",
      "+--------------------+--------------------+------------------------+--------------------+--------------+------+---+--------------+-----------+\n",
      "|00012a2ce6f8dcda2...|248ffe10d632bebe4...|                    6273|              osasco|            SP|Female| 46|       Married|          1|\n",
      "|000161a058600d590...|b0015e09bb4b6e47c...|                   35550|         itapecerica|            MG|  Male| 57|       Married|          2|\n",
      "|0001fd6190edaaf88...|94b11d37cd61cb299...|                   29830|        nova venecia|            ES|Female| 40|       Married|          3|\n",
      "|0002414f953443074...|4893ad4ea28b2c5b3...|                   39664|            mendonca|            MG|Female| 26|       Married|          4|\n",
      "|000379cdec6255224...|0b83f73b19c2019e1...|                    4841|           sao paulo|            SP|  Male| 43|       Married|          5|\n",
      "|0004164d20a9e969a...|104bdb7e6a6cdceaa...|                   13272|            valinhos|            SP|Female| 41|       Married|          6|\n",
      "|000419c5494106c30...|14843983d4a159080...|                   24220|             niteroi|            RJ|Female| 20|        Single|          7|\n",
      "|00046a560d407e99b...|0b5295fc9819d831f...|                   20540|      rio de janeiro|            RJ|Female| 55|       Married|          8|\n",
      "|00050bf6e01e69d5c...|e3cf594a99e810f58...|                   98700|                ijui|            RS|Female| 37|        Single|          9|\n",
      "|000598caf2ef41174...|7e0516b486e92ed3f...|                   35540|            oliveira|            MG|Female| 54|        Single|         10|\n",
      "|0005aefbb696d34b3...|616309b2eeb7bd9c0...|                    3052|           sao paulo|            SP|Female| 21|        Single|         11|\n",
      "|00062b33cb9f6fe97...|f90f55ee274a4ae21...|                    2306|           sao paulo|            SP|Female| 68|      Divorced|         12|\n",
      "|00066ccbe787a588c...|15090f48004f3b0fc...|                   93525|       novo hamburgo|            RS|Female| 52|       Married|         13|\n",
      "|00072d033fe2e5906...|b7c13491fd2aecd93...|                   45026|vitoria da conquista|            BA|Female| 62|        Single|         14|\n",
      "|0009a69b72033b2d0...|fa30145b07cad8e97...|                   13106|            campinas|            SP|Female| 56|       Married|         15|\n",
      "|000bf8121c3412d30...|1bc9b2dad6aefbfbc...|                   12335|             jacarei|            SP|  Male| 33|        Single|         16|\n",
      "|000e943451fc2788c...|d73c3cf4a0922ece1...|                   99460|            colorado|            RS|Female| 54|       Married|         17|\n",
      "|000f17e290c26b285...|74541fbb7526dabec...|                   98400|frederico westphalen|            RS|Female| 68|        Single|         18|\n",
      "|000fd45d6fedae68f...|cee6fa72fb403ef95...|                   12970|            piracaia|            SP|Female| 35|        Single|         19|\n",
      "|0010068a73b7c56da...|03dabd77cb0ed7a26...|                   63680|             parambu|            CE|Female| 43|        Single|         20|\n",
      "+--------------------+--------------------+------------------------+--------------------+--------------+------+---+--------------+-----------+\n",
      "only showing top 20 rows\n",
      "\n"
     ]
    }
   ],
   "source": [
    "from pyspark.sql.window import Window\n",
    "from pyspark.sql.functions import row_number\n",
    "\n",
    "#Add SK column\n",
    "windowSpec = Window.orderBy(\"customer_id\")\n",
    "df_with_sk = df_customers.withColumn(\"customer_SK\", row_number().over(windowSpec))\n",
    "df_with_sk.show()\n"
   ]
  },
  {
   "cell_type": "code",
   "execution_count": 11,
   "metadata": {
    "colab": {
     "base_uri": "https://localhost:8080/"
    },
    "id": "8sNWxu4OLB-y",
    "outputId": "b447a1e4-b44c-4d95-a28c-99461a7d7b37"
   },
   "outputs": [
    {
     "name": "stdout",
     "output_type": "stream",
     "text": [
      "+-----------+--------------------+--------------------+------------------------+--------------------+--------------+------+---+--------------+\n",
      "|customer_SK|         customer_id|  customer_unique_id|customer_zip_code_prefix|       customer_city|customer_state|gender|age|marital_status|\n",
      "+-----------+--------------------+--------------------+------------------------+--------------------+--------------+------+---+--------------+\n",
      "|          1|00012a2ce6f8dcda2...|248ffe10d632bebe4...|                    6273|              osasco|            SP|Female| 46|       Married|\n",
      "|          2|000161a058600d590...|b0015e09bb4b6e47c...|                   35550|         itapecerica|            MG|  Male| 57|       Married|\n",
      "|          3|0001fd6190edaaf88...|94b11d37cd61cb299...|                   29830|        nova venecia|            ES|Female| 40|       Married|\n",
      "|          4|0002414f953443074...|4893ad4ea28b2c5b3...|                   39664|            mendonca|            MG|Female| 26|       Married|\n",
      "|          5|000379cdec6255224...|0b83f73b19c2019e1...|                    4841|           sao paulo|            SP|  Male| 43|       Married|\n",
      "|          6|0004164d20a9e969a...|104bdb7e6a6cdceaa...|                   13272|            valinhos|            SP|Female| 41|       Married|\n",
      "|          7|000419c5494106c30...|14843983d4a159080...|                   24220|             niteroi|            RJ|Female| 20|        Single|\n",
      "|          8|00046a560d407e99b...|0b5295fc9819d831f...|                   20540|      rio de janeiro|            RJ|Female| 55|       Married|\n",
      "|          9|00050bf6e01e69d5c...|e3cf594a99e810f58...|                   98700|                ijui|            RS|Female| 37|        Single|\n",
      "|         10|000598caf2ef41174...|7e0516b486e92ed3f...|                   35540|            oliveira|            MG|Female| 54|        Single|\n",
      "|         11|0005aefbb696d34b3...|616309b2eeb7bd9c0...|                    3052|           sao paulo|            SP|Female| 21|        Single|\n",
      "|         12|00062b33cb9f6fe97...|f90f55ee274a4ae21...|                    2306|           sao paulo|            SP|Female| 68|      Divorced|\n",
      "|         13|00066ccbe787a588c...|15090f48004f3b0fc...|                   93525|       novo hamburgo|            RS|Female| 52|       Married|\n",
      "|         14|00072d033fe2e5906...|b7c13491fd2aecd93...|                   45026|vitoria da conquista|            BA|Female| 62|        Single|\n",
      "|         15|0009a69b72033b2d0...|fa30145b07cad8e97...|                   13106|            campinas|            SP|Female| 56|       Married|\n",
      "|         16|000bf8121c3412d30...|1bc9b2dad6aefbfbc...|                   12335|             jacarei|            SP|  Male| 33|        Single|\n",
      "|         17|000e943451fc2788c...|d73c3cf4a0922ece1...|                   99460|            colorado|            RS|Female| 54|       Married|\n",
      "|         18|000f17e290c26b285...|74541fbb7526dabec...|                   98400|frederico westphalen|            RS|Female| 68|        Single|\n",
      "|         19|000fd45d6fedae68f...|cee6fa72fb403ef95...|                   12970|            piracaia|            SP|Female| 35|        Single|\n",
      "|         20|0010068a73b7c56da...|03dabd77cb0ed7a26...|                   63680|             parambu|            CE|Female| 43|        Single|\n",
      "+-----------+--------------------+--------------------+------------------------+--------------------+--------------+------+---+--------------+\n",
      "only showing top 20 rows\n",
      "\n"
     ]
    }
   ],
   "source": [
    "# Get all column names, move 'sk' to the front\n",
    "cols = df_with_sk.columns\n",
    "cols = ['customer_SK'] + [col for col in cols if col != 'customer_SK']\n",
    "\n",
    "# Reorder the DataFrame\n",
    "df_reordered = df_with_sk.select(cols)\n",
    "df_reordered.show()\n"
   ]
  },
  {
   "cell_type": "code",
   "execution_count": 12,
   "metadata": {
    "id": "d5gzbDF4MeF9"
   },
   "outputs": [],
   "source": [
    "from pyspark.sql.functions import when, col, rand\n",
    "from pyspark.sql.types import IntegerType\n",
    "import random"
   ]
  },
  {
   "cell_type": "code",
   "execution_count": 13,
   "metadata": {
    "id": "acT0ca1uMbLr"
   },
   "outputs": [],
   "source": [
    "#Map abbreviations to full state names\n",
    "df_full_state = df_reordered.withColumn(\"customer_state_full\",\n",
    "    when(col(\"customer_state\") == \"AC\", \"Acre\")\n",
    "    .when(col(\"customer_state\") == \"AL\", \"Alagoas\")\n",
    "    .when(col(\"customer_state\") == \"AP\", \"Amapa\")\n",
    "    .when(col(\"customer_state\") == \"AM\", \"Amazonas\")\n",
    "    .when(col(\"customer_state\") == \"BA\", \"Bahia\")\n",
    "    .when(col(\"customer_state\") == \"CE\", \"Ceara\")\n",
    "    .when(col(\"customer_state\") == \"DF\", \"Distrito Federal\")\n",
    "    .when(col(\"customer_state\") == \"ES\", \"Espirito Santo\")\n",
    "    .when(col(\"customer_state\") == \"GO\", \"Goias\")\n",
    "    .when(col(\"customer_state\") == \"MA\", \"Maranhao\")\n",
    "    .when(col(\"customer_state\") == \"MT\", \"Mato Grosso\")\n",
    "    .when(col(\"customer_state\") == \"MS\", \"Mato Grosso do Sul\")\n",
    "    .when(col(\"customer_state\") == \"MG\", \"Minas Gerais\")\n",
    "    .when(col(\"customer_state\") == \"PA\", \"Para\")\n",
    "    .when(col(\"customer_state\") == \"PB\", \"Paraiba\")\n",
    "    .when(col(\"customer_state\") == \"PR\", \"Parana\")\n",
    "    .when(col(\"customer_state\") == \"PE\", \"Pernambuco\")\n",
    "    .when(col(\"customer_state\") == \"PI\", \"Piaui\")\n",
    "    .when(col(\"customer_state\") == \"RJ\", \"Rio de Janeiro\")\n",
    "    .when(col(\"customer_state\") == \"RN\", \"Rio Grande do Norte\")\n",
    "    .when(col(\"customer_state\") == \"RS\", \"Rio Grande do Sul\")\n",
    "    .when(col(\"customer_state\") == \"RO\", \"Rondonia\")\n",
    "    .when(col(\"customer_state\") == \"RR\", \"Roraima\")\n",
    "    .when(col(\"customer_state\") == \"SC\", \"Santa Catarina\")\n",
    "    .when(col(\"customer_state\") == \"SP\", \"Sao Paulo\")\n",
    "    .when(col(\"customer_state\") == \"SE\", \"Sergipe\")\n",
    "    .when(col(\"customer_state\") == \"TO\", \"Tocantins\")\n",
    ")"
   ]
  },
  {
   "cell_type": "code",
   "execution_count": 14,
   "metadata": {
    "colab": {
     "base_uri": "https://localhost:8080/"
    },
    "id": "1_fmicoiM7UD",
    "outputId": "d8dd9f66-df05-4c13-fc43-1920907f3738"
   },
   "outputs": [
    {
     "name": "stdout",
     "output_type": "stream",
     "text": [
      "+-----------+--------------------+--------------------+------------------------+--------------------+--------------+------+---+--------------+-------------------+\n",
      "|customer_SK|         customer_id|  customer_unique_id|customer_zip_code_prefix|       customer_city|customer_state|gender|age|marital_status|customer_state_full|\n",
      "+-----------+--------------------+--------------------+------------------------+--------------------+--------------+------+---+--------------+-------------------+\n",
      "|          1|00012a2ce6f8dcda2...|248ffe10d632bebe4...|                    6273|              osasco|            SP|Female| 46|       Married|          Sao Paulo|\n",
      "|          2|000161a058600d590...|b0015e09bb4b6e47c...|                   35550|         itapecerica|            MG|  Male| 57|       Married|       Minas Gerais|\n",
      "|          3|0001fd6190edaaf88...|94b11d37cd61cb299...|                   29830|        nova venecia|            ES|Female| 40|       Married|     Espirito Santo|\n",
      "|          4|0002414f953443074...|4893ad4ea28b2c5b3...|                   39664|            mendonca|            MG|Female| 26|       Married|       Minas Gerais|\n",
      "|          5|000379cdec6255224...|0b83f73b19c2019e1...|                    4841|           sao paulo|            SP|  Male| 43|       Married|          Sao Paulo|\n",
      "|          6|0004164d20a9e969a...|104bdb7e6a6cdceaa...|                   13272|            valinhos|            SP|Female| 41|       Married|          Sao Paulo|\n",
      "|          7|000419c5494106c30...|14843983d4a159080...|                   24220|             niteroi|            RJ|Female| 20|        Single|     Rio de Janeiro|\n",
      "|          8|00046a560d407e99b...|0b5295fc9819d831f...|                   20540|      rio de janeiro|            RJ|Female| 55|       Married|     Rio de Janeiro|\n",
      "|          9|00050bf6e01e69d5c...|e3cf594a99e810f58...|                   98700|                ijui|            RS|Female| 37|        Single|  Rio Grande do Sul|\n",
      "|         10|000598caf2ef41174...|7e0516b486e92ed3f...|                   35540|            oliveira|            MG|Female| 54|        Single|       Minas Gerais|\n",
      "|         11|0005aefbb696d34b3...|616309b2eeb7bd9c0...|                    3052|           sao paulo|            SP|Female| 21|        Single|          Sao Paulo|\n",
      "|         12|00062b33cb9f6fe97...|f90f55ee274a4ae21...|                    2306|           sao paulo|            SP|Female| 68|      Divorced|          Sao Paulo|\n",
      "|         13|00066ccbe787a588c...|15090f48004f3b0fc...|                   93525|       novo hamburgo|            RS|Female| 52|       Married|  Rio Grande do Sul|\n",
      "|         14|00072d033fe2e5906...|b7c13491fd2aecd93...|                   45026|vitoria da conquista|            BA|Female| 62|        Single|              Bahia|\n",
      "|         15|0009a69b72033b2d0...|fa30145b07cad8e97...|                   13106|            campinas|            SP|Female| 56|       Married|          Sao Paulo|\n",
      "|         16|000bf8121c3412d30...|1bc9b2dad6aefbfbc...|                   12335|             jacarei|            SP|  Male| 33|        Single|          Sao Paulo|\n",
      "|         17|000e943451fc2788c...|d73c3cf4a0922ece1...|                   99460|            colorado|            RS|Female| 54|       Married|  Rio Grande do Sul|\n",
      "|         18|000f17e290c26b285...|74541fbb7526dabec...|                   98400|frederico westphalen|            RS|Female| 68|        Single|  Rio Grande do Sul|\n",
      "|         19|000fd45d6fedae68f...|cee6fa72fb403ef95...|                   12970|            piracaia|            SP|Female| 35|        Single|          Sao Paulo|\n",
      "|         20|0010068a73b7c56da...|03dabd77cb0ed7a26...|                   63680|             parambu|            CE|Female| 43|        Single|              Ceara|\n",
      "+-----------+--------------------+--------------------+------------------------+--------------------+--------------+------+---+--------------+-------------------+\n",
      "only showing top 20 rows\n",
      "\n"
     ]
    }
   ],
   "source": [
    "df_full_state.show()"
   ]
  },
  {
   "cell_type": "code",
   "execution_count": 15,
   "metadata": {
    "colab": {
     "base_uri": "https://localhost:8080/"
    },
    "id": "pD5tAztYAfIu",
    "outputId": "a53a0ba2-f100-4acc-ced2-eca6717bb722"
   },
   "outputs": [
    {
     "name": "stdout",
     "output_type": "stream",
     "text": [
      "Requirement already satisfied: unidecode in ./jupyter_venv/lib/python3.12/site-packages (1.3.8)\n"
     ]
    }
   ],
   "source": [
    "!pip install unidecode\n"
   ]
  },
  {
   "cell_type": "code",
   "execution_count": 16,
   "metadata": {
    "id": "AZwvGUNvLk41"
   },
   "outputs": [],
   "source": [
    "from unidecode import unidecode\n",
    "from pyspark.sql.functions import udf\n",
    "from pyspark.sql.types import StringType\n"
   ]
  },
  {
   "cell_type": "code",
   "execution_count": 17,
   "metadata": {
    "id": "rOQ6485WLmX4"
   },
   "outputs": [],
   "source": [
    "def remove_accents(text):\n",
    "    if text is not None:\n",
    "        return unidecode(text)\n",
    "    return None\n",
    "\n",
    "remove_accents_udf = udf(remove_accents, StringType())\n"
   ]
  },
  {
   "cell_type": "code",
   "execution_count": 18,
   "metadata": {
    "id": "0zbsoAXiRZkW"
   },
   "outputs": [],
   "source": [
    "#To validate the other cities  :\n",
    "\n",
    "df_full_state = df_full_state.withColumn(\"customer_city\", remove_accents_udf(\"customer_city\"))"
   ]
  },
  {
   "cell_type": "code",
   "execution_count": 19,
   "metadata": {
    "colab": {
     "base_uri": "https://localhost:8080/"
    },
    "id": "mJV2D5XxCRnU",
    "outputId": "ba49dd69-6c8a-4beb-f889-88b7ee844dc7"
   },
   "outputs": [
    {
     "ename": "SyntaxError",
     "evalue": "unexpected character after line continuation character (1947774362.py, line 1)",
     "output_type": "error",
     "traceback": [
      "  \u001b[36mCell\u001b[39m\u001b[36m \u001b[39m\u001b[32mIn[19]\u001b[39m\u001b[32m, line 1\u001b[39m\n\u001b[31m    \u001b[39m\u001b[31mdf_full_state.filter(df_full_state.customer_city.isin(\"sao paulo\", \"são paulo\")) \\\u001b[39m\n                                                                                      ^\n\u001b[31mSyntaxError\u001b[39m\u001b[31m:\u001b[39m unexpected character after line continuation character\n"
     ]
    }
   ],
   "source": [
    "df_full_state.filter(df_full_state.customer_city.isin(\"sao paulo\", \"são paulo\")) \\ \n",
    "    .groupBy(\"customer_city\").count() \\\n",
    "    .orderBy(\"count\", ascending=False).show()\n"
   ]
  },
  {
   "cell_type": "markdown",
   "metadata": {
    "id": "-FT9Q6P_Rfp0"
   },
   "source": [
    "- Geo df transformation"
   ]
  },
  {
   "cell_type": "code",
   "execution_count": 20,
   "metadata": {
    "id": "bFkW4U6OLrK7"
   },
   "outputs": [],
   "source": [
    "df_geo = df_geo.withColumn(\"geolocation_city\", remove_accents_udf(\"geolocation_city\"))\n"
   ]
  },
  {
   "cell_type": "code",
   "execution_count": 21,
   "metadata": {
    "colab": {
     "base_uri": "https://localhost:8080/"
    },
    "id": "li29uGzMC2ph",
    "outputId": "c82df115-71d3-4773-e39e-a6290389df86"
   },
   "outputs": [
    {
     "name": "stdout",
     "output_type": "stream",
     "text": [
      "+----------------+-----+\n",
      "|geolocation_city|count|\n",
      "+----------------+-----+\n",
      "|       sao paulo| 3183|\n",
      "+----------------+-----+\n",
      "\n"
     ]
    }
   ],
   "source": [
    "df_geo.filter(df_geo.geolocation_city.isin(\"sao paulo\", \"são paulo\")) \\\n",
    "    .groupBy(\"geolocation_city\").count() \\\n",
    "    .orderBy(\"count\", ascending=False).show()\n",
    "#this worked"
   ]
  },
  {
   "cell_type": "code",
   "execution_count": 22,
   "metadata": {
    "id": "Fm7wpJRYOtJX"
   },
   "outputs": [],
   "source": [
    "# Join Customer(after transformation) with geo\n",
    "joined_customer_geo_df = df_full_state.join(df_geo.select('geolocation_zip_code_prefix','geolocation_lat','geolocation_lng'), df_full_state[\"customer_zip_code_prefix\"] == df_geo[\"geolocation_zip_code_prefix\"], \"left\")\n"
   ]
  },
  {
   "cell_type": "code",
   "execution_count": 23,
   "metadata": {
    "colab": {
     "base_uri": "https://localhost:8080/"
    },
    "id": "vqKfRR4fi8Xl",
    "outputId": "21ad2582-20a7-49ee-d1aa-0f1390476f2c"
   },
   "outputs": [
    {
     "name": "stdout",
     "output_type": "stream",
     "text": [
      "+-----------+--------------------+--------------------+------------------------+--------------------+--------------+------+---+--------------+-------------------+---------------------------+---------------+---------------+\n",
      "|customer_SK|         customer_id|  customer_unique_id|customer_zip_code_prefix|       customer_city|customer_state|gender|age|marital_status|customer_state_full|geolocation_zip_code_prefix|geolocation_lat|geolocation_lng|\n",
      "+-----------+--------------------+--------------------+------------------------+--------------------+--------------+------+---+--------------+-------------------+---------------------------+---------------+---------------+\n",
      "|          8|00046a560d407e99b...|0b5295fc9819d831f...|                   20540|      rio de janeiro|            RJ|Female| 55|       Married|     Rio de Janeiro|                      20540|   -22.92173311|   -43.25868934|\n",
      "|         14|00072d033fe2e5906...|b7c13491fd2aecd93...|                   45026|vitoria da conquista|            BA|Female| 62|        Single|              Bahia|                      45026|    -14.8893525|   -40.84248825|\n",
      "|          7|000419c5494106c30...|14843983d4a159080...|                   24220|             niteroi|            RJ|Female| 20|        Single|     Rio de Janeiro|                      24220|   -22.90581655|   -43.10698886|\n",
      "|          1|00012a2ce6f8dcda2...|248ffe10d632bebe4...|                    6273|              osasco|            SP|Female| 46|       Married|          Sao Paulo|                       6273|   -23.49968872|   -46.76690136|\n",
      "|         12|00062b33cb9f6fe97...|f90f55ee274a4ae21...|                    2306|           sao paulo|            SP|Female| 68|      Divorced|          Sao Paulo|                       2306|   -23.45244942|   -46.60149896|\n",
      "|         15|0009a69b72033b2d0...|fa30145b07cad8e97...|                   13106|            campinas|            SP|Female| 56|       Married|          Sao Paulo|                      13106|    -22.8840332|   -46.95975619|\n",
      "|         10|000598caf2ef41174...|7e0516b486e92ed3f...|                   35540|            oliveira|            MG|Female| 54|        Single|       Minas Gerais|                      35540|   -20.70743288|   -44.83297587|\n",
      "|         18|000f17e290c26b285...|74541fbb7526dabec...|                   98400|frederico westphalen|            RS|Female| 68|        Single|  Rio Grande do Sul|                      98400|    -27.3554709|   -53.40427015|\n",
      "|         17|000e943451fc2788c...|d73c3cf4a0922ece1...|                   99460|            colorado|            RS|Female| 54|       Married|  Rio Grande do Sul|                      99460|   -28.53130875|   -52.99192035|\n",
      "|          4|0002414f953443074...|4893ad4ea28b2c5b3...|                   39664|            mendonca|            MG|Female| 26|       Married|       Minas Gerais|                      39664|   -21.77059918|   -43.35523022|\n",
      "|          9|00050bf6e01e69d5c...|e3cf594a99e810f58...|                   98700|                ijui|            RS|Female| 37|        Single|  Rio Grande do Sul|                      98700|   -28.38922766|   -53.92967622|\n",
      "|         21|001028b78fd413e19...|e57a935f49ffd73b9...|                    5387|           sao paulo|            SP|Female| 47|        Single|          Sao Paulo|                       5387|   -23.56543228|   -46.76565776|\n",
      "|         19|000fd45d6fedae68f...|cee6fa72fb403ef95...|                   12970|            piracaia|            SP|Female| 35|        Single|          Sao Paulo|                      12970|   -23.05588544|   -46.35910657|\n",
      "|         16|000bf8121c3412d30...|1bc9b2dad6aefbfbc...|                   12335|             jacarei|            SP|  Male| 33|        Single|          Sao Paulo|                      12335|   -23.26192874|   -45.96848029|\n",
      "|         11|0005aefbb696d34b3...|616309b2eeb7bd9c0...|                    3052|           sao paulo|            SP|Female| 21|        Single|          Sao Paulo|                       3052|   -23.54135257|   -46.60955538|\n",
      "|         20|0010068a73b7c56da...|03dabd77cb0ed7a26...|                   63680|             parambu|            CE|Female| 43|        Single|              Ceara|                      63680|   -6.213538995|   -40.69680564|\n",
      "|          5|000379cdec6255224...|0b83f73b19c2019e1...|                    4841|           sao paulo|            SP|  Male| 43|       Married|          Sao Paulo|                       4841|   -23.74114012|   -46.69050874|\n",
      "|          6|0004164d20a9e969a...|104bdb7e6a6cdceaa...|                   13272|            valinhos|            SP|Female| 41|       Married|          Sao Paulo|                      13272|   -22.94509412|   -46.99793672|\n",
      "|          2|000161a058600d590...|b0015e09bb4b6e47c...|                   35550|         itapecerica|            MG|  Male| 57|       Married|       Minas Gerais|                      35550|   -20.47058243|   -45.10871624|\n",
      "|         13|00066ccbe787a588c...|15090f48004f3b0fc...|                   93525|       novo hamburgo|            RS|Female| 52|       Married|  Rio Grande do Sul|                      93525|   -29.66670799|   -51.12058724|\n",
      "+-----------+--------------------+--------------------+------------------------+--------------------+--------------+------+---+--------------+-------------------+---------------------------+---------------+---------------+\n",
      "only showing top 20 rows\n",
      "\n"
     ]
    }
   ],
   "source": [
    "joined_customer_geo_df.show()"
   ]
  },
  {
   "cell_type": "code",
   "execution_count": 24,
   "metadata": {
    "id": "V4JBTO-vjI6V"
   },
   "outputs": [],
   "source": [
    "joined_customer_geo_df = joined_customer_geo_df.drop(\"geolocation_zip_code_prefix\")\n"
   ]
  },
  {
   "cell_type": "code",
   "execution_count": 25,
   "metadata": {
    "colab": {
     "base_uri": "https://localhost:8080/"
    },
    "id": "EFDWNrggjS2M",
    "outputId": "4f6aec53-36c9-4cc5-ef70-af6ac08abdec"
   },
   "outputs": [
    {
     "name": "stdout",
     "output_type": "stream",
     "text": [
      "+-----------+--------------------+--------------------+------------------------+--------------------+--------------+------+---+--------------+-------------------+---------------+---------------+\n",
      "|customer_SK|         customer_id|  customer_unique_id|customer_zip_code_prefix|       customer_city|customer_state|gender|age|marital_status|customer_state_full|geolocation_lat|geolocation_lng|\n",
      "+-----------+--------------------+--------------------+------------------------+--------------------+--------------+------+---+--------------+-------------------+---------------+---------------+\n",
      "|          8|00046a560d407e99b...|0b5295fc9819d831f...|                   20540|      rio de janeiro|            RJ|Female| 55|       Married|     Rio de Janeiro|   -22.92173311|   -43.25868934|\n",
      "|         14|00072d033fe2e5906...|b7c13491fd2aecd93...|                   45026|vitoria da conquista|            BA|Female| 62|        Single|              Bahia|    -14.8893525|   -40.84248825|\n",
      "|          7|000419c5494106c30...|14843983d4a159080...|                   24220|             niteroi|            RJ|Female| 20|        Single|     Rio de Janeiro|   -22.90581655|   -43.10698886|\n",
      "|          1|00012a2ce6f8dcda2...|248ffe10d632bebe4...|                    6273|              osasco|            SP|Female| 46|       Married|          Sao Paulo|   -23.49968872|   -46.76690136|\n",
      "|         12|00062b33cb9f6fe97...|f90f55ee274a4ae21...|                    2306|           sao paulo|            SP|Female| 68|      Divorced|          Sao Paulo|   -23.45244942|   -46.60149896|\n",
      "|         15|0009a69b72033b2d0...|fa30145b07cad8e97...|                   13106|            campinas|            SP|Female| 56|       Married|          Sao Paulo|    -22.8840332|   -46.95975619|\n",
      "|         10|000598caf2ef41174...|7e0516b486e92ed3f...|                   35540|            oliveira|            MG|Female| 54|        Single|       Minas Gerais|   -20.70743288|   -44.83297587|\n",
      "|         18|000f17e290c26b285...|74541fbb7526dabec...|                   98400|frederico westphalen|            RS|Female| 68|        Single|  Rio Grande do Sul|    -27.3554709|   -53.40427015|\n",
      "|         17|000e943451fc2788c...|d73c3cf4a0922ece1...|                   99460|            colorado|            RS|Female| 54|       Married|  Rio Grande do Sul|   -28.53130875|   -52.99192035|\n",
      "|          4|0002414f953443074...|4893ad4ea28b2c5b3...|                   39664|            mendonca|            MG|Female| 26|       Married|       Minas Gerais|   -21.77059918|   -43.35523022|\n",
      "|          9|00050bf6e01e69d5c...|e3cf594a99e810f58...|                   98700|                ijui|            RS|Female| 37|        Single|  Rio Grande do Sul|   -28.38922766|   -53.92967622|\n",
      "|         21|001028b78fd413e19...|e57a935f49ffd73b9...|                    5387|           sao paulo|            SP|Female| 47|        Single|          Sao Paulo|   -23.56543228|   -46.76565776|\n",
      "|         19|000fd45d6fedae68f...|cee6fa72fb403ef95...|                   12970|            piracaia|            SP|Female| 35|        Single|          Sao Paulo|   -23.05588544|   -46.35910657|\n",
      "|         16|000bf8121c3412d30...|1bc9b2dad6aefbfbc...|                   12335|             jacarei|            SP|  Male| 33|        Single|          Sao Paulo|   -23.26192874|   -45.96848029|\n",
      "|         11|0005aefbb696d34b3...|616309b2eeb7bd9c0...|                    3052|           sao paulo|            SP|Female| 21|        Single|          Sao Paulo|   -23.54135257|   -46.60955538|\n",
      "|         20|0010068a73b7c56da...|03dabd77cb0ed7a26...|                   63680|             parambu|            CE|Female| 43|        Single|              Ceara|   -6.213538995|   -40.69680564|\n",
      "|          5|000379cdec6255224...|0b83f73b19c2019e1...|                    4841|           sao paulo|            SP|  Male| 43|       Married|          Sao Paulo|   -23.74114012|   -46.69050874|\n",
      "|          6|0004164d20a9e969a...|104bdb7e6a6cdceaa...|                   13272|            valinhos|            SP|Female| 41|       Married|          Sao Paulo|   -22.94509412|   -46.99793672|\n",
      "|          2|000161a058600d590...|b0015e09bb4b6e47c...|                   35550|         itapecerica|            MG|  Male| 57|       Married|       Minas Gerais|   -20.47058243|   -45.10871624|\n",
      "|         13|00066ccbe787a588c...|15090f48004f3b0fc...|                   93525|       novo hamburgo|            RS|Female| 52|       Married|  Rio Grande do Sul|   -29.66670799|   -51.12058724|\n",
      "+-----------+--------------------+--------------------+------------------------+--------------------+--------------+------+---+--------------+-------------------+---------------+---------------+\n",
      "only showing top 20 rows\n",
      "\n"
     ]
    }
   ],
   "source": [
    "joined_customer_geo_df.show()"
   ]
  },
  {
   "cell_type": "code",
   "execution_count": 26,
   "metadata": {
    "colab": {
     "base_uri": "https://localhost:8080/"
    },
    "id": "FxqA_HKG4M9w",
    "outputId": "3516f451-f034-4f5c-8f03-b3b8d0f6f401"
   },
   "outputs": [
    {
     "name": "stdout",
     "output_type": "stream",
     "text": [
      "+-----------+--------------------+--------------------+------------------------+--------------------+--------------+------+---+--------------+-------------------+---------------+---------------+\n",
      "|customer_SK|         customer_id|  customer_unique_id|customer_zip_code_prefix|       customer_city|customer_state|gender|age|marital_status|customer_state_full|geolocation_lat|geolocation_lng|\n",
      "+-----------+--------------------+--------------------+------------------------+--------------------+--------------+------+---+--------------+-------------------+---------------+---------------+\n",
      "|          1|00012a2ce6f8dcda2...|248ffe10d632bebe4...|                    6273|              osasco|            SP|Female| 46|       Married|          Sao Paulo|   -23.49968872|   -46.76690136|\n",
      "|          2|000161a058600d590...|b0015e09bb4b6e47c...|                   35550|         itapecerica|            MG|  Male| 57|       Married|       Minas Gerais|   -20.47058243|   -45.10871624|\n",
      "|          3|0001fd6190edaaf88...|94b11d37cd61cb299...|                   29830|        nova venecia|            ES|Female| 40|       Married|     Espirito Santo|   -18.71679333|   -40.39796908|\n",
      "|          4|0002414f953443074...|4893ad4ea28b2c5b3...|                   39664|            mendonca|            MG|Female| 26|       Married|       Minas Gerais|   -21.77059918|   -43.35523022|\n",
      "|          5|000379cdec6255224...|0b83f73b19c2019e1...|                    4841|           sao paulo|            SP|  Male| 43|       Married|          Sao Paulo|   -23.74114012|   -46.69050874|\n",
      "|          6|0004164d20a9e969a...|104bdb7e6a6cdceaa...|                   13272|            valinhos|            SP|Female| 41|       Married|          Sao Paulo|   -22.94509412|   -46.99793672|\n",
      "|          7|000419c5494106c30...|14843983d4a159080...|                   24220|             niteroi|            RJ|Female| 20|        Single|     Rio de Janeiro|   -22.90581655|   -43.10698886|\n",
      "|          8|00046a560d407e99b...|0b5295fc9819d831f...|                   20540|      rio de janeiro|            RJ|Female| 55|       Married|     Rio de Janeiro|   -22.92173311|   -43.25868934|\n",
      "|          9|00050bf6e01e69d5c...|e3cf594a99e810f58...|                   98700|                ijui|            RS|Female| 37|        Single|  Rio Grande do Sul|   -28.38922766|   -53.92967622|\n",
      "|         10|000598caf2ef41174...|7e0516b486e92ed3f...|                   35540|            oliveira|            MG|Female| 54|        Single|       Minas Gerais|   -20.70743288|   -44.83297587|\n",
      "|         11|0005aefbb696d34b3...|616309b2eeb7bd9c0...|                    3052|           sao paulo|            SP|Female| 21|        Single|          Sao Paulo|   -23.54135257|   -46.60955538|\n",
      "|         12|00062b33cb9f6fe97...|f90f55ee274a4ae21...|                    2306|           sao paulo|            SP|Female| 68|      Divorced|          Sao Paulo|   -23.45244942|   -46.60149896|\n",
      "|         13|00066ccbe787a588c...|15090f48004f3b0fc...|                   93525|       novo hamburgo|            RS|Female| 52|       Married|  Rio Grande do Sul|   -29.66670799|   -51.12058724|\n",
      "|         14|00072d033fe2e5906...|b7c13491fd2aecd93...|                   45026|vitoria da conquista|            BA|Female| 62|        Single|              Bahia|    -14.8893525|   -40.84248825|\n",
      "|         15|0009a69b72033b2d0...|fa30145b07cad8e97...|                   13106|            campinas|            SP|Female| 56|       Married|          Sao Paulo|    -22.8840332|   -46.95975619|\n",
      "|         16|000bf8121c3412d30...|1bc9b2dad6aefbfbc...|                   12335|             jacarei|            SP|  Male| 33|        Single|          Sao Paulo|   -23.26192874|   -45.96848029|\n",
      "|         17|000e943451fc2788c...|d73c3cf4a0922ece1...|                   99460|            colorado|            RS|Female| 54|       Married|  Rio Grande do Sul|   -28.53130875|   -52.99192035|\n",
      "|         18|000f17e290c26b285...|74541fbb7526dabec...|                   98400|frederico westphalen|            RS|Female| 68|        Single|  Rio Grande do Sul|    -27.3554709|   -53.40427015|\n",
      "|         19|000fd45d6fedae68f...|cee6fa72fb403ef95...|                   12970|            piracaia|            SP|Female| 35|        Single|          Sao Paulo|   -23.05588544|   -46.35910657|\n",
      "|         20|0010068a73b7c56da...|03dabd77cb0ed7a26...|                   63680|             parambu|            CE|Female| 43|        Single|              Ceara|   -6.213538995|   -40.69680564|\n",
      "+-----------+--------------------+--------------------+------------------------+--------------------+--------------+------+---+--------------+-------------------+---------------+---------------+\n",
      "only showing top 20 rows\n",
      "\n"
     ]
    }
   ],
   "source": [
    "sorted_df = joined_customer_geo_df.orderBy(\"customer_SK\")\n",
    "sorted_df.show()"
   ]
  },
  {
   "cell_type": "code",
   "execution_count": 27,
   "metadata": {
    "colab": {
     "base_uri": "https://localhost:8080/"
    },
    "id": "Ot7-src8cN0n",
    "outputId": "9b97daeb-9908-4fb6-e727-62df648c3655"
   },
   "outputs": [
    {
     "ename": "NameError",
     "evalue": "name 'count' is not defined",
     "output_type": "error",
     "traceback": [
      "\u001b[31m---------------------------------------------------------------------------\u001b[39m",
      "\u001b[31mNameError\u001b[39m                                 Traceback (most recent call last)",
      "\u001b[36mCell\u001b[39m\u001b[36m \u001b[39m\u001b[32mIn[27]\u001b[39m\u001b[32m, line 2\u001b[39m\n\u001b[32m      1\u001b[39m \u001b[38;5;66;03m#Cheak Nulls\u001b[39;00m\n\u001b[32m----> \u001b[39m\u001b[32m2\u001b[39m sorted_df.select([\u001b[43mcount\u001b[49m(when(col(c).isNull() | isnan(c), c)).alias(c) \u001b[38;5;28;01mfor\u001b[39;00m c \u001b[38;5;129;01min\u001b[39;00m sorted_df.columns]).show()\n",
      "\u001b[31mNameError\u001b[39m: name 'count' is not defined"
     ]
    }
   ],
   "source": [
    "#Cheak Nulls\n",
    "sorted_df.select([count(when(col(c).isNull() | isnan(c), c)).alias(c) for c in sorted_df.columns]).show()"
   ]
  },
  {
   "cell_type": "code",
   "execution_count": 28,
   "metadata": {
    "colab": {
     "base_uri": "https://localhost:8080/"
    },
    "id": "vngBj6Sn4tTL",
    "outputId": "e2266067-a4f4-46e2-c846-c2aa4e571776"
   },
   "outputs": [
    {
     "name": "stdout",
     "output_type": "stream",
     "text": [
      "+-----------+--------------------+--------------------+------------------------+--------------------+--------------+------+---+--------------+-------------------+---------------+---------------+----------+--------+----------+\n",
      "|customer_SK|         customer_id|  customer_unique_id|customer_zip_code_prefix|       customer_city|customer_state|gender|age|marital_status|customer_state_full|geolocation_lat|geolocation_lng|start_date|end_date|is_current|\n",
      "+-----------+--------------------+--------------------+------------------------+--------------------+--------------+------+---+--------------+-------------------+---------------+---------------+----------+--------+----------+\n",
      "|          1|00012a2ce6f8dcda2...|248ffe10d632bebe4...|                    6273|              osasco|            SP|Female| 46|       Married|          Sao Paulo|   -23.49968872|   -46.76690136|2025-04-10|    null|      true|\n",
      "|          2|000161a058600d590...|b0015e09bb4b6e47c...|                   35550|         itapecerica|            MG|  Male| 57|       Married|       Minas Gerais|   -20.47058243|   -45.10871624|2025-04-10|    null|      true|\n",
      "|          3|0001fd6190edaaf88...|94b11d37cd61cb299...|                   29830|        nova venecia|            ES|Female| 40|       Married|     Espirito Santo|   -18.71679333|   -40.39796908|2025-04-10|    null|      true|\n",
      "|          4|0002414f953443074...|4893ad4ea28b2c5b3...|                   39664|            mendonca|            MG|Female| 26|       Married|       Minas Gerais|   -21.77059918|   -43.35523022|2025-04-10|    null|      true|\n",
      "|          5|000379cdec6255224...|0b83f73b19c2019e1...|                    4841|           sao paulo|            SP|  Male| 43|       Married|          Sao Paulo|   -23.74114012|   -46.69050874|2025-04-10|    null|      true|\n",
      "|          6|0004164d20a9e969a...|104bdb7e6a6cdceaa...|                   13272|            valinhos|            SP|Female| 41|       Married|          Sao Paulo|   -22.94509412|   -46.99793672|2025-04-10|    null|      true|\n",
      "|          7|000419c5494106c30...|14843983d4a159080...|                   24220|             niteroi|            RJ|Female| 20|        Single|     Rio de Janeiro|   -22.90581655|   -43.10698886|2025-04-10|    null|      true|\n",
      "|          8|00046a560d407e99b...|0b5295fc9819d831f...|                   20540|      rio de janeiro|            RJ|Female| 55|       Married|     Rio de Janeiro|   -22.92173311|   -43.25868934|2025-04-10|    null|      true|\n",
      "|          9|00050bf6e01e69d5c...|e3cf594a99e810f58...|                   98700|                ijui|            RS|Female| 37|        Single|  Rio Grande do Sul|   -28.38922766|   -53.92967622|2025-04-10|    null|      true|\n",
      "|         10|000598caf2ef41174...|7e0516b486e92ed3f...|                   35540|            oliveira|            MG|Female| 54|        Single|       Minas Gerais|   -20.70743288|   -44.83297587|2025-04-10|    null|      true|\n",
      "|         11|0005aefbb696d34b3...|616309b2eeb7bd9c0...|                    3052|           sao paulo|            SP|Female| 21|        Single|          Sao Paulo|   -23.54135257|   -46.60955538|2025-04-10|    null|      true|\n",
      "|         12|00062b33cb9f6fe97...|f90f55ee274a4ae21...|                    2306|           sao paulo|            SP|Female| 68|      Divorced|          Sao Paulo|   -23.45244942|   -46.60149896|2025-04-10|    null|      true|\n",
      "|         13|00066ccbe787a588c...|15090f48004f3b0fc...|                   93525|       novo hamburgo|            RS|Female| 52|       Married|  Rio Grande do Sul|   -29.66670799|   -51.12058724|2025-04-10|    null|      true|\n",
      "|         14|00072d033fe2e5906...|b7c13491fd2aecd93...|                   45026|vitoria da conquista|            BA|Female| 62|        Single|              Bahia|    -14.8893525|   -40.84248825|2025-04-10|    null|      true|\n",
      "|         15|0009a69b72033b2d0...|fa30145b07cad8e97...|                   13106|            campinas|            SP|Female| 56|       Married|          Sao Paulo|    -22.8840332|   -46.95975619|2025-04-10|    null|      true|\n",
      "|         16|000bf8121c3412d30...|1bc9b2dad6aefbfbc...|                   12335|             jacarei|            SP|  Male| 33|        Single|          Sao Paulo|   -23.26192874|   -45.96848029|2025-04-10|    null|      true|\n",
      "|         17|000e943451fc2788c...|d73c3cf4a0922ece1...|                   99460|            colorado|            RS|Female| 54|       Married|  Rio Grande do Sul|   -28.53130875|   -52.99192035|2025-04-10|    null|      true|\n",
      "|         18|000f17e290c26b285...|74541fbb7526dabec...|                   98400|frederico westphalen|            RS|Female| 68|        Single|  Rio Grande do Sul|    -27.3554709|   -53.40427015|2025-04-10|    null|      true|\n",
      "|         19|000fd45d6fedae68f...|cee6fa72fb403ef95...|                   12970|            piracaia|            SP|Female| 35|        Single|          Sao Paulo|   -23.05588544|   -46.35910657|2025-04-10|    null|      true|\n",
      "|         20|0010068a73b7c56da...|03dabd77cb0ed7a26...|                   63680|             parambu|            CE|Female| 43|        Single|              Ceara|   -6.213538995|   -40.69680564|2025-04-10|    null|      true|\n",
      "+-----------+--------------------+--------------------+------------------------+--------------------+--------------+------+---+--------------+-------------------+---------------+---------------+----------+--------+----------+\n",
      "only showing top 20 rows\n",
      "\n"
     ]
    }
   ],
   "source": [
    "#Add SCD\n",
    "from pyspark.sql.functions import lit, current_date\n",
    "\n",
    "df_customers_scd = sorted_df.withColumn(\"start_date\", current_date()) \\\n",
    "                   .withColumn(\"end_date\", lit(None).cast(\"date\")) \\\n",
    "                   .withColumn(\"is_current\", lit(True))\n",
    "\n",
    "df_customers_scd.show()\n"
   ]
  },
  {
   "cell_type": "markdown",
   "metadata": {
    "id": "74641MId4Yag"
   },
   "source": [
    "- sellers Transformation"
   ]
  },
  {
   "cell_type": "code",
   "execution_count": 29,
   "metadata": {
    "id": "3i5Xc-zA4d-x"
   },
   "outputs": [],
   "source": [
    "#Map abbreviations to full state names using `when`\n",
    "df_sellers_full_state = df_sellers.withColumn(\"seller_state_full\",\n",
    "    when(col(\"seller_state\") == \"AC\", \"Acre\")\n",
    "    .when(col(\"seller_state\") == \"AL\", \"Alagoas\")\n",
    "    .when(col(\"seller_state\") == \"AP\", \"Amapa\")\n",
    "    .when(col(\"seller_state\") == \"AM\", \"Amazonas\")\n",
    "    .when(col(\"seller_state\") == \"BA\", \"Bahia\")\n",
    "    .when(col(\"seller_state\") == \"CE\", \"Ceara\")\n",
    "    .when(col(\"seller_state\") == \"DF\", \"Distrito Federal\")\n",
    "    .when(col(\"seller_state\") == \"ES\", \"Espirito Santo\")\n",
    "    .when(col(\"seller_state\") == \"GO\", \"Goias\")\n",
    "    .when(col(\"seller_state\") == \"MA\", \"Maranhao\")\n",
    "    .when(col(\"seller_state\") == \"MT\", \"Mato Grosso\")\n",
    "    .when(col(\"seller_state\") == \"MS\", \"Mato Grosso do Sul\")\n",
    "    .when(col(\"seller_state\") == \"MG\", \"Minas Gerais\")\n",
    "    .when(col(\"seller_state\") == \"PA\", \"Para\")\n",
    "    .when(col(\"seller_state\") == \"PB\", \"Paraiba\")\n",
    "    .when(col(\"seller_state\") == \"PR\", \"Parana\")\n",
    "    .when(col(\"seller_state\") == \"PE\", \"Pernambuco\")\n",
    "    .when(col(\"seller_state\") == \"PI\", \"Piaui\")\n",
    "    .when(col(\"seller_state\") == \"RJ\", \"Rio de Janeiro\")\n",
    "    .when(col(\"seller_state\") == \"RN\", \"Rio Grande do Norte\")\n",
    "    .when(col(\"seller_state\") == \"RS\", \"Rio Grande do Sul\")\n",
    "    .when(col(\"seller_state\") == \"RO\", \"Rondonia\")\n",
    "    .when(col(\"seller_state\") == \"RR\", \"Roraima\")\n",
    "    .when(col(\"seller_state\") == \"SC\", \"Santa Catarina\")\n",
    "    .when(col(\"seller_state\") == \"SP\", \"Sao Paulo\")\n",
    "    .when(col(\"seller_state\") == \"SE\", \"Sergipe\")\n",
    "    .when(col(\"seller_state\") == \"TO\", \"Tocantins\")\n",
    ")"
   ]
  },
  {
   "cell_type": "code",
   "execution_count": 30,
   "metadata": {
    "colab": {
     "base_uri": "https://localhost:8080/"
    },
    "id": "N3VPxOwJOpkS",
    "outputId": "d9e5d3ad-6a44-4c58-a0b7-2fb6b78fa974"
   },
   "outputs": [
    {
     "name": "stdout",
     "output_type": "stream",
     "text": [
      "+--------------------+----------------------+-----------------+------------+-----------------+\n",
      "|           seller_id|seller_zip_code_prefix|      seller_city|seller_state|seller_state_full|\n",
      "+--------------------+----------------------+-----------------+------------+-----------------+\n",
      "|c35affa65afd25015...|                  8050|        sao paulo|          SP|        Sao Paulo|\n",
      "|ceb7b4fb9401cd378...|                 22790|   rio de janeiro|          RJ|   Rio de Janeiro|\n",
      "|e9874ae10b2d60d43...|                 86604|         rolandia|          PR|           Parana|\n",
      "|da4d149c0ddbac905...|                  9861|              sbc|          SP|        Sao Paulo|\n",
      "|e0878efa0e0b7e531...|                 80230|         curitiba|          PR|           Parana|\n",
      "|3442f8959a84dea7e...|                 13023|         campinas|          SP|        Sao Paulo|\n",
      "|d1b65fc7debc3361e...|                 13844|       mogi guacu|          SP|        Sao Paulo|\n",
      "|ce3ad9de960102d06...|                 20031|   rio de janeiro|          RJ|   Rio de Janeiro|\n",
      "|c0f3eea2e14555b6f...|                  4195|        sao paulo|          SP|        Sao Paulo|\n",
      "|51a04a8a6bdcb23de...|                 12914|braganca paulista|          SP|        Sao Paulo|\n",
      "|c240c4061717ac180...|                 20920|   rio de janeiro|          RJ|   Rio de Janeiro|\n",
      "|e49c26c3edfa46d22...|                 55325|           brejao|          PE|       Pernambuco|\n",
      "|1b938a7ec6ac5061a...|                 16304|        penapolis|          SP|        Sao Paulo|\n",
      "|768a86e36ad6aae3d...|                  1529|        sao paulo|          SP|        Sao Paulo|\n",
      "|ccc4bbb5f32a6ab2b...|                 80310|         curitiba|          PR|           Parana|\n",
      "|8cb7c5ddf41f4d506...|                 75110|         anapolis|          GO|            Goias|\n",
      "|a7a9b880c49781da6...|                 13530|        itirapina|          SP|        Sao Paulo|\n",
      "|8bd0f31cf0a614c65...|                  1222|        sao paulo|          SP|        Sao Paulo|\n",
      "|05a48cc8859962767...|                  5372|        sao paulo|          SP|        Sao Paulo|\n",
      "|7b8e8ec35bad4b0ef...|                 88705|          tubarao|          SC|   Santa Catarina|\n",
      "+--------------------+----------------------+-----------------+------------+-----------------+\n",
      "only showing top 20 rows\n",
      "\n"
     ]
    }
   ],
   "source": [
    "df_sellers_full_state.show()"
   ]
  },
  {
   "cell_type": "code",
   "execution_count": 31,
   "metadata": {
    "id": "w7XqpIf2S9w2"
   },
   "outputs": [],
   "source": [
    "# Join Sellers(after transformation) with geo\n",
    "joined_sellers_geo_df = df_sellers_full_state.join(df_geo.select('geolocation_zip_code_prefix','geolocation_lat','geolocation_lng'), df_sellers_full_state[\"seller_zip_code_prefix\"] == df_geo[\"geolocation_zip_code_prefix\"], \"left\")\n"
   ]
  },
  {
   "cell_type": "code",
   "execution_count": 32,
   "metadata": {
    "colab": {
     "base_uri": "https://localhost:8080/"
    },
    "id": "-ual0JEuTbFJ",
    "outputId": "4980cad6-79f2-4fd5-ac14-ba84cef75147"
   },
   "outputs": [
    {
     "name": "stdout",
     "output_type": "stream",
     "text": [
      "+--------------------+----------------------+-----------------+------------+-----------------+---------------------------+---------------+---------------+\n",
      "|           seller_id|seller_zip_code_prefix|      seller_city|seller_state|seller_state_full|geolocation_zip_code_prefix|geolocation_lat|geolocation_lng|\n",
      "+--------------------+----------------------+-----------------+------------+-----------------+---------------------------+---------------+---------------+\n",
      "|8bd0f31cf0a614c65...|                  1222|        sao paulo|          SP|        Sao Paulo|                       1222|   -23.54715958|   -46.64989461|\n",
      "|768a86e36ad6aae3d...|                  1529|        sao paulo|          SP|        Sao Paulo|                       1529|   -23.56935316|   -46.63690014|\n",
      "|c0f3eea2e14555b6f...|                  4195|        sao paulo|          SP|        Sao Paulo|                       4195|   -23.65725018|   -46.61075945|\n",
      "|05a48cc8859962767...|                  5372|        sao paulo|          SP|        Sao Paulo|                       5372|   -23.58316603|   -46.76124388|\n",
      "|c35affa65afd25015...|                  8050|        sao paulo|          SP|        Sao Paulo|                       8050|   -23.51101953|   -46.46270108|\n",
      "|da4d149c0ddbac905...|                  9861|              sbc|          SP|        Sao Paulo|                       9861|   -23.69588905|   -46.58174395|\n",
      "|51a04a8a6bdcb23de...|                 12914|braganca paulista|          SP|        Sao Paulo|                      12914|   -22.97164751|   -46.53361841|\n",
      "|3442f8959a84dea7e...|                 13023|         campinas|          SP|        Sao Paulo|                      13023|   -22.89853643|   -47.06312517|\n",
      "|a7a9b880c49781da6...|                 13530|        itirapina|          SP|        Sao Paulo|                      13530|   -22.24952039|   -47.81123678|\n",
      "|d1b65fc7debc3361e...|                 13844|       mogi guacu|          SP|        Sao Paulo|                      13844|   -22.38294112|   -46.94664125|\n",
      "|1b938a7ec6ac5061a...|                 16304|        penapolis|          SP|        Sao Paulo|                      16304|   -21.44212438|   -50.07351409|\n",
      "|ce3ad9de960102d06...|                 20031|   rio de janeiro|          RJ|   Rio de Janeiro|                      20031|   -22.91064097|   -43.17650983|\n",
      "|c240c4061717ac180...|                 20920|   rio de janeiro|          RJ|   Rio de Janeiro|                      20920|   -22.89141262|   -43.22976146|\n",
      "|ceb7b4fb9401cd378...|                 22790|   rio de janeiro|          RJ|   Rio de Janeiro|                      22790|   -23.01133469|   -43.45025642|\n",
      "|1444c08e64d55fb3c...|                 42738| lauro de freitas|          BA|            Bahia|                      42738|   -12.89511259|      -38.33896|\n",
      "|e49c26c3edfa46d22...|                 55325|           brejao|          PE|       Pernambuco|                      55325|   -9.024839005|   -36.57020045|\n",
      "|8cb7c5ddf41f4d506...|                 75110|         anapolis|          GO|            Goias|                      75110|   -16.32794215|   -48.93600324|\n",
      "|e0878efa0e0b7e531...|                 80230|         curitiba|          PR|           Parana|                      80230|   -25.44041155|   -49.27281542|\n",
      "|ccc4bbb5f32a6ab2b...|                 80310|         curitiba|          PR|           Parana|                      80310|   -25.46402932|   -49.30472795|\n",
      "|e9874ae10b2d60d43...|                 86604|         rolandia|          PR|           Parana|                      86604|   -23.32035842|   -51.38586195|\n",
      "+--------------------+----------------------+-----------------+------------+-----------------+---------------------------+---------------+---------------+\n",
      "only showing top 20 rows\n",
      "\n"
     ]
    }
   ],
   "source": [
    "joined_sellers_geo_df.show()"
   ]
  },
  {
   "cell_type": "code",
   "execution_count": 33,
   "metadata": {
    "colab": {
     "base_uri": "https://localhost:8080/"
    },
    "id": "q4hTkJkeTkXA",
    "outputId": "890c64dd-167a-41ac-97de-8f8121f429e7"
   },
   "outputs": [
    {
     "name": "stdout",
     "output_type": "stream",
     "text": [
      "+--------------------+----------------------+-----------------+------------+-----------------+---------------+---------------+\n",
      "|           seller_id|seller_zip_code_prefix|      seller_city|seller_state|seller_state_full|geolocation_lat|geolocation_lng|\n",
      "+--------------------+----------------------+-----------------+------------+-----------------+---------------+---------------+\n",
      "|8bd0f31cf0a614c65...|                  1222|        sao paulo|          SP|        Sao Paulo|   -23.54715958|   -46.64989461|\n",
      "|768a86e36ad6aae3d...|                  1529|        sao paulo|          SP|        Sao Paulo|   -23.56935316|   -46.63690014|\n",
      "|c0f3eea2e14555b6f...|                  4195|        sao paulo|          SP|        Sao Paulo|   -23.65725018|   -46.61075945|\n",
      "|05a48cc8859962767...|                  5372|        sao paulo|          SP|        Sao Paulo|   -23.58316603|   -46.76124388|\n",
      "|c35affa65afd25015...|                  8050|        sao paulo|          SP|        Sao Paulo|   -23.51101953|   -46.46270108|\n",
      "|da4d149c0ddbac905...|                  9861|              sbc|          SP|        Sao Paulo|   -23.69588905|   -46.58174395|\n",
      "|51a04a8a6bdcb23de...|                 12914|braganca paulista|          SP|        Sao Paulo|   -22.97164751|   -46.53361841|\n",
      "|3442f8959a84dea7e...|                 13023|         campinas|          SP|        Sao Paulo|   -22.89853643|   -47.06312517|\n",
      "|a7a9b880c49781da6...|                 13530|        itirapina|          SP|        Sao Paulo|   -22.24952039|   -47.81123678|\n",
      "|d1b65fc7debc3361e...|                 13844|       mogi guacu|          SP|        Sao Paulo|   -22.38294112|   -46.94664125|\n",
      "|1b938a7ec6ac5061a...|                 16304|        penapolis|          SP|        Sao Paulo|   -21.44212438|   -50.07351409|\n",
      "|ce3ad9de960102d06...|                 20031|   rio de janeiro|          RJ|   Rio de Janeiro|   -22.91064097|   -43.17650983|\n",
      "|c240c4061717ac180...|                 20920|   rio de janeiro|          RJ|   Rio de Janeiro|   -22.89141262|   -43.22976146|\n",
      "|ceb7b4fb9401cd378...|                 22790|   rio de janeiro|          RJ|   Rio de Janeiro|   -23.01133469|   -43.45025642|\n",
      "|1444c08e64d55fb3c...|                 42738| lauro de freitas|          BA|            Bahia|   -12.89511259|      -38.33896|\n",
      "|e49c26c3edfa46d22...|                 55325|           brejao|          PE|       Pernambuco|   -9.024839005|   -36.57020045|\n",
      "|8cb7c5ddf41f4d506...|                 75110|         anapolis|          GO|            Goias|   -16.32794215|   -48.93600324|\n",
      "|e0878efa0e0b7e531...|                 80230|         curitiba|          PR|           Parana|   -25.44041155|   -49.27281542|\n",
      "|ccc4bbb5f32a6ab2b...|                 80310|         curitiba|          PR|           Parana|   -25.46402932|   -49.30472795|\n",
      "|e9874ae10b2d60d43...|                 86604|         rolandia|          PR|           Parana|   -23.32035842|   -51.38586195|\n",
      "+--------------------+----------------------+-----------------+------------+-----------------+---------------+---------------+\n",
      "only showing top 20 rows\n",
      "\n"
     ]
    }
   ],
   "source": [
    "joined_sellers_geo_df = joined_sellers_geo_df.drop(\"geolocation_zip_code_prefix\")\n",
    "joined_sellers_geo_df.show()\n"
   ]
  },
  {
   "cell_type": "code",
   "execution_count": 34,
   "metadata": {
    "colab": {
     "base_uri": "https://localhost:8080/"
    },
    "id": "P-hNX-n9UGIC",
    "outputId": "cc59e3d8-eead-4b94-a051-48f8c62d17fa"
   },
   "outputs": [
    {
     "name": "stdout",
     "output_type": "stream",
     "text": [
      "+--------------------+----------------------+--------------------+------------+-----------------+---------------+---------------+---------+\n",
      "|           seller_id|seller_zip_code_prefix|         seller_city|seller_state|seller_state_full|geolocation_lat|geolocation_lng|Seller_SK|\n",
      "+--------------------+----------------------+--------------------+------------+-----------------+---------------+---------------+---------+\n",
      "|0015a82c2db000af6...|                  9080|         santo andre|          SP|        Sao Paulo|   -23.64443891|   -46.53988531|        1|\n",
      "|001cca7ae9ae17fb1...|                 29156|           cariacica|          ES|   Espirito Santo|   -20.29753658|   -40.40086854|        2|\n",
      "|001e6ad469a905060...|                 24754|         sao goncalo|          RJ|   Rio de Janeiro|   -22.87403983|    -43.0330893|        3|\n",
      "|002100f778ceb8431...|                 14405|              franca|          SP|        Sao Paulo|   -20.50679363|   -47.40773764|        4|\n",
      "|003554e2dce176b55...|                 74565|             goiania|          GO|            Goias|    -16.6484115|   -49.31119125|        5|\n",
      "|004c9cd9d87a3c30c...|                 14940|            ibitinga|          SP|        Sao Paulo|   -21.76647685|   -48.83154738|        6|\n",
      "|00720abe85ba08598...|                  7070|           guarulhos|          SP|        Sao Paulo|   -23.45179751|   -46.55390065|        7|\n",
      "|00ab3eff1b5192e5f...|                  4164|           sao paulo|          SP|        Sao Paulo|    -23.6234373|   -46.60877366|        8|\n",
      "|00d8b143d12632bad...|                 30170|      belo horizonte|          MG|     Minas Gerais|    -19.9244923|   -43.94703961|        9|\n",
      "|00ee68308b45bc5e2...|                  3333|           sao paulo|          SP|        Sao Paulo|      -23.55685|   -46.56941527|       10|\n",
      "|00fc707aaaad2d313...|                 87025|             maringa|          PR|           Parana|     -23.377397|   -51.93100618|       11|\n",
      "|010543a62bd80aa42...|                  1212|           sao paulo|          SP|        Sao Paulo|   -23.53751126|   -46.63705731|       12|\n",
      "|010da0602d7774602...|                  9710|sao bernardo do c...|          SP|        Sao Paulo|   -23.70899726|   -46.54812621|       13|\n",
      "|011b0eaba87386a2a...|                 17580|             pompeia|          SP|        Sao Paulo|   -22.10502157|   -50.17388669|       14|\n",
      "|01266d4c46afa5196...|                 80250|            curitiba|          PR|           Parana|   -25.43896815|   -49.27448441|       15|\n",
      "|013900e863eace745...|                 80740|            curitiba|          PR|           Parana|   -25.44145497|   -49.31273063|       16|\n",
      "|014c0679dd340a0e3...|                 35180|             timoteo|          MG|     Minas Gerais|   -19.54373078|   -42.65162109|       17|\n",
      "|014d9a685fd572766...|                 87015|             maringa|          PR|           Parana|   -23.42880634|   -51.97183135|       18|\n",
      "|0176f73cc1195f367...|                 14940|            ibitinga|          SP|        Sao Paulo|   -21.76647685|   -48.83154738|       19|\n",
      "|01bcc9d254a0143f0...|                 76400|              uruacu|          GO|            Goias|   -14.51852287|    -49.1319174|       20|\n",
      "+--------------------+----------------------+--------------------+------------+-----------------+---------------+---------------+---------+\n",
      "only showing top 20 rows\n",
      "\n"
     ]
    }
   ],
   "source": [
    "#Add SK column to sellers df\n",
    "windowSpec_sellers = Window.orderBy(\"seller_id\")\n",
    "df_sellers_with_sk = joined_sellers_geo_df.withColumn(\"Seller_SK\", row_number().over(windowSpec_sellers))\n",
    "df_sellers_with_sk.show()"
   ]
  },
  {
   "cell_type": "code",
   "execution_count": 35,
   "metadata": {
    "colab": {
     "base_uri": "https://localhost:8080/"
    },
    "id": "YoBRnoi6UzJO",
    "outputId": "c626eb40-0f40-4f1e-9505-4425d7a4a707"
   },
   "outputs": [
    {
     "name": "stdout",
     "output_type": "stream",
     "text": [
      "+---------+--------------------+----------------------+--------------------+------------+-----------------+---------------+---------------+\n",
      "|Seller_SK|           seller_id|seller_zip_code_prefix|         seller_city|seller_state|seller_state_full|geolocation_lat|geolocation_lng|\n",
      "+---------+--------------------+----------------------+--------------------+------------+-----------------+---------------+---------------+\n",
      "|        1|0015a82c2db000af6...|                  9080|         santo andre|          SP|        Sao Paulo|   -23.64443891|   -46.53988531|\n",
      "|        2|001cca7ae9ae17fb1...|                 29156|           cariacica|          ES|   Espirito Santo|   -20.29753658|   -40.40086854|\n",
      "|        3|001e6ad469a905060...|                 24754|         sao goncalo|          RJ|   Rio de Janeiro|   -22.87403983|    -43.0330893|\n",
      "|        4|002100f778ceb8431...|                 14405|              franca|          SP|        Sao Paulo|   -20.50679363|   -47.40773764|\n",
      "|        5|003554e2dce176b55...|                 74565|             goiania|          GO|            Goias|    -16.6484115|   -49.31119125|\n",
      "|        6|004c9cd9d87a3c30c...|                 14940|            ibitinga|          SP|        Sao Paulo|   -21.76647685|   -48.83154738|\n",
      "|        7|00720abe85ba08598...|                  7070|           guarulhos|          SP|        Sao Paulo|   -23.45179751|   -46.55390065|\n",
      "|        8|00ab3eff1b5192e5f...|                  4164|           sao paulo|          SP|        Sao Paulo|    -23.6234373|   -46.60877366|\n",
      "|        9|00d8b143d12632bad...|                 30170|      belo horizonte|          MG|     Minas Gerais|    -19.9244923|   -43.94703961|\n",
      "|       10|00ee68308b45bc5e2...|                  3333|           sao paulo|          SP|        Sao Paulo|      -23.55685|   -46.56941527|\n",
      "|       11|00fc707aaaad2d313...|                 87025|             maringa|          PR|           Parana|     -23.377397|   -51.93100618|\n",
      "|       12|010543a62bd80aa42...|                  1212|           sao paulo|          SP|        Sao Paulo|   -23.53751126|   -46.63705731|\n",
      "|       13|010da0602d7774602...|                  9710|sao bernardo do c...|          SP|        Sao Paulo|   -23.70899726|   -46.54812621|\n",
      "|       14|011b0eaba87386a2a...|                 17580|             pompeia|          SP|        Sao Paulo|   -22.10502157|   -50.17388669|\n",
      "|       15|01266d4c46afa5196...|                 80250|            curitiba|          PR|           Parana|   -25.43896815|   -49.27448441|\n",
      "|       16|013900e863eace745...|                 80740|            curitiba|          PR|           Parana|   -25.44145497|   -49.31273063|\n",
      "|       17|014c0679dd340a0e3...|                 35180|             timoteo|          MG|     Minas Gerais|   -19.54373078|   -42.65162109|\n",
      "|       18|014d9a685fd572766...|                 87015|             maringa|          PR|           Parana|   -23.42880634|   -51.97183135|\n",
      "|       19|0176f73cc1195f367...|                 14940|            ibitinga|          SP|        Sao Paulo|   -21.76647685|   -48.83154738|\n",
      "|       20|01bcc9d254a0143f0...|                 76400|              uruacu|          GO|            Goias|   -14.51852287|    -49.1319174|\n",
      "+---------+--------------------+----------------------+--------------------+------------+-----------------+---------------+---------------+\n",
      "only showing top 20 rows\n",
      "\n"
     ]
    }
   ],
   "source": [
    "# Get all column names, move 'sk' to the front\n",
    "cols = df_sellers_with_sk.columns\n",
    "cols = ['Seller_SK'] + [col for col in cols if col != 'Seller_SK']\n",
    "\n",
    "# Reorder the DataFrame\n",
    "df_reordered_sellers = df_sellers_with_sk.select(cols)\n",
    "df_reordered_sellers.show()"
   ]
  },
  {
   "cell_type": "code",
   "execution_count": 36,
   "metadata": {
    "colab": {
     "base_uri": "https://localhost:8080/"
    },
    "id": "GG4kxPcaaG1Y",
    "outputId": "146a00d4-070e-484b-ae38-1bfe0f909889"
   },
   "outputs": [
    {
     "name": "stdout",
     "output_type": "stream",
     "text": [
      "+---------+--------------------+----------------------+--------------------+------------+-----------------+---------------+---------------+----------+--------+----------+\n",
      "|Seller_SK|           seller_id|seller_zip_code_prefix|         seller_city|seller_state|seller_state_full|geolocation_lat|geolocation_lng|start_date|end_date|is_current|\n",
      "+---------+--------------------+----------------------+--------------------+------------+-----------------+---------------+---------------+----------+--------+----------+\n",
      "|        1|0015a82c2db000af6...|                  9080|         santo andre|          SP|        Sao Paulo|   -23.64443891|   -46.53988531|2025-04-10|    null|      true|\n",
      "|        2|001cca7ae9ae17fb1...|                 29156|           cariacica|          ES|   Espirito Santo|   -20.29753658|   -40.40086854|2025-04-10|    null|      true|\n",
      "|        3|001e6ad469a905060...|                 24754|         sao goncalo|          RJ|   Rio de Janeiro|   -22.87403983|    -43.0330893|2025-04-10|    null|      true|\n",
      "|        4|002100f778ceb8431...|                 14405|              franca|          SP|        Sao Paulo|   -20.50679363|   -47.40773764|2025-04-10|    null|      true|\n",
      "|        5|003554e2dce176b55...|                 74565|             goiania|          GO|            Goias|    -16.6484115|   -49.31119125|2025-04-10|    null|      true|\n",
      "|        6|004c9cd9d87a3c30c...|                 14940|            ibitinga|          SP|        Sao Paulo|   -21.76647685|   -48.83154738|2025-04-10|    null|      true|\n",
      "|        7|00720abe85ba08598...|                  7070|           guarulhos|          SP|        Sao Paulo|   -23.45179751|   -46.55390065|2025-04-10|    null|      true|\n",
      "|        8|00ab3eff1b5192e5f...|                  4164|           sao paulo|          SP|        Sao Paulo|    -23.6234373|   -46.60877366|2025-04-10|    null|      true|\n",
      "|        9|00d8b143d12632bad...|                 30170|      belo horizonte|          MG|     Minas Gerais|    -19.9244923|   -43.94703961|2025-04-10|    null|      true|\n",
      "|       10|00ee68308b45bc5e2...|                  3333|           sao paulo|          SP|        Sao Paulo|      -23.55685|   -46.56941527|2025-04-10|    null|      true|\n",
      "|       11|00fc707aaaad2d313...|                 87025|             maringa|          PR|           Parana|     -23.377397|   -51.93100618|2025-04-10|    null|      true|\n",
      "|       12|010543a62bd80aa42...|                  1212|           sao paulo|          SP|        Sao Paulo|   -23.53751126|   -46.63705731|2025-04-10|    null|      true|\n",
      "|       13|010da0602d7774602...|                  9710|sao bernardo do c...|          SP|        Sao Paulo|   -23.70899726|   -46.54812621|2025-04-10|    null|      true|\n",
      "|       14|011b0eaba87386a2a...|                 17580|             pompeia|          SP|        Sao Paulo|   -22.10502157|   -50.17388669|2025-04-10|    null|      true|\n",
      "|       15|01266d4c46afa5196...|                 80250|            curitiba|          PR|           Parana|   -25.43896815|   -49.27448441|2025-04-10|    null|      true|\n",
      "|       16|013900e863eace745...|                 80740|            curitiba|          PR|           Parana|   -25.44145497|   -49.31273063|2025-04-10|    null|      true|\n",
      "|       17|014c0679dd340a0e3...|                 35180|             timoteo|          MG|     Minas Gerais|   -19.54373078|   -42.65162109|2025-04-10|    null|      true|\n",
      "|       18|014d9a685fd572766...|                 87015|             maringa|          PR|           Parana|   -23.42880634|   -51.97183135|2025-04-10|    null|      true|\n",
      "|       19|0176f73cc1195f367...|                 14940|            ibitinga|          SP|        Sao Paulo|   -21.76647685|   -48.83154738|2025-04-10|    null|      true|\n",
      "|       20|01bcc9d254a0143f0...|                 76400|              uruacu|          GO|            Goias|   -14.51852287|    -49.1319174|2025-04-10|    null|      true|\n",
      "+---------+--------------------+----------------------+--------------------+------------+-----------------+---------------+---------------+----------+--------+----------+\n",
      "only showing top 20 rows\n",
      "\n"
     ]
    }
   ],
   "source": [
    "#Add SCD\n",
    "df_sellers_scd = df_reordered_sellers.withColumn(\"start_date\", current_date()) \\\n",
    "                   .withColumn(\"end_date\", lit(None).cast(\"date\")) \\\n",
    "                   .withColumn(\"is_current\", lit(True))\n",
    "\n",
    "df_sellers_scd.show()\n",
    "\n"
   ]
  },
  {
   "cell_type": "markdown",
   "metadata": {
    "id": "PHquxOSsc8lt"
   },
   "source": [
    "# load"
   ]
  },
  {
   "cell_type": "markdown",
   "metadata": {},
   "source": [
    "- show final schema"
   ]
  },
  {
   "cell_type": "code",
   "execution_count": 39,
   "metadata": {
    "id": "ar2ZczmZc7Mz"
   },
   "outputs": [
    {
     "name": "stdout",
     "output_type": "stream",
     "text": [
      "root\n",
      " |-- customer_SK: integer (nullable = false)\n",
      " |-- customer_id: string (nullable = true)\n",
      " |-- customer_unique_id: string (nullable = true)\n",
      " |-- customer_zip_code_prefix: integer (nullable = true)\n",
      " |-- customer_city: string (nullable = true)\n",
      " |-- customer_state: string (nullable = true)\n",
      " |-- gender: string (nullable = true)\n",
      " |-- age: integer (nullable = true)\n",
      " |-- marital_status: string (nullable = true)\n",
      " |-- customer_state_full: string (nullable = true)\n",
      " |-- geolocation_lat: double (nullable = true)\n",
      " |-- geolocation_lng: double (nullable = true)\n",
      " |-- start_date: date (nullable = false)\n",
      " |-- end_date: date (nullable = true)\n",
      " |-- is_current: boolean (nullable = false)\n",
      "\n"
     ]
    }
   ],
   "source": [
    "#customer\n",
    "df_customers_scd.printSchema()"
   ]
  },
  {
   "cell_type": "code",
   "execution_count": 40,
   "metadata": {},
   "outputs": [
    {
     "name": "stdout",
     "output_type": "stream",
     "text": [
      "root\n",
      " |-- Seller_SK: integer (nullable = false)\n",
      " |-- seller_id: string (nullable = true)\n",
      " |-- seller_zip_code_prefix: integer (nullable = true)\n",
      " |-- seller_city: string (nullable = true)\n",
      " |-- seller_state: string (nullable = true)\n",
      " |-- seller_state_full: string (nullable = true)\n",
      " |-- geolocation_lat: double (nullable = true)\n",
      " |-- geolocation_lng: double (nullable = true)\n",
      " |-- start_date: date (nullable = false)\n",
      " |-- end_date: date (nullable = true)\n",
      " |-- is_current: boolean (nullable = false)\n",
      "\n"
     ]
    }
   ],
   "source": [
    "#seller\n",
    "df_sellers_scd.printSchema()"
   ]
  },
  {
   "cell_type": "markdown",
   "metadata": {
    "id": "Ng0Wz4m3dTiZ"
   },
   "source": [
    "- df to load:"
   ]
  },
  {
   "cell_type": "code",
   "execution_count": null,
   "metadata": {},
   "outputs": [],
   "source": [
    "df_customers_scd"
   ]
  },
  {
   "cell_type": "code",
   "execution_count": null,
   "metadata": {},
   "outputs": [],
   "source": [
    "df_sellers_scd"
   ]
  }
 ],
 "metadata": {
  "colab": {
   "provenance": []
  },
  "kernelspec": {
   "display_name": "Python 3 (ipykernel)",
   "language": "python",
   "name": "python3"
  },
  "language_info": {
   "codemirror_mode": {
    "name": "ipython",
    "version": 3
   },
   "file_extension": ".py",
   "mimetype": "text/x-python",
   "name": "python",
   "nbconvert_exporter": "python",
   "pygments_lexer": "ipython3",
   "version": "3.12.3"
  }
 },
 "nbformat": 4,
 "nbformat_minor": 4
}
