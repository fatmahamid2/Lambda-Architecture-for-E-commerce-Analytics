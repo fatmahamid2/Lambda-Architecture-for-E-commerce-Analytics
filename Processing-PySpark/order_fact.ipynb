{
 "cells": [
  {
   "cell_type": "code",
   "execution_count": 1,
   "id": "540001f5-7741-48c3-8226-0a0d7f671b08",
   "metadata": {},
   "outputs": [],
   "source": [
    "import os\n",
    "import findspark\n",
    "\n",
    "# Set the Spark installation path\n",
    "os.environ[\"SPARK_HOME\"] = \"/home/elham/hadoop/spark-3.5.5\"  \n",
    "os.environ[\"PYSPARK_PYTHON\"] = \"python3\"  \n",
    "\n",
    "# Initialize findspark\n",
    "findspark.init()"
   ]
  },
  {
   "cell_type": "code",
   "execution_count": 2,
   "id": "7b513294-3e03-4f16-87a8-e073fe803fab",
   "metadata": {},
   "outputs": [],
   "source": [
    "from pyspark.sql import SparkSession\n",
    "from pyspark.sql.functions import *\n",
    "from pyspark.sql.types import *"
   ]
  },
  {
   "cell_type": "code",
   "execution_count": 3,
   "id": "99cea196-2c2e-45ce-808a-468314e34867",
   "metadata": {},
   "outputs": [
    {
     "data": {
      "text/html": [
       "<style>pre { white-space: pre !important; }</style>"
      ],
      "text/plain": [
       "<IPython.core.display.HTML object>"
      ]
     },
     "metadata": {},
     "output_type": "display_data"
    }
   ],
   "source": [
    "## To display notebook cell with horizontal scroll bar\n",
    "from IPython.display import display, HTML\n",
    "display(HTML(\"<style>pre { white-space: pre !important; }</style>\"))"
   ]
  },
  {
   "cell_type": "code",
   "execution_count": 4,
   "id": "51c84d4b-cad7-40fa-a9ce-f010c0d4aae5",
   "metadata": {},
   "outputs": [
    {
     "name": "stderr",
     "output_type": "stream",
     "text": [
      "25/04/13 15:41:46 WARN Utils: Your hostname, DESKTOP-CKKDTOM resolves to a loopback address: 127.0.1.1; using 172.30.19.133 instead (on interface eth0)\n",
      "25/04/13 15:41:46 WARN Utils: Set SPARK_LOCAL_IP if you need to bind to another address\n",
      "25/04/13 15:41:47 WARN NativeCodeLoader: Unable to load native-hadoop library for your platform... using builtin-java classes where applicable\n",
      "Setting default log level to \"WARN\".\n",
      "To adjust logging level use sc.setLogLevel(newLevel). For SparkR, use setLogLevel(newLevel).\n",
      "25/04/13 15:41:50 WARN Utils: Service 'SparkUI' could not bind on port 4040. Attempting port 4041.\n"
     ]
    }
   ],
   "source": [
    "# Replace with the path to your PostgreSQL JDBC jar file\n",
    "jdbc_driver_path = \"/home/elham/hadoop/spark-3.5.5/jars/postgresql-42.3.5.jar\"\n",
    "\n",
    "# starting spark session\n",
    "spark = SparkSession.builder \\\n",
    "    .appName(\"Order Fact ETL\") \\\n",
    "    .config(\"spark.jars\", jdbc_driver_path) \\\n",
    "    .config(\"spark.executor.memory\", \"2g\") \\\n",
    "    .config(\"spark.driver.memory\", \"2g\") \\\n",
    "    .config(\"spark.sql.shuffle.partitions\", \"16\") \\\n",
    "    .config(\"spark.sql.execution.arrow.pyspark.enabled\", \"true\") \\\n",
    "    .getOrCreate()"
   ]
  },
  {
   "cell_type": "code",
   "execution_count": 5,
   "id": "6a8bda27-6a99-440a-8be9-b1ea7fcaa43b",
   "metadata": {},
   "outputs": [],
   "source": [
    "jdbc_url = \"jdbc:postgresql://172.30.16.1:5432/olist_ecommerce\"\n",
    "properties = {\n",
    "    \"user\": \"postgres\",\n",
    "    \"password\": \"31012009\",\n",
    "    \"driver\": \"org.postgresql.Driver\"\n",
    "}"
   ]
  },
  {
   "cell_type": "markdown",
   "id": "8009ed41-c727-41e7-9b8f-2da1ca21320d",
   "metadata": {},
   "source": [
    "### Checking the schema and data types for the orders table and order items tables and viewing the data"
   ]
  },
  {
   "cell_type": "code",
   "execution_count": 6,
   "id": "5ce99254-e66f-42e7-a825-8de6004441b2",
   "metadata": {},
   "outputs": [
    {
     "name": "stdout",
     "output_type": "stream",
     "text": [
      "root\n",
      " |-- order_id: string (nullable = true)\n",
      " |-- customer_id: string (nullable = true)\n",
      " |-- order_status: string (nullable = true)\n",
      " |-- order_purchase_timestamp: timestamp (nullable = true)\n",
      " |-- order_approved_at: timestamp (nullable = true)\n",
      " |-- order_delivered_carrier_date: timestamp (nullable = true)\n",
      " |-- order_delivered_customer_date: timestamp (nullable = true)\n",
      " |-- order_estimated_delivery_date: timestamp (nullable = true)\n",
      "\n"
     ]
    }
   ],
   "source": [
    "order_table = spark.read.jdbc(url=jdbc_url, table=\"orders\", properties=properties)\n",
    "order_table.printSchema()"
   ]
  },
  {
   "cell_type": "code",
   "execution_count": 7,
   "id": "b95a9652-55d0-4ede-b779-e84b7e688eac",
   "metadata": {},
   "outputs": [
    {
     "name": "stdout",
     "output_type": "stream",
     "text": [
      "root\n",
      " |-- order_id: string (nullable = true)\n",
      " |-- order_item_id: integer (nullable = true)\n",
      " |-- product_id: string (nullable = true)\n",
      " |-- seller_id: string (nullable = true)\n",
      " |-- shipping_limit_date: timestamp (nullable = true)\n",
      " |-- price: double (nullable = true)\n",
      " |-- freight_value: double (nullable = true)\n",
      "\n"
     ]
    }
   ],
   "source": [
    "order_item_table = spark.read.jdbc(url=jdbc_url, table=\"order_items\", properties=properties)\n",
    "order_item_table.printSchema()"
   ]
  },
  {
   "cell_type": "code",
   "execution_count": 8,
   "id": "c8b2b117-4d58-4fb9-8f39-98871a7b9390",
   "metadata": {},
   "outputs": [
    {
     "name": "stderr",
     "output_type": "stream",
     "text": [
      "                                                                                "
     ]
    },
    {
     "name": "stdout",
     "output_type": "stream",
     "text": [
      "+--------------------+--------------------+------------+------------------------+-------------------+----------------------------+-----------------------------+-----------------------------+\n",
      "|            order_id|         customer_id|order_status|order_purchase_timestamp|  order_approved_at|order_delivered_carrier_date|order_delivered_customer_date|order_estimated_delivery_date|\n",
      "+--------------------+--------------------+------------+------------------------+-------------------+----------------------------+-----------------------------+-----------------------------+\n",
      "|e481f51cbdc54678b...|9ef432eb625129730...|   delivered|     2017-10-02 10:56:00|2017-10-02 11:07:00|         2017-10-04 19:55:00|          2017-10-10 21:25:00|          2017-10-18 00:00:00|\n",
      "|53cdb2fc8bc7dce0b...|b0830fb4747a6c6d2...|   delivered|     2018-07-24 20:41:00|2018-07-26 03:24:00|         2018-07-26 14:31:00|          2018-08-07 15:27:00|          2018-08-13 00:00:00|\n",
      "|47770eb9100c2d0c4...|41ce2a54c0b03bf34...|   delivered|     2018-08-08 08:38:00|2018-08-08 08:55:00|         2018-08-08 13:50:00|          2018-08-17 18:06:00|          2018-09-04 00:00:00|\n",
      "|949d5b44dbf5de918...|f88197465ea7920ad...|   delivered|     2017-11-18 19:28:00|2017-11-18 19:45:00|         2017-11-22 13:39:00|          2017-12-02 00:28:00|          2017-12-15 00:00:00|\n",
      "|ad21c59c0840e6cb8...|8ab97904e6daea886...|   delivered|     2018-02-13 21:18:00|2018-02-13 22:20:00|         2018-02-14 19:46:00|          2018-02-16 18:17:00|          2018-02-26 00:00:00|\n",
      "|a4591c265e18cb1dc...|503740e9ca751ccdd...|   delivered|     2017-07-09 21:57:00|2017-07-09 22:10:00|         2017-07-11 14:58:00|          2017-07-26 10:57:00|          2017-08-01 00:00:00|\n",
      "|136cce7faa42fdb2c...|ed0271e0b7da060a3...|    invoiced|     2017-04-11 12:22:00|2017-04-13 13:25:00|                        NULL|                         NULL|          2017-05-09 00:00:00|\n",
      "|6514b8ad8028c9f2c...|9bdf08b4b3b52b552...|   delivered|     2017-05-16 13:10:00|2017-05-16 13:22:00|         2017-05-22 10:07:00|          2017-05-26 12:55:00|          2017-06-07 00:00:00|\n",
      "|76c6e866289321a7c...|f54a9f0e6b351c431...|   delivered|     2017-01-23 18:29:00|2017-01-25 02:50:00|         2017-01-26 14:16:00|          2017-02-02 14:08:00|          2017-03-06 00:00:00|\n",
      "|e69bfb5eb88e0ed6a...|31ad1d1b63eb99624...|   delivered|     2017-07-29 11:55:00|2017-07-29 12:05:00|         2017-08-10 19:45:00|          2017-08-16 17:14:00|          2017-08-23 00:00:00|\n",
      "|e6ce16cb79ec1d90b...|494dded5b201313c6...|   delivered|     2017-05-16 19:41:00|2017-05-16 19:50:00|         2017-05-18 11:40:00|          2017-05-29 11:18:00|          2017-06-07 00:00:00|\n",
      "|34513ce0c4fab462a...|7711cf624183d843a...|   delivered|     2017-07-13 19:58:00|2017-07-13 20:10:00|         2017-07-14 18:43:00|          2017-07-19 14:04:00|          2017-08-08 00:00:00|\n",
      "|82566a660a982b15f...|d3e3b74c766bc6214...|   delivered|     2018-06-07 10:06:00|2018-06-09 03:13:00|         2018-06-11 13:29:00|          2018-06-19 12:05:00|          2018-07-18 00:00:00|\n",
      "|5ff96c15d0b717ac6...|19402a48fe860416a...|   delivered|     2018-07-25 17:44:00|2018-07-25 17:55:00|         2018-07-26 13:16:00|          2018-07-30 15:52:00|          2018-08-08 00:00:00|\n",
      "|432aaf21d85167c2c...|3df704f53d3f1d481...|   delivered|     2018-03-01 14:14:00|2018-03-01 15:10:00|         2018-03-02 21:09:00|          2018-03-12 23:36:00|          2018-03-21 00:00:00|\n",
      "|dcb36b511fcac050b...|3b6828a50ffe54694...|   delivered|     2018-06-07 19:03:00|2018-06-12 23:31:00|         2018-06-11 14:54:00|          2018-06-21 15:34:00|          2018-07-04 00:00:00|\n",
      "|403b97836b0c04a62...|738b086814c6fcc74...|   delivered|     2018-01-02 19:00:00|2018-01-02 19:09:00|         2018-01-03 18:19:00|          2018-01-20 01:38:00|          2018-02-06 00:00:00|\n",
      "|116f0b09343b49556...|3187789bec9909876...|   delivered|     2017-12-26 23:41:00|2017-12-26 23:50:00|         2017-12-28 18:33:00|          2018-01-08 22:36:00|          2018-01-29 00:00:00|\n",
      "|85ce859fd6dc634de...|059f7fc5719c7da6c...|   delivered|     2017-11-21 00:03:00|2017-11-21 00:14:00|         2017-11-23 21:32:00|          2017-11-27 18:28:00|          2017-12-11 00:00:00|\n",
      "|83018ec114eee8641...|7f8c8b9c2ae27bf33...|   delivered|     2017-10-26 15:54:00|2017-10-26 16:08:00|         2017-10-26 21:46:00|          2017-11-08 22:22:00|          2017-11-23 00:00:00|\n",
      "+--------------------+--------------------+------------+------------------------+-------------------+----------------------------+-----------------------------+-----------------------------+\n",
      "only showing top 20 rows\n",
      "\n"
     ]
    }
   ],
   "source": [
    "order_table.show()"
   ]
  },
  {
   "cell_type": "code",
   "execution_count": 40,
   "id": "b60e6d54-7faa-4d71-9279-7b7184fceedd",
   "metadata": {},
   "outputs": [
    {
     "name": "stdout",
     "output_type": "stream",
     "text": [
      "+--------------------+-------------+--------------------+--------------------+-------------------+------+-------------+\n",
      "|            order_id|order_item_id|          product_id|           seller_id|shipping_limit_date| price|freight_value|\n",
      "+--------------------+-------------+--------------------+--------------------+-------------------+------+-------------+\n",
      "|00010242fe8c5a6d1...|            1|4244733e06e7ecb49...|48436dade18ac8b2b...|2017-09-19 09:45:00|  58.9|        13.29|\n",
      "|00018f77f2f0320c5...|            1|e5f2d52b802189ee6...|dd7ddc04e1b6c2c61...|2017-05-03 11:05:00| 239.9|        19.93|\n",
      "|000229ec398224ef6...|            1|c777355d18b72b67a...|5b51032eddd242adc...|2018-01-18 14:48:00| 199.0|        17.87|\n",
      "|00024acbcdf0a6daa...|            1|7634da152a4610f15...|9d7a1d34a50524090...|2018-08-15 10:10:00| 12.99|        12.79|\n",
      "|00042b26cf59d7ce6...|            1|ac6c3623068f30de0...|df560393f3a51e745...|2017-02-13 13:57:00| 199.9|        18.14|\n",
      "|00048cc3ae777c65d...|            1|ef92defde845ab845...|6426d21aca402a131...|2017-05-23 03:55:00|  21.9|        12.69|\n",
      "|00054e8431b9d7675...|            1|8d4f2bb7e93e6710a...|7040e82f899a04d1b...|2017-12-14 12:10:00|  19.9|        11.85|\n",
      "|000576fe39319847c...|            1|557d850972a7d6f79...|5996cddab893a4652...|2018-07-10 12:30:00| 810.0|        70.75|\n",
      "|0005a1a1728c9d785...|            1|310ae3c140ff94b03...|a416b6a846a117243...|2018-03-26 18:31:00|145.95|        11.65|\n",
      "|0005f50442cb953dc...|            1|4535b0e1091c278df...|ba143b05f0110f0dc...|2018-07-06 14:10:00| 53.99|         11.4|\n",
      "|00061f2a7bc09da83...|            1|d63c1011f49d98b97...|cc419e0650a3c5ba7...|2018-03-29 22:28:00| 59.99|         8.88|\n",
      "|00063b381e2406b52...|            1|f177554ea93259a5b...|8602a61d680a10a82...|2018-07-31 17:30:00|  45.0|        12.98|\n",
      "|0006ec9db01a64e59...|            1|99a4788cb24856965...|4a3ca9315b744ce9f...|2018-07-26 17:24:00|  74.0|        23.32|\n",
      "|0008288aa423d2a3f...|            1|368c6c730842d7801...|1f50f920176fa81da...|2018-02-21 02:55:00|  49.9|        13.37|\n",
      "|0008288aa423d2a3f...|            2|368c6c730842d7801...|1f50f920176fa81da...|2018-02-21 02:55:00|  49.9|        13.37|\n",
      "|0009792311464db53...|            1|8cab8abac59158715...|530ec6109d11eaaf8...|2018-08-17 12:15:00|  99.9|        27.65|\n",
      "|0009c9a17f916a706...|            1|3f27ac8e699df3d30...|fcb5ace8bcc92f757...|2018-05-02 09:31:00| 639.0|        11.34|\n",
      "|000aed2e25dbad2f9...|            1|4fa33915031a8cde0...|fe2032dab1a61af87...|2018-05-16 20:57:00| 144.0|         8.77|\n",
      "|000c3e6612759851c...|            1|b50c950aba0dcead2...|218d46b86c1881d02...|2017-08-21 03:33:00|  99.0|        13.71|\n",
      "|000e562887b1f2006...|            1|5ed9eaf534f6936b5...|8cbac7e12637ed9cf...|2018-02-28 12:08:00|  25.0|        16.11|\n",
      "+--------------------+-------------+--------------------+--------------------+-------------------+------+-------------+\n",
      "only showing top 20 rows\n",
      "\n"
     ]
    },
    {
     "name": "stderr",
     "output_type": "stream",
     "text": [
      "                                                                                "
     ]
    }
   ],
   "source": [
    "order_item_table.show()"
   ]
  },
  {
   "cell_type": "markdown",
   "id": "b855b27d-65dc-45b6-ba6d-e557849903bb",
   "metadata": {},
   "source": [
    "### Checking the amount of nulls and describing the data"
   ]
  },
  {
   "cell_type": "code",
   "execution_count": 10,
   "id": "e1844475-da80-4fd1-b83d-b17224857543",
   "metadata": {},
   "outputs": [
    {
     "name": "stderr",
     "output_type": "stream",
     "text": [
      "[Stage 2:>                                                          (0 + 1) / 1]"
     ]
    },
    {
     "name": "stdout",
     "output_type": "stream",
     "text": [
      "+-------------+----------------+-----------------+-----------------------------+----------------------+---------------------------------+----------------------------------+----------------------------------+\n",
      "|order_id_null|customer_id_null|order_status_null|order_purchase_timestamp_null|order_approved_at_null|order_delivered_carrier_date_null|order_delivered_customer_date_null|order_estimated_delivery_date_null|\n",
      "+-------------+----------------+-----------------+-----------------------------+----------------------+---------------------------------+----------------------------------+----------------------------------+\n",
      "|            0|               0|                0|                            0|                   160|                             1783|                              2965|                                 0|\n",
      "+-------------+----------------+-----------------+-----------------------------+----------------------+---------------------------------+----------------------------------+----------------------------------+\n",
      "\n"
     ]
    },
    {
     "name": "stderr",
     "output_type": "stream",
     "text": [
      "                                                                                "
     ]
    }
   ],
   "source": [
    "# checking nulls in the order table\n",
    "order_table.select([sum(col(c).isNull().cast(\"int\")).alias(c+\"_null\") for c in order_table.columns]).show()"
   ]
  },
  {
   "cell_type": "code",
   "execution_count": 11,
   "id": "a90cddb1-10eb-4430-abd4-89a24cdbdb03",
   "metadata": {
    "scrolled": true
   },
   "outputs": [
    {
     "name": "stderr",
     "output_type": "stream",
     "text": [
      "[Stage 5:>                                                          (0 + 1) / 1]"
     ]
    },
    {
     "name": "stdout",
     "output_type": "stream",
     "text": [
      "+-------------+------------------+---------------+--------------+------------------------+----------+------------------+\n",
      "|order_id_null|order_item_id_null|product_id_null|seller_id_null|shipping_limit_date_null|price_null|freight_value_null|\n",
      "+-------------+------------------+---------------+--------------+------------------------+----------+------------------+\n",
      "|            0|                 0|              0|             0|                       0|         0|                 0|\n",
      "+-------------+------------------+---------------+--------------+------------------------+----------+------------------+\n",
      "\n"
     ]
    },
    {
     "name": "stderr",
     "output_type": "stream",
     "text": [
      "                                                                                "
     ]
    }
   ],
   "source": [
    "# checking nulls \n",
    "order_item_table.select([sum(col(c).isNull().cast(\"int\")).alias(c+\"_null\") for c in order_item_table.columns]).show()"
   ]
  },
  {
   "cell_type": "code",
   "execution_count": 12,
   "id": "6c0b78eb-cb2b-4915-a348-611294ffbe45",
   "metadata": {},
   "outputs": [
    {
     "name": "stderr",
     "output_type": "stream",
     "text": [
      "[Stage 8:>                                                          (0 + 1) / 1]"
     ]
    },
    {
     "name": "stdout",
     "output_type": "stream",
     "text": [
      "+-------+--------------------+--------------------+------------+\n",
      "|summary|            order_id|         customer_id|order_status|\n",
      "+-------+--------------------+--------------------+------------+\n",
      "|  count|               99441|               99441|       99441|\n",
      "|   mean|                NULL|                NULL|        NULL|\n",
      "| stddev|                NULL|                NULL|        NULL|\n",
      "|    min|00010242fe8c5a6d1...|00012a2ce6f8dcda2...|    approved|\n",
      "|    max|fffe41c64501cc87c...|ffffe8b65bbe3087b...| unavailable|\n",
      "+-------+--------------------+--------------------+------------+\n",
      "\n"
     ]
    },
    {
     "name": "stderr",
     "output_type": "stream",
     "text": [
      "                                                                                "
     ]
    }
   ],
   "source": [
    "order_table.describe().show()"
   ]
  },
  {
   "cell_type": "code",
   "execution_count": 13,
   "id": "891e2715-9476-412c-a6d5-a3d4eae77090",
   "metadata": {},
   "outputs": [
    {
     "name": "stderr",
     "output_type": "stream",
     "text": [
      "25/04/13 15:42:17 WARN SparkStringUtils: Truncated the string representation of a plan since it was too large. This behavior can be adjusted by setting 'spark.sql.debug.maxToStringFields'.\n",
      "[Stage 11:>                                                         (0 + 1) / 1]"
     ]
    },
    {
     "name": "stdout",
     "output_type": "stream",
     "text": [
      "+-------+--------------------+------------------+--------------------+--------------------+------------------+------------------+\n",
      "|summary|            order_id|     order_item_id|          product_id|           seller_id|             price|     freight_value|\n",
      "+-------+--------------------+------------------+--------------------+--------------------+------------------+------------------+\n",
      "|  count|              112650|            112650|              112650|              112650|            112650|            112650|\n",
      "|   mean|                NULL|1.1978339991122948|                NULL|                NULL|120.65373901477311| 19.99031992898562|\n",
      "| stddev|                NULL|0.7051240313951734|                NULL|                NULL| 183.6339280502597|15.806405412296998|\n",
      "|    min|00010242fe8c5a6d1...|                 1|00066f42aeeb9f300...|0015a82c2db000af6...|              0.85|               0.0|\n",
      "|    max|fffe41c64501cc87c...|                21|fffe9eeff12fcbd74...|ffff564a4f9085cd2...|            6735.0|            409.68|\n",
      "+-------+--------------------+------------------+--------------------+--------------------+------------------+------------------+\n",
      "\n"
     ]
    },
    {
     "name": "stderr",
     "output_type": "stream",
     "text": [
      "                                                                                "
     ]
    }
   ],
   "source": [
    "order_item_table.describe().show()"
   ]
  },
  {
   "cell_type": "markdown",
   "id": "f7825b7b-0af6-407f-baee-81db4f7e6238",
   "metadata": {},
   "source": [
    "### Viewing the distinct order ids in both the orders table and the order_items table to see if there are any missing order ids and the reason behind it "
   ]
  },
  {
   "cell_type": "code",
   "execution_count": 14,
   "id": "ba0210f4-e41d-4a92-b240-db357d1a33f7",
   "metadata": {},
   "outputs": [
    {
     "data": {
      "text/plain": [
       "99441"
      ]
     },
     "execution_count": 14,
     "metadata": {},
     "output_type": "execute_result"
    }
   ],
   "source": [
    "order_table.select(\"order_id\").count()"
   ]
  },
  {
   "cell_type": "code",
   "execution_count": 15,
   "id": "1bb02e65-17df-4af6-9a64-1c8a7b4a16fa",
   "metadata": {},
   "outputs": [
    {
     "data": {
      "text/plain": [
       "112650"
      ]
     },
     "execution_count": 15,
     "metadata": {},
     "output_type": "execute_result"
    }
   ],
   "source": [
    "order_item_table.count()"
   ]
  },
  {
   "cell_type": "code",
   "execution_count": 16,
   "id": "13aab9f2-aee1-42de-af63-3c01cb2b38a1",
   "metadata": {},
   "outputs": [
    {
     "name": "stderr",
     "output_type": "stream",
     "text": [
      "                                                                                "
     ]
    },
    {
     "data": {
      "text/plain": [
       "98666"
      ]
     },
     "execution_count": 16,
     "metadata": {},
     "output_type": "execute_result"
    }
   ],
   "source": [
    "order_item_table.select(\"order_id\").distinct().count()"
   ]
  },
  {
   "cell_type": "markdown",
   "id": "e3157fac-df7a-45b3-9e6e-227ec58bf938",
   "metadata": {},
   "source": [
    "### Checking the values of the order status column"
   ]
  },
  {
   "cell_type": "code",
   "execution_count": 17,
   "id": "f092053d-fd27-430a-b633-30089601f834",
   "metadata": {},
   "outputs": [
    {
     "name": "stdout",
     "output_type": "stream",
     "text": [
      "+------------+-----+\n",
      "|order_status|count|\n",
      "+------------+-----+\n",
      "|    invoiced|  314|\n",
      "|  processing|  301|\n",
      "|     shipped| 1107|\n",
      "| unavailable|  609|\n",
      "|     created|    5|\n",
      "|    approved|    2|\n",
      "|   delivered|96478|\n",
      "|    canceled|  625|\n",
      "+------------+-----+\n",
      "\n"
     ]
    }
   ],
   "source": [
    "order_table.groupBy(\"order_status\").count().show()"
   ]
  },
  {
   "cell_type": "markdown",
   "id": "a4bb9444-c00f-4a97-a105-c431445aae3a",
   "metadata": {},
   "source": [
    "### Joining the orders table and the order_items table"
   ]
  },
  {
   "cell_type": "code",
   "execution_count": 18,
   "id": "2f1c3e3c-2b51-4fd3-b75b-2b255e879c0a",
   "metadata": {},
   "outputs": [],
   "source": [
    "order_df = order_table.join(\n",
    "    order_item_table,\n",
    "    on = \"order_id\",\n",
    "    how = \"left\"\n",
    ")"
   ]
  },
  {
   "cell_type": "code",
   "execution_count": 19,
   "id": "5d59a7a2-ab35-4892-b20a-2b971ec0dbf5",
   "metadata": {},
   "outputs": [
    {
     "name": "stderr",
     "output_type": "stream",
     "text": [
      "                                                                                "
     ]
    },
    {
     "data": {
      "text/plain": [
       "113425"
      ]
     },
     "execution_count": 19,
     "metadata": {},
     "output_type": "execute_result"
    }
   ],
   "source": [
    "order_df.count()"
   ]
  },
  {
   "cell_type": "code",
   "execution_count": 20,
   "id": "6176d6d1-530f-4d49-9ea6-4ad425a788df",
   "metadata": {},
   "outputs": [
    {
     "name": "stderr",
     "output_type": "stream",
     "text": [
      "[Stage 42:=======================>                                  (2 + 3) / 5]"
     ]
    },
    {
     "name": "stdout",
     "output_type": "stream",
     "text": [
      "+-------------+----------------+-----------------+-----------------------------+----------------------+---------------------------------+----------------------------------+----------------------------------+------------------+---------------+--------------+------------------------+----------+------------------+\n",
      "|order_id_null|customer_id_null|order_status_null|order_purchase_timestamp_null|order_approved_at_null|order_delivered_carrier_date_null|order_delivered_customer_date_null|order_estimated_delivery_date_null|order_item_id_null|product_id_null|seller_id_null|shipping_limit_date_null|price_null|freight_value_null|\n",
      "+-------------+----------------+-----------------+-----------------------------+----------------------+---------------------------------+----------------------------------+----------------------------------+------------------+---------------+--------------+------------------------+----------+------------------+\n",
      "|            0|               0|                0|                            0|                   161|                             1968|                              3229|                                 0|               775|            775|           775|                     775|       775|               775|\n",
      "+-------------+----------------+-----------------+-----------------------------+----------------------+---------------------------------+----------------------------------+----------------------------------+------------------+---------------+--------------+------------------------+----------+------------------+\n",
      "\n"
     ]
    },
    {
     "name": "stderr",
     "output_type": "stream",
     "text": [
      "                                                                                "
     ]
    }
   ],
   "source": [
    "order_df.select([sum(col(c).isNull().cast(\"int\")).alias(c+\"_null\") for c in order_df.columns]).show()"
   ]
  },
  {
   "cell_type": "code",
   "execution_count": 21,
   "id": "ad3ec7a3-212f-424a-b2e3-0ae5f7621aa7",
   "metadata": {},
   "outputs": [
    {
     "data": {
      "text/plain": [
       "113425"
      ]
     },
     "execution_count": 21,
     "metadata": {},
     "output_type": "execute_result"
    }
   ],
   "source": [
    "order_df.select(\"order_id\").count()"
   ]
  },
  {
   "cell_type": "code",
   "execution_count": 22,
   "id": "5a867caf-dfe4-4ebe-9d36-4361b0a642d6",
   "metadata": {},
   "outputs": [
    {
     "data": {
      "text/plain": [
       "99441"
      ]
     },
     "execution_count": 22,
     "metadata": {},
     "output_type": "execute_result"
    }
   ],
   "source": [
    "order_df.select(\"order_id\").distinct().count()"
   ]
  },
  {
   "cell_type": "code",
   "execution_count": 23,
   "id": "84d42cb9-0da0-4d2d-8204-0df0e02bed1d",
   "metadata": {},
   "outputs": [
    {
     "name": "stdout",
     "output_type": "stream",
     "text": [
      "root\n",
      " |-- order_id: string (nullable = true)\n",
      " |-- customer_id: string (nullable = true)\n",
      " |-- order_status: string (nullable = true)\n",
      " |-- order_purchase_timestamp: timestamp (nullable = true)\n",
      " |-- order_approved_at: timestamp (nullable = true)\n",
      " |-- order_delivered_carrier_date: timestamp (nullable = true)\n",
      " |-- order_delivered_customer_date: timestamp (nullable = true)\n",
      " |-- order_estimated_delivery_date: timestamp (nullable = true)\n",
      " |-- order_item_id: integer (nullable = true)\n",
      " |-- product_id: string (nullable = true)\n",
      " |-- seller_id: string (nullable = true)\n",
      " |-- shipping_limit_date: timestamp (nullable = true)\n",
      " |-- price: double (nullable = true)\n",
      " |-- freight_value: double (nullable = true)\n",
      "\n"
     ]
    }
   ],
   "source": [
    "order_df.printSchema()"
   ]
  },
  {
   "cell_type": "markdown",
   "id": "8a349eb9-e252-4e23-9eee-b9c4f644416f",
   "metadata": {},
   "source": [
    "### Extracting and dding the date key column(s) to match the date_sk in the date dimension"
   ]
  },
  {
   "cell_type": "code",
   "execution_count": 24,
   "id": "8c811268-28e0-44a0-9f26-027ce447ec46",
   "metadata": {},
   "outputs": [],
   "source": [
    "# extracting the date key from the date columns to match the date keys in the date dimension\n",
    "order_df = order_df.withColumn(\n",
    "    \"purchase_date_key\",\n",
    "    date_format(\"order_purchase_timestamp\", \"yyyyMMdd\").cast(\"int\")\n",
    ").withColumn(\n",
    "    \"order_approval_date_key\",\n",
    "    date_format(\"order_approved_at\", \"yyyyMMdd\").cast(\"int\")\n",
    ").withColumn(\n",
    "    \"delivery_to_carrier_date_key\",\n",
    "    date_format(\"order_delivered_carrier_date\", \"yyyyMMdd\").cast(\"int\")\n",
    ").withColumn(\n",
    "    \"delivery_to_customer_date_key\",\n",
    "    date_format(\"order_delivered_customer_date\", \"yyyyMMdd\").cast(\"int\")\n",
    ").withColumn(\n",
    "    \"estimated_delivery_date_key\",\n",
    "    date_format(\"order_estimated_delivery_date\", \"yyyyMMdd\").cast(\"int\")\n",
    ").withColumn(\n",
    "    \"shipping_limit_date_key\",\n",
    "    date_format(\"shipping_limit_date\", \"yyyyMMdd\").cast(\"int\")\n",
    ")"
   ]
  },
  {
   "cell_type": "code",
   "execution_count": 25,
   "id": "420256e6-b7d6-4e68-8369-e6a981fc8366",
   "metadata": {},
   "outputs": [
    {
     "name": "stdout",
     "output_type": "stream",
     "text": [
      "root\n",
      " |-- order_id: string (nullable = true)\n",
      " |-- customer_id: string (nullable = true)\n",
      " |-- order_status: string (nullable = true)\n",
      " |-- order_purchase_timestamp: timestamp (nullable = true)\n",
      " |-- order_approved_at: timestamp (nullable = true)\n",
      " |-- order_delivered_carrier_date: timestamp (nullable = true)\n",
      " |-- order_delivered_customer_date: timestamp (nullable = true)\n",
      " |-- order_estimated_delivery_date: timestamp (nullable = true)\n",
      " |-- order_item_id: integer (nullable = true)\n",
      " |-- product_id: string (nullable = true)\n",
      " |-- seller_id: string (nullable = true)\n",
      " |-- shipping_limit_date: timestamp (nullable = true)\n",
      " |-- price: double (nullable = true)\n",
      " |-- freight_value: double (nullable = true)\n",
      " |-- purchase_date_key: integer (nullable = true)\n",
      " |-- order_approval_date_key: integer (nullable = true)\n",
      " |-- delivery_to_carrier_date_key: integer (nullable = true)\n",
      " |-- delivery_to_customer_date_key: integer (nullable = true)\n",
      " |-- estimated_delivery_date_key: integer (nullable = true)\n",
      " |-- shipping_limit_date_key: integer (nullable = true)\n",
      "\n"
     ]
    }
   ],
   "source": [
    "order_df.printSchema()"
   ]
  },
  {
   "cell_type": "markdown",
   "id": "71f6ad47-7c29-47e1-8e20-6cdb695cb88a",
   "metadata": {},
   "source": [
    "### Calculating Fact measures and adding them to the order_df table"
   ]
  },
  {
   "cell_type": "code",
   "execution_count": 26,
   "id": "b0ac2cde-af77-4fbe-bfbf-f923160b3e3e",
   "metadata": {},
   "outputs": [],
   "source": [
    "total_order_item_df = order_item_table.groupBy(\"order_id\").agg(\n",
    "    sum(\"price\").alias(\"total_products_value\"),\n",
    "    sum(\"freight_value\").alias(\"total_freight_value\")\n",
    ").withColumn(\n",
    "    \"total_order_price\",\n",
    "    (col(\"total_products_value\") + col(\"total_freight_value\")).cast(\"double\")\n",
    ")"
   ]
  },
  {
   "cell_type": "code",
   "execution_count": 27,
   "id": "b9464a3c-2a70-49e3-813f-7e871d96efd5",
   "metadata": {},
   "outputs": [],
   "source": [
    "order_df = order_df.join(\n",
    "    total_order_item_df,\n",
    "    on = \"order_id\",\n",
    "    how = \"left\"\n",
    ")"
   ]
  },
  {
   "cell_type": "code",
   "execution_count": 28,
   "id": "13b7afbf-584e-4a56-aa98-75224a593925",
   "metadata": {},
   "outputs": [
    {
     "name": "stderr",
     "output_type": "stream",
     "text": [
      "                                                                                "
     ]
    },
    {
     "name": "stdout",
     "output_type": "stream",
     "text": [
      "+--------------------+--------------------+------------+------------------------+-------------------+----------------------------+-----------------------------+-----------------------------+-------------+--------------------+--------------------+-------------------+------+-------------+-----------------+-----------------------+----------------------------+-----------------------------+---------------------------+-----------------------+--------------------+-------------------+------------------+\n",
      "|            order_id|         customer_id|order_status|order_purchase_timestamp|  order_approved_at|order_delivered_carrier_date|order_delivered_customer_date|order_estimated_delivery_date|order_item_id|          product_id|           seller_id|shipping_limit_date| price|freight_value|purchase_date_key|order_approval_date_key|delivery_to_carrier_date_key|delivery_to_customer_date_key|estimated_delivery_date_key|shipping_limit_date_key|total_products_value|total_freight_value| total_order_price|\n",
      "+--------------------+--------------------+------------+------------------------+-------------------+----------------------------+-----------------------------+-----------------------------+-------------+--------------------+--------------------+-------------------+------+-------------+-----------------+-----------------------+----------------------------+-----------------------------+---------------------------+-----------------------+--------------------+-------------------+------------------+\n",
      "|116f0b09343b49556...|3187789bec9909876...|   delivered|     2017-12-26 23:41:00|2017-12-26 23:50:00|         2017-12-28 18:33:00|          2018-01-08 22:36:00|          2018-01-29 00:00:00|            1|a47295965bd091207...|ea8482cd71df3c196...|2018-01-02 23:50:00| 27.99|         15.1|         20171226|               20171226|                    20171228|                     20180108|                   20180129|               20180102|               27.99|               15.1|43.089999999999996|\n",
      "|403b97836b0c04a62...|738b086814c6fcc74...|   delivered|     2018-01-02 19:00:00|2018-01-02 19:09:00|         2018-01-03 18:19:00|          2018-01-20 01:38:00|          2018-02-06 00:00:00|            1|638bbb2a5e4f360b7...|c4af86330efa7a262...|2018-01-12 19:09:00|1299.0|        77.45|         20180102|               20180102|                    20180103|                     20180120|                   20180206|               20180112|              1299.0|              77.45|           1376.45|\n",
      "|47770eb9100c2d0c4...|41ce2a54c0b03bf34...|   delivered|     2018-08-08 08:38:00|2018-08-08 08:55:00|         2018-08-08 13:50:00|          2018-08-17 18:06:00|          2018-09-04 00:00:00|            1|aa4383b373c6aca5d...|4869f7a5dfa277a7d...|2018-08-13 08:55:00| 159.9|        19.22|         20180808|               20180808|                    20180808|                     20180817|                   20180904|               20180813|               159.9|              19.22|            179.12|\n",
      "|949d5b44dbf5de918...|f88197465ea7920ad...|   delivered|     2017-11-18 19:28:00|2017-11-18 19:45:00|         2017-11-22 13:39:00|          2017-12-02 00:28:00|          2017-12-15 00:00:00|            1|d0b61bfb1de832b15...|66922902710d126a0...|2017-11-23 19:45:00|  45.0|         27.2|         20171118|               20171118|                    20171122|                     20171202|                   20171215|               20171123|                45.0|               27.2|              72.2|\n",
      "|6514b8ad8028c9f2c...|9bdf08b4b3b52b552...|   delivered|     2017-05-16 13:10:00|2017-05-16 13:22:00|         2017-05-22 10:07:00|          2017-05-26 12:55:00|          2017-06-07 00:00:00|            1|4520766ec412348b8...|16090f2ca825584b5...|2017-05-22 13:22:00| 59.99|        15.17|         20170516|               20170516|                    20170522|                     20170526|                   20170607|               20170522|               59.99|              15.17|             75.16|\n",
      "|76c6e866289321a7c...|f54a9f0e6b351c431...|   delivered|     2017-01-23 18:29:00|2017-01-25 02:50:00|         2017-01-26 14:16:00|          2017-02-02 14:08:00|          2017-03-06 00:00:00|            1|ac1789e492dcd698c...|63b9ae557efed31d1...|2017-01-27 18:29:00|  19.9|        16.05|         20170123|               20170125|                    20170126|                     20170202|                   20170306|               20170127|                19.9|              16.05|             35.95|\n",
      "|85ce859fd6dc634de...|059f7fc5719c7da6c...|   delivered|     2017-11-21 00:03:00|2017-11-21 00:14:00|         2017-11-23 21:32:00|          2017-11-27 18:28:00|          2017-12-11 00:00:00|            1|cce679660c66e6fbd...|d2374cbcbb3ca4ab1...|2017-11-29 00:14:00|  17.9|        11.85|         20171121|               20171121|                    20171123|                     20171127|                   20171211|               20171129|                17.9|              11.85|             29.75|\n",
      "|dcb36b511fcac050b...|3b6828a50ffe54694...|   delivered|     2018-06-07 19:03:00|2018-06-12 23:31:00|         2018-06-11 14:54:00|          2018-06-21 15:34:00|          2018-07-04 00:00:00|            1|009c09f439988bc06...|89a51f50b8095ea78...|2018-06-18 18:59:00| 132.4|        14.05|         20180607|               20180612|                    20180611|                     20180621|                   20180704|               20180618|               132.4|              14.05|146.45000000000002|\n",
      "|e6ce16cb79ec1d90b...|494dded5b201313c6...|   delivered|     2017-05-16 19:41:00|2017-05-16 19:50:00|         2017-05-18 11:40:00|          2017-05-29 11:18:00|          2017-06-07 00:00:00|            1|08574b074924071f4...|001cca7ae9ae17fb1...|2017-05-22 19:50:00|  99.0|        30.53|         20170516|               20170516|                    20170518|                     20170529|                   20170607|               20170522|               198.0|              61.06|            259.06|\n",
      "|e6ce16cb79ec1d90b...|494dded5b201313c6...|   delivered|     2017-05-16 19:41:00|2017-05-16 19:50:00|         2017-05-18 11:40:00|          2017-05-29 11:18:00|          2017-06-07 00:00:00|            2|08574b074924071f4...|001cca7ae9ae17fb1...|2017-05-22 19:50:00|  99.0|        30.53|         20170516|               20170516|                    20170518|                     20170529|                   20170607|               20170522|               198.0|              61.06|            259.06|\n",
      "|136cce7faa42fdb2c...|ed0271e0b7da060a3...|    invoiced|     2017-04-11 12:22:00|2017-04-13 13:25:00|                        NULL|                         NULL|          2017-05-09 00:00:00|            1|a1804276d9941ac07...|dc8798cbf453b7e0f...|2017-04-19 13:25:00|  49.9|        16.05|         20170411|               20170413|                        NULL|                         NULL|                   20170509|               20170419|                49.9|              16.05|             65.95|\n",
      "|34513ce0c4fab462a...|7711cf624183d843a...|   delivered|     2017-07-13 19:58:00|2017-07-13 20:10:00|         2017-07-14 18:43:00|          2017-07-19 14:04:00|          2017-08-08 00:00:00|            1|f7e0fa615b386bc9a...|87142160b41353c4e...|2017-07-19 20:10:00|  98.0|        16.13|         20170713|               20170713|                    20170714|                     20170719|                   20170808|               20170719|                98.0|              16.13|            114.13|\n",
      "|432aaf21d85167c2c...|3df704f53d3f1d481...|   delivered|     2018-03-01 14:14:00|2018-03-01 15:10:00|         2018-03-02 21:09:00|          2018-03-12 23:36:00|          2018-03-21 00:00:00|            1|72d3bf1d3a790f887...|0bae85eb84b9fb3bd...|2018-03-07 15:10:00| 38.25|        16.11|         20180301|               20180301|                    20180302|                     20180312|                   20180321|               20180307|               38.25|              16.11|             54.36|\n",
      "|5ff96c15d0b717ac6...|19402a48fe860416a...|   delivered|     2018-07-25 17:44:00|2018-07-25 17:55:00|         2018-07-26 13:16:00|          2018-07-30 15:52:00|          2018-08-08 00:00:00|            1|10adb53d8faa890ca...|1900267e848ceeba8...|2018-07-27 17:55:00|  19.9|         12.8|         20180725|               20180725|                    20180726|                     20180730|                   20180808|               20180727|                19.9|               12.8|              32.7|\n",
      "|82566a660a982b15f...|d3e3b74c766bc6214...|   delivered|     2018-06-07 10:06:00|2018-06-09 03:13:00|         2018-06-11 13:29:00|          2018-06-19 12:05:00|          2018-07-18 00:00:00|            1|72a97c271b2e42997...|094ced053e257ae8c...|2018-06-18 03:13:00|  31.9|        18.23|         20180607|               20180609|                    20180611|                     20180619|                   20180718|               20180618|                31.9|              18.23|50.129999999999995|\n",
      "|83018ec114eee8641...|7f8c8b9c2ae27bf33...|   delivered|     2017-10-26 15:54:00|2017-10-26 16:08:00|         2017-10-26 21:46:00|          2017-11-08 22:22:00|          2017-11-23 00:00:00|            1|c35498fbb4358837a...|70a12e78e608ac311...|2017-11-01 16:07:00|  76.0|        16.97|         20171026|               20171026|                    20171026|                     20171108|                   20171123|               20171101|                76.0|              16.97|             92.97|\n",
      "|ad21c59c0840e6cb8...|8ab97904e6daea886...|   delivered|     2018-02-13 21:18:00|2018-02-13 22:20:00|         2018-02-14 19:46:00|          2018-02-16 18:17:00|          2018-02-26 00:00:00|            1|65266b2da20d04dbe...|2c9e548be18521d1c...|2018-02-19 20:31:00|  19.9|         8.72|         20180213|               20180213|                    20180214|                     20180216|                   20180226|               20180219|                19.9|               8.72|28.619999999999997|\n",
      "|e481f51cbdc54678b...|9ef432eb625129730...|   delivered|     2017-10-02 10:56:00|2017-10-02 11:07:00|         2017-10-04 19:55:00|          2017-10-10 21:25:00|          2017-10-18 00:00:00|            1|87285b34884572647...|3504c0cb71d7fa48d...|2017-10-06 11:07:00| 29.99|         8.72|         20171002|               20171002|                    20171004|                     20171010|                   20171018|               20171006|               29.99|               8.72|             38.71|\n",
      "|e69bfb5eb88e0ed6a...|31ad1d1b63eb99624...|   delivered|     2017-07-29 11:55:00|2017-07-29 12:05:00|         2017-08-10 19:45:00|          2017-08-16 17:14:00|          2017-08-23 00:00:00|            1|9a78fb9862b10749a...|7c67e1448b00f6e96...|2017-08-11 12:05:00|149.99|        19.77|         20170729|               20170729|                    20170810|                     20170816|                   20170823|               20170811|              149.99|              19.77|169.76000000000002|\n",
      "|203096f03d82e0dff...|d2b091571da224a1b...|   delivered|     2017-09-18 14:31:00|2017-09-19 04:04:00|         2017-10-06 17:50:00|          2017-10-09 22:23:00|          2017-09-28 00:00:00|            1|5ac9d9e379c606e36...|633ecdf879b94b533...|2017-09-25 04:04:00| 109.9|         8.96|         20170918|               20170919|                    20171006|                     20171009|                   20170928|               20170925|               109.9|               8.96|118.86000000000001|\n",
      "+--------------------+--------------------+------------+------------------------+-------------------+----------------------------+-----------------------------+-----------------------------+-------------+--------------------+--------------------+-------------------+------+-------------+-----------------+-----------------------+----------------------------+-----------------------------+---------------------------+-----------------------+--------------------+-------------------+------------------+\n",
      "only showing top 20 rows\n",
      "\n"
     ]
    }
   ],
   "source": [
    "order_df.show()"
   ]
  },
  {
   "cell_type": "markdown",
   "id": "68424a82-17c0-40db-a8d8-ca0365d7fa2e",
   "metadata": {},
   "source": [
    "### Connecting to the data warehouse and reading the dimensions"
   ]
  },
  {
   "cell_type": "code",
   "execution_count": 29,
   "id": "3061c261-b895-4a06-9aab-4b8b63924c0d",
   "metadata": {},
   "outputs": [],
   "source": [
    "jdbc_url = \"jdbc:postgresql://172.30.16.1:5432/olist_data_warehouse\""
   ]
  },
  {
   "cell_type": "code",
   "execution_count": 30,
   "id": "007b8b20-b1ac-462a-a30b-1d59ab23c33e",
   "metadata": {},
   "outputs": [],
   "source": [
    "properties = {\n",
    "    \"user\": \"postgres\",\n",
    "    \"password\": \"31012009\",\n",
    "    \"driver\": \"org.postgresql.Driver\"\n",
    "}"
   ]
  },
  {
   "cell_type": "code",
   "execution_count": 31,
   "id": "6061193a-f959-4bcd-9816-a7bd47d28e68",
   "metadata": {},
   "outputs": [],
   "source": [
    "customer_dim = spark.read.jdbc(url=jdbc_url, table=\"customer_dim\", properties=properties)\n",
    "seller_dim = spark.read.jdbc(url=jdbc_url, table=\"seller_dim\", properties=properties)\n",
    "product_dim = spark.read.jdbc(url=jdbc_url, table=\"product_dim\", properties=properties)\n",
    "payment_dim = spark.read.jdbc(url=jdbc_url, table=\"payment_dim\", properties=properties)\n",
    "reviews_dim = spark.read.jdbc(url=jdbc_url, table=\"reviews_dim\", properties=properties)"
   ]
  },
  {
   "cell_type": "markdown",
   "id": "0a3b3035-16fa-49b8-b364-2905a70629b6",
   "metadata": {},
   "source": [
    "### Joining the surrogate keys to the fact table"
   ]
  },
  {
   "cell_type": "code",
   "execution_count": 32,
   "id": "92c90434-7813-4a88-b981-eee14de84ba3",
   "metadata": {},
   "outputs": [],
   "source": [
    "order_df = order_df \\\n",
    ".join(customer_dim.select(\"customer_id\", \"customer_sk\"), on=\"customer_id\", how=\"left\") \\\n",
    ".join(seller_dim.select(\"seller_id\", \"seller_sk\"), on=\"seller_id\", how=\"left\") \\\n",
    ".join(product_dim.select(\"product_id\", \"product_sk\"), on=\"product_id\", how=\"left\") \\\n",
    ".join(payment_dim.select(\"order_id\", \"order_payment_sk\"), on=\"order_id\", how=\"left\")\\\n",
    ".join(reviews_dim.select(\"order_id\", \"review_sk\"), on=\"order_id\", how=\"left\")"
   ]
  },
  {
   "cell_type": "code",
   "execution_count": 33,
   "id": "3bca81fb-c914-4d5e-8c83-132115d26b6a",
   "metadata": {},
   "outputs": [],
   "source": [
    "order_df = order_df.withColumn(\"order_sk\", monotonically_increasing_id())"
   ]
  },
  {
   "cell_type": "code",
   "execution_count": 34,
   "id": "37ec223b-fa1e-4561-81bf-b16b66ce91e2",
   "metadata": {
    "scrolled": true
   },
   "outputs": [
    {
     "name": "stderr",
     "output_type": "stream",
     "text": [
      "[Stage 92:===========>                                              (1 + 4) / 5]"
     ]
    },
    {
     "name": "stdout",
     "output_type": "stream",
     "text": [
      "+-------------+------------------+---------------+--------------+------------------------+----------+------------------+\n",
      "|order_id_null|order_item_id_null|product_id_null|seller_id_null|shipping_limit_date_null|price_null|freight_value_null|\n",
      "+-------------+------------------+---------------+--------------+------------------------+----------+------------------+\n",
      "|            0|               830|            830|           830|                     830|       830|               830|\n",
      "+-------------+------------------+---------------+--------------+------------------------+----------+------------------+\n",
      "\n"
     ]
    },
    {
     "name": "stderr",
     "output_type": "stream",
     "text": [
      "                                                                                "
     ]
    }
   ],
   "source": [
    "order_df.select([sum(col(c).isNull().cast(\"int\")).alias(c+\"_null\") for c in order_item_table.columns]).show()"
   ]
  },
  {
   "cell_type": "code",
   "execution_count": 35,
   "id": "7b5ae410-9c9d-4047-b1eb-03b7002d569e",
   "metadata": {},
   "outputs": [
    {
     "name": "stderr",
     "output_type": "stream",
     "text": [
      "                                                                                "
     ]
    },
    {
     "data": {
      "text/plain": [
       "118762"
      ]
     },
     "execution_count": 35,
     "metadata": {},
     "output_type": "execute_result"
    }
   ],
   "source": [
    "order_df.count()"
   ]
  },
  {
   "cell_type": "code",
   "execution_count": 36,
   "id": "7b670d2f-03d3-460e-9fe4-33d1eedb25b0",
   "metadata": {},
   "outputs": [
    {
     "name": "stderr",
     "output_type": "stream",
     "text": [
      "                                                                                "
     ]
    },
    {
     "name": "stdout",
     "output_type": "stream",
     "text": [
      "+--------------------+--------------------+--------------------+--------------------+------------+------------------------+-------------------+----------------------------+-----------------------------+-----------------------------+-------------+-------------------+------+-------------+-----------------+-----------------------+----------------------------+-----------------------------+---------------------------+-----------------------+--------------------+-------------------+------------------+-----------+---------+----------+----------------+---------+--------+\n",
      "|            order_id|          product_id|           seller_id|         customer_id|order_status|order_purchase_timestamp|  order_approved_at|order_delivered_carrier_date|order_delivered_customer_date|order_estimated_delivery_date|order_item_id|shipping_limit_date| price|freight_value|purchase_date_key|order_approval_date_key|delivery_to_carrier_date_key|delivery_to_customer_date_key|estimated_delivery_date_key|shipping_limit_date_key|total_products_value|total_freight_value| total_order_price|customer_sk|seller_sk|product_sk|order_payment_sk|review_sk|order_sk|\n",
      "+--------------------+--------------------+--------------------+--------------------+------------+------------------------+-------------------+----------------------------+-----------------------------+-----------------------------+-------------+-------------------+------+-------------+-----------------+-----------------------+----------------------------+-----------------------------+---------------------------+-----------------------+--------------------+-------------------+------------------+-----------+---------+----------+----------------+---------+--------+\n",
      "|000229ec398224ef6...|c777355d18b72b67a...|5b51032eddd242adc...|6489ae5e4333f3693...|   delivered|     2018-01-14 14:33:00|2018-01-14 14:48:00|         2018-01-16 12:36:00|          2018-01-22 13:19:00|          2018-02-05 00:00:00|            1|2018-01-18 14:48:00| 199.0|        17.87|         20180114|               20180114|                    20180116|                     20180122|                   20180205|               20180118|               199.0|              17.87|            216.87|      38903|     1118|     25668|               3|     4224|       0|\n",
      "|00042b26cf59d7ce6...|ac6c3623068f30de0...|df560393f3a51e745...|58dbd0b2d70206bf4...|   delivered|     2017-02-04 13:57:00|2017-02-04 14:10:00|         2017-02-16 09:46:00|          2017-03-01 16:42:00|          2017-03-17 00:00:00|            1|2017-02-13 13:57:00| 199.9|        18.14|         20170204|               20170204|                    20170216|                     20170301|                   20170317|               20170213|               199.9|              18.14|218.04000000000002|      34382|     2698|     22080|               5|    55470|       1|\n",
      "|0005f50442cb953dc...|4535b0e1091c278df...|ba143b05f0110f0dc...|351d3cb2cee3c7fd0...|   delivered|     2018-07-02 13:59:00|2018-07-02 14:10:00|         2018-07-03 14:25:00|          2018-07-04 17:28:00|          2018-07-23 00:00:00|            1|2018-07-06 14:10:00| 53.99|         11.4|         20180702|               20180702|                    20180703|                     20180704|                   20180723|               20180706|               53.99|               11.4|             65.39|      20619|     2231|      9013|              10|    35897|       2|\n",
      "|00063b381e2406b52...|f177554ea93259a5b...|8602a61d680a10a82...|6a899e55865de6549...|   delivered|     2018-07-27 17:21:00|2018-07-27 18:00:00|         2018-07-30 14:52:00|          2018-08-07 13:56:00|          2018-08-07 00:00:00|            1|2018-07-31 17:30:00|  45.0|        12.98|         20180727|               20180727|                    20180730|                     20180807|                   20180807|               20180731|                45.0|              12.98|57.980000000000004|      41192|     1644|     31102|              12|    93007|       3|\n",
      "|0009792311464db53...|8cab8abac59158715...|530ec6109d11eaaf8...|2a30c97668e81df7c...|   delivered|     2018-08-14 20:43:00|2018-08-15 12:15:00|         2018-08-15 15:28:00|          2018-08-22 12:02:00|          2018-08-28 00:00:00|            1|2018-08-17 12:15:00|  99.9|        27.65|         20180814|               20180815|                    20180815|                     20180822|                   20180828|               20180817|                99.9|              27.65|127.55000000000001|      16402|     1013|     18083|              15|    65562|       4|\n",
      "|001021efaa8636c29...|5d7c23067ed3fc8c6...|6560211a19b47992c...|2dfbf74859104caf1...|   delivered|     2018-02-27 09:27:00|2018-02-27 09:35:00|         2018-02-27 21:43:00|          2018-03-08 20:06:00|          2018-03-23 00:00:00|            1|2018-03-05 09:35:00|  49.0|         15.1|         20180227|               20180227|                    20180227|                     20180308|                   20180323|               20180305|                49.0|               15.1|              64.1|      17830|     1236|     12118|              23|    62070|       5|\n",
      "|0010b2e5201cc5f1a...|5a419dbf24a8c9718...|3504c0cb71d7fa48d...|57ef317d4818cb426...|   delivered|     2017-09-11 17:39:00|2017-09-11 18:04:00|         2017-09-12 17:02:00|          2017-09-23 13:21:00|          2017-09-27 00:00:00|            1|2017-09-15 18:04:00|  48.9|         16.6|         20170911|               20170911|                    20170912|                     20170923|                   20170927|               20170915|                48.9|               16.6|              65.5|      34042|      631|     11708|              24|    69319|       6|\n",
      "|001dbc16dc51075e9...|777d2e438a1b645f3...|4a3ca9315b744ce9f...|698a74f33469466fa...|   delivered|     2017-01-28 13:17:00|2017-01-28 13:32:00|         2017-02-01 15:59:00|          2017-02-13 13:17:00|          2017-03-20 00:00:00|            1|2017-02-01 13:17:00|  69.9|         18.0|         20170128|               20170128|                    20170201|                     20170213|                   20170320|               20170201|                69.9|               18.0|              87.9|      40787|      882|     15483|              48|    67900|       7|\n",
      "|0020a222f55eb79a3...|e19ddcc85537b41f2...|8a32e327fe2c1b351...|0c45155afd8ff9962...|   delivered|     2017-08-15 02:45:00|2017-08-15 03:03:00|         2017-08-15 16:40:00|          2017-08-24 19:19:00|          2017-09-06 00:00:00|            1|2017-08-21 03:03:00| 29.99|         15.1|         20170815|               20170815|                    20170815|                     20170824|                   20170906|               20170821|               29.99|               15.1|45.089999999999996|       4739|     1695|     29064|              52|    71334|       8|\n",
      "|00254baeb6c932b0a...|18901878788fec7dd...|e8b4225284fbb02d1...|ce0421a97232c2a11...|   delivered|     2018-05-08 21:45:00|2018-05-08 22:14:00|         2018-05-09 13:51:00|          2018-05-30 19:38:00|          2018-06-05 00:00:00|            1|2018-05-14 22:14:00| 149.9|        43.11|         20180508|               20180508|                    20180509|                     20180530|                   20180605|               20180514|               149.9|              43.11|            193.01|      80285|     2810|      3247|              56|     1773|       9|\n",
      "|00276d5c3491fbf55...|71c89e9d8fa274b01...|8f78f090300506403...|54686c41e86854e35...|   delivered|     2018-02-13 11:47:00|2018-02-13 12:55:00|         2018-02-20 23:19:00|          2018-03-16 19:57:00|          2018-03-22 00:00:00|            1|2018-02-27 11:55:00|  44.9|        23.22|         20180213|               20180213|                    20180220|                     20180316|                   20180322|               20180227|                44.9|              23.22|             68.12|      32698|     1760|     14729|              63|    35862|      10|\n",
      "|0030d783f979fbc59...|ae27a5524edb2c8dc...|8e6cc767478edae94...|84ddc138522822dfb...|   delivered|     2017-11-24 20:03:00|2017-11-24 23:13:00|         2017-12-15 19:34:00|          2018-01-06 00:25:00|          2017-12-15 00:00:00|            1|2017-11-29 23:13:00|  60.6|        17.67|         20171124|               20171124|                    20171215|                     20180106|                   20171215|               20171129|                60.6|              17.67| 78.27000000000001|      51527|     1747|     22321|              78|    12033|      11|\n",
      "|0030ff924c3854980...|bd7cab8de4d794328...|855668e0971d4dfd7...|c46e1af5a15417246...|   delivered|     2018-03-25 16:52:00|2018-03-25 17:10:00|         2018-04-07 01:18:00|          2018-04-16 15:39:00|          2018-04-20 00:00:00|            1|2018-04-06 17:10:00| 225.0|        67.24|         20180325|               20180325|                    20180407|                     20180416|                   20180420|               20180406|               225.0|              67.24|            292.24|      76605|     1638|     24339|              79|    38404|      12|\n",
      "|0032d07457ae9c806...|08279c494018541f7...|e333046ce6517bd8b...|d356c20816dc75a30...|   delivered|     2018-03-10 18:53:00|2018-03-10 19:48:00|         2018-03-13 17:16:00|          2018-04-29 21:08:00|          2018-04-17 00:00:00|            1|2018-03-15 19:28:00| 159.0|        27.19|         20180310|               20180310|                    20180313|                     20180429|                   20180417|               20180315|               159.0|              27.19|            186.19|      82336|     2734|      1041|              82|     4951|      13|\n",
      "|003423b755b562962...|84904413b82eee333...|23c38debaffe4a25a...|18f1bb6325d50619d...|   delivered|     2018-07-08 11:28:00|2018-07-10 04:25:00|         2018-07-13 15:00:00|          2018-07-24 21:33:00|          2018-08-08 00:00:00|            1|2018-07-18 04:25:00|232.75|        28.58|         20180708|               20180710|                    20180713|                     20180724|                   20180808|               20180718|              232.75|              28.58|            261.33|       9702|      421|     17117|              87|    17599|      14|\n",
      "|0035c0b07126fe9c2...|ec02a5d380128f7a1...|8444e55c1f13cd5c1...|c8c4991d84dbfef1f...|   delivered|     2017-11-24 01:08:00|2017-11-24 01:29:00|         2017-11-28 17:17:00|          2017-12-07 16:59:00|          2018-01-03 00:00:00|            1|2017-12-12 01:29:00| 131.9|        18.54|         20171124|               20171124|                    20171128|                     20171207|                   20180103|               20171212|               131.9|              18.54|            150.44|      78249|     1627|     30384|              90|    24346|      15|\n",
      "|00378c6c981f23463...|38fa750a3a3b3204f...|218d46b86c1881d02...|f3476df115c5d26bd...|   delivered|     2018-02-02 19:39:00|2018-02-02 19:50:00|         2018-02-05 18:06:00|          2018-02-26 21:36:00|          2018-02-26 00:00:00|            1|2018-02-08 19:50:00|  41.0|        11.85|         20180202|               20180202|                    20180205|                     20180226|                   20180226|               20180208|                41.0|              11.85|             52.85|      94671|      402|      7413|              94|    59974|      16|\n",
      "|003a94f778ef8cfd5...|452f66a0f164cac57...|f80edd2c5aaa505cc...|da108bc410acffb14...|   delivered|     2018-08-03 14:52:00|2018-08-03 15:05:00|         2018-08-06 14:12:00|          2018-08-24 00:18:00|          2018-08-15 00:00:00|            1|2018-08-07 15:05:00|  39.9|        18.08|         20180803|               20180803|                    20180806|                     20180824|                   20180815|               20180807|                39.9|              18.08|             57.98|      84933|     3000|      9010|              98|    15967|      17|\n",
      "|0040a56893444cb56...|3f14d740544f37ece...|f457c46070d02cadd...|74454d0e51e0eeaaa...|   delivered|     2018-01-22 23:50:00|2018-01-23 00:15:00|         2018-01-23 23:46:00|          2018-02-14 23:12:00|          2018-02-21 00:00:00|            1|2018-01-29 00:15:00|  84.9|        34.39|         20180122|               20180123|                    20180123|                     20180214|                   20180221|               20180129|                84.9|              34.39|            119.29|      44993|     2959|      8228|             107|    72635|      18|\n",
      "|00418a49a685c6bb6...|5e21d5cab5d33e770...|6560211a19b47992c...|7d9edced80af5c950...|   delivered|     2017-10-03 20:43:00|2017-10-03 20:50:00|         2017-10-04 19:51:00|          2017-10-05 19:53:00|          2017-10-19 00:00:00|            1|2017-10-09 20:50:00|  49.0|         7.78|         20171003|               20171003|                    20171004|                     20171005|                   20171019|               20171009|                49.0|               7.78|             56.78|      48724|     1236|     12197|             109|    81789|      19|\n",
      "+--------------------+--------------------+--------------------+--------------------+------------+------------------------+-------------------+----------------------------+-----------------------------+-----------------------------+-------------+-------------------+------+-------------+-----------------+-----------------------+----------------------------+-----------------------------+---------------------------+-----------------------+--------------------+-------------------+------------------+-----------+---------+----------+----------------+---------+--------+\n",
      "only showing top 20 rows\n",
      "\n"
     ]
    }
   ],
   "source": [
    "order_df.show()"
   ]
  },
  {
   "cell_type": "code",
   "execution_count": 37,
   "id": "31234ed4-2906-414b-9d44-0021a6264be8",
   "metadata": {},
   "outputs": [
    {
     "data": {
      "text/plain": [
       "['order_id',\n",
       " 'product_id',\n",
       " 'seller_id',\n",
       " 'customer_id',\n",
       " 'order_status',\n",
       " 'order_purchase_timestamp',\n",
       " 'order_approved_at',\n",
       " 'order_delivered_carrier_date',\n",
       " 'order_delivered_customer_date',\n",
       " 'order_estimated_delivery_date',\n",
       " 'order_item_id',\n",
       " 'shipping_limit_date',\n",
       " 'price',\n",
       " 'freight_value',\n",
       " 'purchase_date_key',\n",
       " 'order_approval_date_key',\n",
       " 'delivery_to_carrier_date_key',\n",
       " 'delivery_to_customer_date_key',\n",
       " 'estimated_delivery_date_key',\n",
       " 'shipping_limit_date_key',\n",
       " 'total_products_value',\n",
       " 'total_freight_value',\n",
       " 'total_order_price',\n",
       " 'customer_sk',\n",
       " 'seller_sk',\n",
       " 'product_sk',\n",
       " 'order_payment_sk',\n",
       " 'review_sk',\n",
       " 'order_sk']"
      ]
     },
     "execution_count": 37,
     "metadata": {},
     "output_type": "execute_result"
    }
   ],
   "source": [
    "order_df.columns"
   ]
  },
  {
   "cell_type": "code",
   "execution_count": 38,
   "id": "fcbaac40-24fa-411b-ac43-c12f1bf6617c",
   "metadata": {},
   "outputs": [
    {
     "name": "stdout",
     "output_type": "stream",
     "text": [
      "root\n",
      " |-- order_id: string (nullable = true)\n",
      " |-- product_id: string (nullable = true)\n",
      " |-- seller_id: string (nullable = true)\n",
      " |-- customer_id: string (nullable = true)\n",
      " |-- order_status: string (nullable = true)\n",
      " |-- order_purchase_timestamp: timestamp (nullable = true)\n",
      " |-- order_approved_at: timestamp (nullable = true)\n",
      " |-- order_delivered_carrier_date: timestamp (nullable = true)\n",
      " |-- order_delivered_customer_date: timestamp (nullable = true)\n",
      " |-- order_estimated_delivery_date: timestamp (nullable = true)\n",
      " |-- order_item_id: integer (nullable = true)\n",
      " |-- shipping_limit_date: timestamp (nullable = true)\n",
      " |-- price: double (nullable = true)\n",
      " |-- freight_value: double (nullable = true)\n",
      " |-- purchase_date_key: integer (nullable = true)\n",
      " |-- order_approval_date_key: integer (nullable = true)\n",
      " |-- delivery_to_carrier_date_key: integer (nullable = true)\n",
      " |-- delivery_to_customer_date_key: integer (nullable = true)\n",
      " |-- estimated_delivery_date_key: integer (nullable = true)\n",
      " |-- shipping_limit_date_key: integer (nullable = true)\n",
      " |-- total_products_value: double (nullable = true)\n",
      " |-- total_freight_value: double (nullable = true)\n",
      " |-- total_order_price: double (nullable = true)\n",
      " |-- customer_sk: integer (nullable = true)\n",
      " |-- seller_sk: integer (nullable = true)\n",
      " |-- product_sk: integer (nullable = true)\n",
      " |-- order_payment_sk: integer (nullable = true)\n",
      " |-- review_sk: integer (nullable = true)\n",
      " |-- order_sk: long (nullable = false)\n",
      "\n"
     ]
    }
   ],
   "source": [
    "order_df.printSchema()"
   ]
  },
  {
   "cell_type": "markdown",
   "id": "3d8c9884-788f-429b-8601-9de691626d12",
   "metadata": {},
   "source": [
    "### Reordering Fact Columns and excluding business keys"
   ]
  },
  {
   "cell_type": "code",
   "execution_count": 42,
   "id": "3a3d9288-311f-4ffb-abb4-137532de5cbb",
   "metadata": {},
   "outputs": [],
   "source": [
    "order_fact = order_df.select(\n",
    "    \"order_sk\",\n",
    "    \"customer_sk\",\n",
    "    \"product_sk\",\n",
    "    \"seller_sk\",\n",
    "    \"review_sk\",\n",
    "    \"order_payment_sk\",\n",
    "    \"order_id\",\n",
    "    \"order_item_id\",\n",
    "    \"purchase_date_key\",\n",
    "    \"order_approval_date_key\",\n",
    "    \"delivery_to_carrier_date_key\",\n",
    "    \"delivery_to_customer_date_key\",\n",
    "    \"estimated_delivery_date_key\",\n",
    "    \"shipping_limit_date_key\",\n",
    "    \"order_status\",\n",
    "    \"order_purchase_timestamp\",\n",
    "    \"order_approved_at\",\n",
    "    \"order_delivered_carrier_date\",\n",
    "    \"order_delivered_customer_date\",\n",
    "    \"shipping_limit_date\",\n",
    "    \"price\",\n",
    "    \"freight_value\",\n",
    "    \"total_products_value\",\n",
    "    \"total_freight_value\",\n",
    "    \"total_order_price\"\n",
    ")"
   ]
  },
  {
   "cell_type": "code",
   "execution_count": 43,
   "id": "cadd1094-4f28-47fb-b47e-8cacffef0825",
   "metadata": {},
   "outputs": [
    {
     "name": "stderr",
     "output_type": "stream",
     "text": [
      "                                                                                "
     ]
    },
    {
     "name": "stdout",
     "output_type": "stream",
     "text": [
      "+--------+-----------+----------+---------+---------+----------------+--------------------+-------------+-----------------+-----------------------+----------------------------+-----------------------------+---------------------------+-----------------------+------------+------------------------+-------------------+----------------------------+-----------------------------+-------------------+------+-------------+--------------------+-------------------+------------------+\n",
      "|order_sk|customer_sk|product_sk|seller_sk|review_sk|order_payment_sk|            order_id|order_item_id|purchase_date_key|order_approval_date_key|delivery_to_carrier_date_key|delivery_to_customer_date_key|estimated_delivery_date_key|shipping_limit_date_key|order_status|order_purchase_timestamp|  order_approved_at|order_delivered_carrier_date|order_delivered_customer_date|shipping_limit_date| price|freight_value|total_products_value|total_freight_value| total_order_price|\n",
      "+--------+-----------+----------+---------+---------+----------------+--------------------+-------------+-----------------+-----------------------+----------------------------+-----------------------------+---------------------------+-----------------------+------------+------------------------+-------------------+----------------------------+-----------------------------+-------------------+------+-------------+--------------------+-------------------+------------------+\n",
      "|       0|      38903|     25668|     1118|     4224|               3|000229ec398224ef6...|            1|         20180114|               20180114|                    20180116|                     20180122|                   20180205|               20180118|   delivered|     2018-01-14 14:33:00|2018-01-14 14:48:00|         2018-01-16 12:36:00|          2018-01-22 13:19:00|2018-01-18 14:48:00| 199.0|        17.87|               199.0|              17.87|            216.87|\n",
      "|       1|      34382|     22080|     2698|    55470|               5|00042b26cf59d7ce6...|            1|         20170204|               20170204|                    20170216|                     20170301|                   20170317|               20170213|   delivered|     2017-02-04 13:57:00|2017-02-04 14:10:00|         2017-02-16 09:46:00|          2017-03-01 16:42:00|2017-02-13 13:57:00| 199.9|        18.14|               199.9|              18.14|218.04000000000002|\n",
      "|       2|      20619|      9013|     2231|    35897|              10|0005f50442cb953dc...|            1|         20180702|               20180702|                    20180703|                     20180704|                   20180723|               20180706|   delivered|     2018-07-02 13:59:00|2018-07-02 14:10:00|         2018-07-03 14:25:00|          2018-07-04 17:28:00|2018-07-06 14:10:00| 53.99|         11.4|               53.99|               11.4|             65.39|\n",
      "|       3|      41192|     31102|     1644|    93007|              12|00063b381e2406b52...|            1|         20180727|               20180727|                    20180730|                     20180807|                   20180807|               20180731|   delivered|     2018-07-27 17:21:00|2018-07-27 18:00:00|         2018-07-30 14:52:00|          2018-08-07 13:56:00|2018-07-31 17:30:00|  45.0|        12.98|                45.0|              12.98|57.980000000000004|\n",
      "|       4|      16402|     18083|     1013|    65562|              15|0009792311464db53...|            1|         20180814|               20180815|                    20180815|                     20180822|                   20180828|               20180817|   delivered|     2018-08-14 20:43:00|2018-08-15 12:15:00|         2018-08-15 15:28:00|          2018-08-22 12:02:00|2018-08-17 12:15:00|  99.9|        27.65|                99.9|              27.65|127.55000000000001|\n",
      "|       5|      17830|     12118|     1236|    62070|              23|001021efaa8636c29...|            1|         20180227|               20180227|                    20180227|                     20180308|                   20180323|               20180305|   delivered|     2018-02-27 09:27:00|2018-02-27 09:35:00|         2018-02-27 21:43:00|          2018-03-08 20:06:00|2018-03-05 09:35:00|  49.0|         15.1|                49.0|               15.1|              64.1|\n",
      "|       6|      34042|     11708|      631|    69319|              24|0010b2e5201cc5f1a...|            1|         20170911|               20170911|                    20170912|                     20170923|                   20170927|               20170915|   delivered|     2017-09-11 17:39:00|2017-09-11 18:04:00|         2017-09-12 17:02:00|          2017-09-23 13:21:00|2017-09-15 18:04:00|  48.9|         16.6|                48.9|               16.6|              65.5|\n",
      "|       7|      40787|     15483|      882|    67900|              48|001dbc16dc51075e9...|            1|         20170128|               20170128|                    20170201|                     20170213|                   20170320|               20170201|   delivered|     2017-01-28 13:17:00|2017-01-28 13:32:00|         2017-02-01 15:59:00|          2017-02-13 13:17:00|2017-02-01 13:17:00|  69.9|         18.0|                69.9|               18.0|              87.9|\n",
      "|       8|       4739|     29064|     1695|    71334|              52|0020a222f55eb79a3...|            1|         20170815|               20170815|                    20170815|                     20170824|                   20170906|               20170821|   delivered|     2017-08-15 02:45:00|2017-08-15 03:03:00|         2017-08-15 16:40:00|          2017-08-24 19:19:00|2017-08-21 03:03:00| 29.99|         15.1|               29.99|               15.1|45.089999999999996|\n",
      "|       9|      80285|      3247|     2810|     1773|              56|00254baeb6c932b0a...|            1|         20180508|               20180508|                    20180509|                     20180530|                   20180605|               20180514|   delivered|     2018-05-08 21:45:00|2018-05-08 22:14:00|         2018-05-09 13:51:00|          2018-05-30 19:38:00|2018-05-14 22:14:00| 149.9|        43.11|               149.9|              43.11|            193.01|\n",
      "|      10|      32698|     14729|     1760|    35862|              63|00276d5c3491fbf55...|            1|         20180213|               20180213|                    20180220|                     20180316|                   20180322|               20180227|   delivered|     2018-02-13 11:47:00|2018-02-13 12:55:00|         2018-02-20 23:19:00|          2018-03-16 19:57:00|2018-02-27 11:55:00|  44.9|        23.22|                44.9|              23.22|             68.12|\n",
      "|      11|      51527|     22321|     1747|    12033|              78|0030d783f979fbc59...|            1|         20171124|               20171124|                    20171215|                     20180106|                   20171215|               20171129|   delivered|     2017-11-24 20:03:00|2017-11-24 23:13:00|         2017-12-15 19:34:00|          2018-01-06 00:25:00|2017-11-29 23:13:00|  60.6|        17.67|                60.6|              17.67| 78.27000000000001|\n",
      "|      12|      76605|     24339|     1638|    38404|              79|0030ff924c3854980...|            1|         20180325|               20180325|                    20180407|                     20180416|                   20180420|               20180406|   delivered|     2018-03-25 16:52:00|2018-03-25 17:10:00|         2018-04-07 01:18:00|          2018-04-16 15:39:00|2018-04-06 17:10:00| 225.0|        67.24|               225.0|              67.24|            292.24|\n",
      "|      13|      82336|      1041|     2734|     4951|              82|0032d07457ae9c806...|            1|         20180310|               20180310|                    20180313|                     20180429|                   20180417|               20180315|   delivered|     2018-03-10 18:53:00|2018-03-10 19:48:00|         2018-03-13 17:16:00|          2018-04-29 21:08:00|2018-03-15 19:28:00| 159.0|        27.19|               159.0|              27.19|            186.19|\n",
      "|      14|       9702|     17117|      421|    17599|              87|003423b755b562962...|            1|         20180708|               20180710|                    20180713|                     20180724|                   20180808|               20180718|   delivered|     2018-07-08 11:28:00|2018-07-10 04:25:00|         2018-07-13 15:00:00|          2018-07-24 21:33:00|2018-07-18 04:25:00|232.75|        28.58|              232.75|              28.58|            261.33|\n",
      "|      15|      78249|     30384|     1627|    24346|              90|0035c0b07126fe9c2...|            1|         20171124|               20171124|                    20171128|                     20171207|                   20180103|               20171212|   delivered|     2017-11-24 01:08:00|2017-11-24 01:29:00|         2017-11-28 17:17:00|          2017-12-07 16:59:00|2017-12-12 01:29:00| 131.9|        18.54|               131.9|              18.54|            150.44|\n",
      "|      16|      94671|      7413|      402|    59974|              94|00378c6c981f23463...|            1|         20180202|               20180202|                    20180205|                     20180226|                   20180226|               20180208|   delivered|     2018-02-02 19:39:00|2018-02-02 19:50:00|         2018-02-05 18:06:00|          2018-02-26 21:36:00|2018-02-08 19:50:00|  41.0|        11.85|                41.0|              11.85|             52.85|\n",
      "|      17|      84933|      9010|     3000|    15967|              98|003a94f778ef8cfd5...|            1|         20180803|               20180803|                    20180806|                     20180824|                   20180815|               20180807|   delivered|     2018-08-03 14:52:00|2018-08-03 15:05:00|         2018-08-06 14:12:00|          2018-08-24 00:18:00|2018-08-07 15:05:00|  39.9|        18.08|                39.9|              18.08|             57.98|\n",
      "|      18|      44993|      8228|     2959|    72635|             107|0040a56893444cb56...|            1|         20180122|               20180123|                    20180123|                     20180214|                   20180221|               20180129|   delivered|     2018-01-22 23:50:00|2018-01-23 00:15:00|         2018-01-23 23:46:00|          2018-02-14 23:12:00|2018-01-29 00:15:00|  84.9|        34.39|                84.9|              34.39|            119.29|\n",
      "|      19|      48724|     12197|     1236|    81789|             109|00418a49a685c6bb6...|            1|         20171003|               20171003|                    20171004|                     20171005|                   20171019|               20171009|   delivered|     2017-10-03 20:43:00|2017-10-03 20:50:00|         2017-10-04 19:51:00|          2017-10-05 19:53:00|2017-10-09 20:50:00|  49.0|         7.78|                49.0|               7.78|             56.78|\n",
      "+--------+-----------+----------+---------+---------+----------------+--------------------+-------------+-----------------+-----------------------+----------------------------+-----------------------------+---------------------------+-----------------------+------------+------------------------+-------------------+----------------------------+-----------------------------+-------------------+------+-------------+--------------------+-------------------+------------------+\n",
      "only showing top 20 rows\n",
      "\n"
     ]
    }
   ],
   "source": [
    "order_fact.show()"
   ]
  },
  {
   "cell_type": "code",
   "execution_count": 45,
   "id": "88969df3-949b-4ebc-981e-06bf5673db98",
   "metadata": {},
   "outputs": [
    {
     "name": "stdout",
     "output_type": "stream",
     "text": [
      "root\n",
      " |-- order_sk: long (nullable = false)\n",
      " |-- customer_sk: integer (nullable = true)\n",
      " |-- product_sk: integer (nullable = true)\n",
      " |-- seller_sk: integer (nullable = true)\n",
      " |-- review_sk: integer (nullable = true)\n",
      " |-- order_payment_sk: integer (nullable = true)\n",
      " |-- order_id: string (nullable = true)\n",
      " |-- order_item_id: integer (nullable = true)\n",
      " |-- purchase_date_key: integer (nullable = true)\n",
      " |-- order_approval_date_key: integer (nullable = true)\n",
      " |-- delivery_to_carrier_date_key: integer (nullable = true)\n",
      " |-- delivery_to_customer_date_key: integer (nullable = true)\n",
      " |-- estimated_delivery_date_key: integer (nullable = true)\n",
      " |-- shipping_limit_date_key: integer (nullable = true)\n",
      " |-- order_status: string (nullable = true)\n",
      " |-- order_purchase_timestamp: timestamp (nullable = true)\n",
      " |-- order_approved_at: timestamp (nullable = true)\n",
      " |-- order_delivered_carrier_date: timestamp (nullable = true)\n",
      " |-- order_delivered_customer_date: timestamp (nullable = true)\n",
      " |-- shipping_limit_date: timestamp (nullable = true)\n",
      " |-- price: double (nullable = true)\n",
      " |-- freight_value: double (nullable = true)\n",
      " |-- total_products_value: double (nullable = true)\n",
      " |-- total_freight_value: double (nullable = true)\n",
      " |-- total_order_price: double (nullable = true)\n",
      "\n"
     ]
    }
   ],
   "source": [
    "order_fact.printSchema()"
   ]
  },
  {
   "cell_type": "code",
   "execution_count": 46,
   "id": "2c961503-8e2b-4cce-a344-b9c64aa04fbf",
   "metadata": {},
   "outputs": [
    {
     "name": "stderr",
     "output_type": "stream",
     "text": [
      "                                                                                "
     ]
    }
   ],
   "source": [
    "order_fact.write \\\n",
    "    .mode(\"overwrite\") \\\n",
    "    .option(\"header\", True) \\\n",
    "    .csv(\"output/order_fact.csv\")"
   ]
  },
  {
   "cell_type": "code",
   "execution_count": null,
   "id": "a37ddef9-fd4f-4702-bb87-dc73d92dfc0b",
   "metadata": {},
   "outputs": [],
   "source": []
  }
 ],
 "metadata": {
  "kernelspec": {
   "display_name": "Python 3 (ipykernel)",
   "language": "python",
   "name": "python3"
  },
  "language_info": {
   "codemirror_mode": {
    "name": "ipython",
    "version": 3
   },
   "file_extension": ".py",
   "mimetype": "text/x-python",
   "name": "python",
   "nbconvert_exporter": "python",
   "pygments_lexer": "ipython3",
   "version": "3.12.3"
  }
 },
 "nbformat": 4,
 "nbformat_minor": 5
}
